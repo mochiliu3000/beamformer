{
 "cells": [
  {
   "cell_type": "markdown",
   "metadata": {},
   "source": [
    "## Random Pursuit Extrapolation"
   ]
  },
  {
   "cell_type": "code",
   "execution_count": 1,
   "metadata": {},
   "outputs": [],
   "source": [
    "import numpy as np\n",
    "import pandas as pd\n",
    "import allantools\n",
    "import random\n",
    "\n",
    "import matplotlib.pyplot as plt\n",
    "%matplotlib inline"
   ]
  },
  {
   "cell_type": "markdown",
   "metadata": {},
   "source": [
    "### 1. Noise Removal"
   ]
  },
  {
   "cell_type": "markdown",
   "metadata": {},
   "source": [
    "There are several ways to remove the noise: Minus Optical Frequency Atomic Clock or by filtering"
   ]
  },
  {
   "cell_type": "code",
   "execution_count": 2,
   "metadata": {},
   "outputs": [
    {
     "name": "stdout",
     "output_type": "stream",
     "text": [
      "              0             1             2             3             4\n",
      "0 -4.537900e-14 -1.173813e-13 -4.935266e-14  5.261262e-14  3.341675e-14\n",
      "1 -2.265000e-14 -1.012483e-13 -2.193466e-14  7.542133e-14  5.472819e-14\n",
      "2 -2.400067e-14 -1.073680e-13 -3.274267e-14  7.192254e-14  4.664103e-14\n",
      "3 -3.465033e-14 -1.099903e-13 -3.329933e-14  6.341656e-14  4.328410e-14\n",
      "4 -4.402800e-14 -1.180173e-13 -4.402800e-14  5.793730e-14  3.468831e-14\n",
      "---------------------------------------------------------------------------------\n",
      "              0             1             2             3             4\n",
      "0 -3.186127e-14 -1.042013e-13 -3.368007e-14  7.139593e-14  4.629043e-14\n",
      "1 -3.329154e-14 -1.050449e-13 -3.480009e-14  7.011645e-14  4.475857e-14\n",
      "2 -3.232515e-14 -1.039899e-13 -3.387485e-14  7.111891e-14  4.525628e-14\n",
      "3 -3.188633e-14 -1.039053e-13 -3.381625e-14  7.073285e-14  4.516182e-14\n",
      "4 -3.225678e-14 -1.042485e-13 -3.383386e-14  7.039006e-14  4.487599e-14\n"
     ]
    }
   ],
   "source": [
    "minus_optical_data_dir = '/opt/beamformer/GAN/data/real_after_30000.csv'\n",
    "FIR_data_dir = '/opt/beamformer/GAN/data/filtered_data.csv'\n",
    "\n",
    "df_minus_optical_data_all = pd.read_csv(minus_optical_data_dir, header = None)\n",
    "df_FIR_data = pd.read_csv(FIR_data_dir, header = None)\n",
    "\n",
    "print(df_minus_optical_data_all.head(5))\n",
    "print('---------------------------------------------------------------------------------')\n",
    "print(df_FIR_data.head(5))"
   ]
  },
  {
   "cell_type": "code",
   "execution_count": 3,
   "metadata": {},
   "outputs": [],
   "source": [
    "# NOTE: We only use 3 clocks out of 5\n",
    "df_minus_optical_data = df_minus_optical_data_all.iloc[:,1:4]"
   ]
  },
  {
   "cell_type": "code",
   "execution_count": 4,
   "metadata": {},
   "outputs": [
    {
     "name": "stdout",
     "output_type": "stream",
     "text": [
      "taus - [1.0000e+00 2.0000e+00 4.0000e+00 8.0000e+00 1.6000e+01 3.2000e+01\n",
      " 6.4000e+01 1.2800e+02 2.5600e+02 5.1200e+02 1.0240e+03 2.0480e+03\n",
      " 4.0960e+03 8.1920e+03 1.6384e+04]\n",
      "adevs - [8.62941227e-15 4.80745940e-15 2.81686893e-15 2.30855263e-15\n",
      " 1.91517625e-15 1.52644771e-15 1.14856427e-15 8.25145040e-16\n",
      " 6.40353514e-16 4.97971238e-16 4.82286071e-16 5.89988237e-16\n",
      " 1.03310482e-15 2.04180207e-15 4.11935315e-15]\n",
      "----------------------------------------\n",
      "taus - [1.0000e+00 2.0000e+00 4.0000e+00 8.0000e+00 1.6000e+01 3.2000e+01\n",
      " 6.4000e+01 1.2800e+02 2.5600e+02 5.1200e+02 1.0240e+03 2.0480e+03\n",
      " 4.0960e+03 8.1920e+03 1.6384e+04]\n",
      "adevs - [8.56004643e-15 4.65528123e-15 2.52071931e-15 1.92582714e-15\n",
      " 1.60668913e-15 1.30907023e-15 1.02082863e-15 7.13577087e-16\n",
      " 5.64153377e-16 4.02652984e-16 3.50001067e-16 3.26666782e-16\n",
      " 4.55192255e-16 8.39947833e-16 1.56480677e-15]\n",
      "----------------------------------------\n",
      "taus - [1.0000e+00 2.0000e+00 4.0000e+00 8.0000e+00 1.6000e+01 3.2000e+01\n",
      " 6.4000e+01 1.2800e+02 2.5600e+02 5.1200e+02 1.0240e+03 2.0480e+03\n",
      " 4.0960e+03 8.1920e+03 1.6384e+04]\n",
      "adevs - [8.49897939e-15 4.66472036e-15 2.51592537e-15 1.94799606e-15\n",
      " 1.62697632e-15 1.30089300e-15 1.02638795e-15 7.16053663e-16\n",
      " 5.70712743e-16 3.99286822e-16 3.62328943e-16 3.04722564e-16\n",
      " 3.43455444e-16 5.20500672e-16 6.49817674e-16]\n",
      "----------------------------------------\n"
     ]
    },
    {
     "data": {
      "image/png": "[encoded data removed]",
      "text/plain": [
       "<Figure size 432x288 with 1 Axes>"
      ]
     },
     "metadata": {
      "needs_background": "light"
     },
     "output_type": "display_data"
    }
   ],
   "source": [
    "for i in range(df_minus_optical_data.shape[1]):\n",
    "    (taus, adevs, errors, ns) = allantools.adev(data=df_minus_optical_data.iloc[:,i].to_numpy(), data_type='freq')\n",
    "    print('taus - %s' % taus)\n",
    "    print('adevs - %s' % adevs)\n",
    "    print(\"----------------------------------------\")\n",
    "    plt.plot(np.log10(taus), np.log10(adevs))\n",
    "plt.show()"
   ]
  },
  {
   "cell_type": "markdown",
   "metadata": {},
   "source": [
    "### 2. Learning weight with Inverse Variance"
   ]
  },
  {
   "cell_type": "markdown",
   "metadata": {},
   "source": [
    "Use traditional inverse variance to learn the weight for each H-maser"
   ]
  },
  {
   "cell_type": "code",
   "execution_count": 5,
   "metadata": {},
   "outputs": [],
   "source": [
    "def inverse_variance(clock_data:np.ndarray, window_size:int, start_inx:int = 0, tau_level:int = 3):\n",
    "    # clock_data: array with shape - number_records * number_clock\n",
    "    # window_size: number of records within the calculation window\n",
    "    # start_idx: start record index of the window, default is 0\n",
    "    # tau_level: using allan variance for tau = 2 ** tau_level, default is tau = 8\n",
    "    inverse_variance = list()\n",
    "\n",
    "    for k in range(clock_data.shape[1]):\n",
    "        clock = clock_data[start_inx:start_inx + window_size, k]\n",
    "        (taus, adevs, errors, ns) = allantools.adev(data=clock, data_type='freq')\n",
    "        inverse_variance.append(1.0 / (adevs[tau_level + 1] ** 2))\n",
    "\n",
    "    inverse_variance = np.array(inverse_variance) / np.sum(np.array(inverse_variance))\n",
    "    return inverse_variance"
   ]
  },
  {
   "cell_type": "code",
   "execution_count": 6,
   "metadata": {},
   "outputs": [
    {
     "name": "stdout",
     "output_type": "stream",
     "text": [
      "[0.18309078 0.42019643 0.39671279]\n"
     ]
    }
   ],
   "source": [
    "inverse_variance_start_idx = 0\n",
    "inverse_variance_window_size = int(60 / 5 * 24) # 24 hours, 1 point every 5 min\n",
    "clock_arr = df_minus_optical_data.to_numpy()\n",
    "inverse_variance_weights = inverse_variance(clock_arr, inverse_variance_window_size, inverse_variance_start_idx)\n",
    "print(inverse_variance_weights)"
   ]
  },
  {
   "cell_type": "markdown",
   "metadata": {},
   "source": [
    "### 3. Sigma calculation"
   ]
  },
  {
   "cell_type": "code",
   "execution_count": 7,
   "metadata": {},
   "outputs": [],
   "source": [
    "def cal_sigmas(clock_data:np.ndarray, window_size:int, start_inx:int = 0):\n",
    "    clocks = clock_data[start_inx:start_inx + window_size, :]\n",
    "    sigmas = np.std(clocks, axis=0)\n",
    "    return sigmas"
   ]
  },
  {
   "cell_type": "code",
   "execution_count": 8,
   "metadata": {},
   "outputs": [
    {
     "name": "stdout",
     "output_type": "stream",
     "text": [
      "[6.99350707e-15 6.61503707e-15 6.78670864e-15]\n"
     ]
    }
   ],
   "source": [
    "sigmas = cal_sigmas(clock_arr, inverse_variance_window_size, inverse_variance_start_idx)\n",
    "print(sigmas)"
   ]
  },
  {
   "cell_type": "markdown",
   "metadata": {},
   "source": [
    "### 4. Jump generation"
   ]
  },
  {
   "cell_type": "code",
   "execution_count": 9,
   "metadata": {},
   "outputs": [
    {
     "name": "stdout",
     "output_type": "stream",
     "text": [
      "**************************** SUMMARY ****************************\n",
      "Original Data Shape: (74271, 3)\n",
      "Inverse Variance Shape: (288, 3)\n",
      "Remaining Data Shape: (73983, 3)\n",
      "Random Pursuit Start Index 288 and Window Size: 288\n",
      "Random Pursuit Values to predict: 10000\n"
     ]
    }
   ],
   "source": [
    "rp_start_inx = inverse_variance_start_idx + inverse_variance_window_size\n",
    "rp_window_size = 12 * 24     # 24 hours, 1 point every 5 min\n",
    "N = 12 * 6                   # 6 hours, 1 point every 5 min\n",
    "s_size = 1\n",
    "#n_pred = clock_arr.shape[0] - (rp_start_inx + rp_window_size) - 1\n",
    "n_pred = 10000\n",
    "remaining_size = clock_arr.shape[0] - inverse_variance_window_size\n",
    "\n",
    "print('**************************** SUMMARY ****************************')\n",
    "print('Original Data Shape: %s' % str(clock_arr.shape))\n",
    "print('Inverse Variance Shape: (%s, %s)' % (inverse_variance_window_size, clock_arr.shape[1]))\n",
    "print('Remaining Data Shape: (%s, %s)' % (remaining_size, clock_arr.shape[1]))\n",
    "print('Random Pursuit Start Index %s and Window Size: %s' % (rp_start_inx, rp_window_size))\n",
    "print('Random Pursuit Values to predict: %s' % n_pred)"
   ]
  },
  {
   "cell_type": "code",
   "execution_count": 10,
   "metadata": {},
   "outputs": [],
   "source": [
    "def generate_jump(jump_lower_bound:float, jump_higher_bound:float, clock_remaining_size:int, rand_keep_size:int,\n",
    "                  sigmas:np.array, jump_clock_idx:list, if_same_idx:bool, if_same_direction:bool):\n",
    "    \"\"\"generate random jump.\n",
    "    # Arguments\n",
    "        jump_lower_bound: Float, lower bound of jump, number of sigmas.\n",
    "        jump_higher_bound: Float, upper bound of jump, number of sigmas.\n",
    "        clock_remaining_size: Integer, size of one clock.\n",
    "        rand_keep_size: Integer, size of random jumps. Should be less than clock_remaining_size.\n",
    "        sigmas: Ndarray, with shape (num_clocks, ). sigma for each clock.\n",
    "        jump_clock_idx: A list, contains the index of jump clocks.\n",
    "        if_same_idx: Boolean, if the clocks in list jump_clock_idx jumps at the same index.\n",
    "        if_same_direction: Boolean, if the clocks in list jump_clock_idx jumps in the same direction.\n",
    "\n",
    "    # Returns\n",
    "        jumps: Ndarray, with shape (clock_remaining_size, num_clocks), contains the jump value for each clock at each time point.\n",
    "        jump_idx_list:  Ndarray, with shape (rand_keep_size, 1), contains the index of jumps.\n",
    "    \"\"\"\n",
    "    \n",
    "    rand_keep_idx_list = list()\n",
    "    jump_amplifer = np.random.uniform(jump_lower_bound, jump_higher_bound, (clock_remaining_size, 1))\n",
    "    zeros = np.zeros((clock_remaining_size, sigmas.shape[0]))\n",
    "    rand_keep_idx = random.sample(range(clock_remaining_size), rand_keep_size)\n",
    "    neg_idx = random.sample(rand_keep_idx, len(rand_keep_idx) // 2)\n",
    "\n",
    "    if len(jump_clock_idx) == 1:\n",
    "        print('1 clock jumps, the index is %s' % jump_clock_idx[0])\n",
    "        zeros[rand_keep_idx,jump_clock_idx[0]] = jump_amplifer[rand_keep_idx,0] * sigmas[jump_clock_idx[0]]\n",
    "        zeros[neg_idx,i] = zeros[neg_idx,i] * (-1)\n",
    "        rand_keep_idx_list.append(rand_keep_idx)\n",
    "    elif len(jump_clock_idx) == 2:\n",
    "        if if_same_idx:\n",
    "            if if_same_direction:\n",
    "                print('2 clocks jump in same direction, the index are %s' % str(jump_clock_idx))\n",
    "                for idx in jump_clock_idx:\n",
    "                    zeros[rand_keep_idx,idx] = jump_amplifer[rand_keep_idx,idx] * sigmas[idx]\n",
    "                    zeros[neg_idx,idx] = zeros[neg_idx,idx] * (-1)\n",
    "                    rand_keep_idx_list.append(rand_keep_idx)\n",
    "            else:\n",
    "                print('2 clocks jump in different direction, the index are %s' % str(jump_clock_idx))\n",
    "                switch = 1\n",
    "                for idx in jump_clock_idx:\n",
    "                    zeros[rand_keep_idx,idx] = jump_amplifer[rand_keep_idx,idx] * sigmas[idx] * switch\n",
    "                    zeros[neg_idx,idx] = zeros[neg_idx,idx] * (-1) * switch\n",
    "                    rand_keep_idx_list.append(rand_keep_idx)\n",
    "                    switch *= -1\n",
    "        else:\n",
    "            raise Exception('Goes back to 1 clock jump scenenario. Exit')\n",
    "    else:\n",
    "        raise Exception('Length of jump_clock_idx should be 1 or 2. Exit')\n",
    "\n",
    "    return zeros, np.array(rand_keep_idx_list).T"
   ]
  },
  {
   "cell_type": "code",
   "execution_count": 11,
   "metadata": {},
   "outputs": [
    {
     "name": "stdout",
     "output_type": "stream",
     "text": [
      "1 clock jumps, the index is 0\n"
     ]
    }
   ],
   "source": [
    "jump_lower_bound = 3.0\n",
    "jump_higher_bound = 5.0\n",
    "rand_keep_size = 4000\n",
    "jump_clock_idx = [0]\n",
    "\n",
    "# Works only when len(jump_clock_idx) == 2\n",
    "if_same_idx = True\n",
    "if_same_direction = False\n",
    "\n",
    "jumps, jump_idx_list = generate_jump(jump_lower_bound, jump_higher_bound, remaining_size-rp_window_size, rand_keep_size, sigmas, jump_clock_idx, if_same_idx, if_same_direction)"
   ]
  },
  {
   "cell_type": "code",
   "execution_count": 12,
   "metadata": {},
   "outputs": [
    {
     "name": "stdout",
     "output_type": "stream",
     "text": [
      "Jumps Data Shape: (73695, 3)\n",
      "By adding Zeros, Final Jumps Data Shape: (73983, 3)\n",
      "Random Jump Index Shape: (4000, 1)\n"
     ]
    }
   ],
   "source": [
    "final_jumps = np.concatenate((np.zeros((rp_window_size, clock_arr.shape[1])), jumps), axis=0)\n",
    "\n",
    "print('Jumps Data Shape: %s' % str(jumps.shape))\n",
    "print('By adding Zeros, Final Jumps Data Shape: %s' % str(final_jumps.shape))\n",
    "print('Random Jump Index Shape: %s' % str(jump_idx_list.shape))\n",
    "clock_rp_arr = clock_arr[rp_start_inx:,]\n",
    "clock_rp_arr_with_jumps = clock_rp_arr + final_jumps"
   ]
  },
  {
   "cell_type": "markdown",
   "metadata": {},
   "source": [
    "### 5. Drift learning and Extrapolation with Random Pursuit"
   ]
  },
  {
   "cell_type": "markdown",
   "metadata": {},
   "source": [
    "Use random pursuit to learn the weight for each H-maser"
   ]
  },
  {
   "cell_type": "code",
   "execution_count": 13,
   "metadata": {},
   "outputs": [
    {
     "name": "stdout",
     "output_type": "stream",
     "text": [
      "After minus ensemble Data, has Shape: (73983, 3)\n"
     ]
    }
   ],
   "source": [
    "# Minus H-ensemble first\n",
    "clock_rp_ensemble = np.dot(clock_rp_arr_with_jumps, inverse_variance_weights)\n",
    "clock_rp_minus_ensemble = clock_rp_arr_with_jumps - clock_rp_ensemble.reshape(-1,1)\n",
    "print('After minus ensemble Data, has Shape: %s' % str(clock_rp_minus_ensemble.shape))"
   ]
  },
  {
   "cell_type": "code",
   "execution_count": 14,
   "metadata": {},
   "outputs": [],
   "source": [
    "#for i in range(clock_rp_minus_ensemble.shape[1]):\n",
    "    #clock_x = clock_rp_minus_ensemble[:,i]\n",
    "    #clock_y = clock_rp_minus_ensemble[rp_window_size:,i]"
   ]
  },
  {
   "cell_type": "code",
   "execution_count": 15,
   "metadata": {},
   "outputs": [
    {
     "name": "stdout",
     "output_type": "stream",
     "text": [
      "****************************** Clock 0 ******************************\n",
      "Initiate - Shuffled inx with shape: (72, 4)\n",
      "ALERT - Data at index 5 has exceeded threshold\n",
      "ALERT - Data at index 24 has exceeded threshold\n",
      "ALERT - Data at index 26 has exceeded threshold\n",
      "ALERT - Data at index 41 has exceeded threshold\n",
      "ALERT - Data at index 46 has exceeded threshold\n",
      "ALERT - Data at index 50 has exceeded threshold\n",
      "ALERT - Data at index 67 has exceeded threshold\n",
      "ALERT - Data at index 114 has exceeded threshold\n",
      "ALERT - Data at index 134 has exceeded threshold\n",
      "ALERT - Data at index 156 has exceeded threshold\n",
      "ALERT - Data at index 190 has exceeded threshold\n",
      "ALERT - Data at index 197 has exceeded threshold\n",
      "ALERT - Data at index 224 has exceeded threshold\n",
      "ALERT - Data at index 274 has exceeded threshold\n",
      "ALERT - Data at index 277 has exceeded threshold\n",
      "ALERT - Data at index 317 has exceeded threshold\n",
      "ALERT - Data at index 328 has exceeded threshold\n",
      "ALERT - Data at index 406 has exceeded threshold\n",
      "ALERT - Data at index 425 has exceeded threshold\n",
      "ALERT - Data at index 467 has exceeded threshold\n",
      "ALERT - Data at index 482 has exceeded threshold\n",
      "ALERT - Data at index 496 has exceeded threshold\n",
      "... ... This is iteration 500 ... ...\n",
      "ALERT - Data at index 509 has exceeded threshold\n",
      "ALERT - Data at index 513 has exceeded threshold\n",
      "ALERT - Data at index 541 has exceeded threshold\n",
      "ALERT - Data at index 557 has exceeded threshold\n",
      "ALERT - Data at index 594 has exceeded threshold\n",
      "ALERT - Data at index 624 has exceeded threshold\n",
      "ALERT - Data at index 658 has exceeded threshold\n",
      "ALERT - Data at index 697 has exceeded threshold\n",
      "ALERT - Data at index 716 has exceeded threshold\n",
      "ALERT - Data at index 730 has exceeded threshold\n",
      "ALERT - Data at index 743 has exceeded threshold\n",
      "ALERT - Data at index 783 has exceeded threshold\n",
      "ALERT - Data at index 808 has exceeded threshold\n",
      "ALERT - Data at index 826 has exceeded threshold\n",
      "ALERT - Data at index 831 has exceeded threshold\n",
      "ALERT - Data at index 885 has exceeded threshold\n",
      "ALERT - Data at index 947 has exceeded threshold\n",
      "... ... This is iteration 1000 ... ...\n",
      "ALERT - Data at index 1158 has exceeded threshold\n",
      "ALERT - Data at index 1190 has exceeded threshold\n",
      "ALERT - Data at index 1207 has exceeded threshold\n",
      "ALERT - Data at index 1284 has exceeded threshold\n",
      "ALERT - Data at index 1354 has exceeded threshold\n",
      "ALERT - Data at index 1365 has exceeded threshold\n",
      "ALERT - Data at index 1378 has exceeded threshold\n",
      "ALERT - Data at index 1383 has exceeded threshold\n",
      "ALERT - Data at index 1410 has exceeded threshold\n",
      "ALERT - Data at index 1439 has exceeded threshold\n",
      "ALERT - Data at index 1465 has exceeded threshold\n",
      "ALERT - Data at index 1468 has exceeded threshold\n",
      "ALERT - Data at index 1473 has exceeded threshold\n",
      "ALERT - Data at index 1498 has exceeded threshold\n",
      "... ... This is iteration 1500 ... ...\n",
      "ALERT - Data at index 1553 has exceeded threshold\n",
      "ALERT - Data at index 1642 has exceeded threshold\n",
      "ALERT - Data at index 1645 has exceeded threshold\n",
      "ALERT - Data at index 1653 has exceeded threshold\n",
      "ALERT - Data at index 1674 has exceeded threshold\n",
      "ALERT - Data at index 1700 has exceeded threshold\n",
      "ALERT - Data at index 1701 has exceeded threshold\n",
      "ALERT - Data at index 1747 has exceeded threshold\n",
      "ALERT - Data at index 1753 has exceeded threshold\n",
      "ALERT - Data at index 1794 has exceeded threshold\n",
      "ALERT - Data at index 1808 has exceeded threshold\n",
      "ALERT - Data at index 1833 has exceeded threshold\n",
      "ALERT - Data at index 1838 has exceeded threshold\n",
      "ALERT - Data at index 1841 has exceeded threshold\n",
      "ALERT - Data at index 1849 has exceeded threshold\n",
      "ALERT - Data at index 1852 has exceeded threshold\n",
      "ALERT - Data at index 1945 has exceeded threshold\n",
      "... ... This is iteration 2000 ... ...\n",
      "ALERT - Data at index 2017 has exceeded threshold\n",
      "ALERT - Data at index 2023 has exceeded threshold\n",
      "ALERT - Data at index 2086 has exceeded threshold\n",
      "ALERT - Data at index 2159 has exceeded threshold\n",
      "ALERT - Data at index 2172 has exceeded threshold\n",
      "ALERT - Data at index 2251 has exceeded threshold\n",
      "ALERT - Data at index 2367 has exceeded threshold\n",
      "ALERT - Data at index 2371 has exceeded threshold\n",
      "ALERT - Data at index 2385 has exceeded threshold\n",
      "ALERT - Data at index 2416 has exceeded threshold\n",
      "ALERT - Data at index 2447 has exceeded threshold\n",
      "ALERT - Data at index 2455 has exceeded threshold\n",
      "ALERT - Data at index 2458 has exceeded threshold\n",
      "ALERT - Data at index 2460 has exceeded threshold\n",
      "ALERT - Data at index 2485 has exceeded threshold\n",
      "... ... This is iteration 2500 ... ...\n",
      "ALERT - Data at index 2506 has exceeded threshold\n",
      "ALERT - Data at index 2511 has exceeded threshold\n",
      "ALERT - Data at index 2512 has exceeded threshold\n",
      "ALERT - Data at index 2556 has exceeded threshold\n",
      "ALERT - Data at index 2573 has exceeded threshold\n",
      "ALERT - Data at index 2669 has exceeded threshold\n",
      "ALERT - Data at index 2722 has exceeded threshold\n",
      "ALERT - Data at index 2730 has exceeded threshold\n",
      "ALERT - Data at index 2763 has exceeded threshold\n",
      "ALERT - Data at index 2786 has exceeded threshold\n",
      "ALERT - Data at index 2792 has exceeded threshold\n",
      "ALERT - Data at index 2807 has exceeded threshold\n",
      "ALERT - Data at index 2822 has exceeded threshold\n",
      "ALERT - Data at index 2823 has exceeded threshold\n",
      "ALERT - Data at index 2971 has exceeded threshold\n",
      "ALERT - Data at index 2980 has exceeded threshold\n",
      "... ... This is iteration 3000 ... ...\n",
      "ALERT - Data at index 3003 has exceeded threshold\n",
      "ALERT - Data at index 3015 has exceeded threshold\n",
      "ALERT - Data at index 3020 has exceeded threshold\n",
      "ALERT - Data at index 3049 has exceeded threshold\n",
      "ALERT - Data at index 3085 has exceeded threshold\n",
      "ALERT - Data at index 3138 has exceeded threshold\n",
      "ALERT - Data at index 3181 has exceeded threshold\n",
      "ALERT - Data at index 3215 has exceeded threshold\n",
      "ALERT - Data at index 3219 has exceeded threshold\n",
      "ALERT - Data at index 3227 has exceeded threshold\n",
      "ALERT - Data at index 3235 has exceeded threshold\n",
      "ALERT - Data at index 3238 has exceeded threshold\n",
      "ALERT - Data at index 3241 has exceeded threshold\n",
      "ALERT - Data at index 3333 has exceeded threshold\n",
      "ALERT - Data at index 3359 has exceeded threshold\n",
      "ALERT - Data at index 3382 has exceeded threshold\n",
      "ALERT - Data at index 3440 has exceeded threshold\n",
      "ALERT - Data at index 3470 has exceeded threshold\n",
      "ALERT - Data at index 3490 has exceeded threshold\n",
      "... ... This is iteration 3500 ... ...\n",
      "ALERT - Data at index 3533 has exceeded threshold\n",
      "ALERT - Data at index 3553 has exceeded threshold\n",
      "ALERT - Data at index 3650 has exceeded threshold\n",
      "ALERT - Data at index 3657 has exceeded threshold\n",
      "ALERT - Data at index 3705 has exceeded threshold\n",
      "ALERT - Data at index 3711 has exceeded threshold\n",
      "ALERT - Data at index 3720 has exceeded threshold\n",
      "ALERT - Data at index 3740 has exceeded threshold\n",
      "ALERT - Data at index 3753 has exceeded threshold\n",
      "ALERT - Data at index 3755 has exceeded threshold\n",
      "ALERT - Data at index 3770 has exceeded threshold\n",
      "ALERT - Data at index 3787 has exceeded threshold\n",
      "ALERT - Data at index 3804 has exceeded threshold\n",
      "ALERT - Data at index 3823 has exceeded threshold\n",
      "ALERT - Data at index 3932 has exceeded threshold\n",
      "ALERT - Data at index 3943 has exceeded threshold\n",
      "ALERT - Data at index 3952 has exceeded threshold\n",
      "ALERT - Data at index 3978 has exceeded threshold\n",
      "ALERT - Data at index 3983 has exceeded threshold\n",
      "... ... This is iteration 4000 ... ...\n",
      "ALERT - Data at index 4027 has exceeded threshold\n",
      "ALERT - Data at index 4053 has exceeded threshold\n",
      "ALERT - Data at index 4166 has exceeded threshold\n",
      "ALERT - Data at index 4176 has exceeded threshold\n",
      "ALERT - Data at index 4216 has exceeded threshold\n",
      "ALERT - Data at index 4220 has exceeded threshold\n",
      "ALERT - Data at index 4223 has exceeded threshold\n",
      "ALERT - Data at index 4238 has exceeded threshold\n",
      "ALERT - Data at index 4278 has exceeded threshold\n",
      "ALERT - Data at index 4290 has exceeded threshold\n",
      "ALERT - Data at index 4364 has exceeded threshold\n",
      "ALERT - Data at index 4483 has exceeded threshold\n",
      "ALERT - Data at index 4487 has exceeded threshold\n",
      "... ... This is iteration 4500 ... ...\n",
      "ALERT - Data at index 4537 has exceeded threshold\n",
      "ALERT - Data at index 4591 has exceeded threshold\n",
      "ALERT - Data at index 4596 has exceeded threshold\n",
      "ALERT - Data at index 4602 has exceeded threshold\n",
      "ALERT - Data at index 4606 has exceeded threshold\n",
      "ALERT - Data at index 4607 has exceeded threshold\n",
      "ALERT - Data at index 4682 has exceeded threshold\n",
      "ALERT - Data at index 4689 has exceeded threshold\n",
      "ALERT - Data at index 4730 has exceeded threshold\n",
      "ALERT - Data at index 4743 has exceeded threshold\n",
      "ALERT - Data at index 4799 has exceeded threshold\n",
      "ALERT - Data at index 4809 has exceeded threshold\n",
      "ALERT - Data at index 4908 has exceeded threshold\n",
      "... ... This is iteration 5000 ... ...\n",
      "ALERT - Data at index 5098 has exceeded threshold\n",
      "ALERT - Data at index 5145 has exceeded threshold\n",
      "ALERT - Data at index 5148 has exceeded threshold\n",
      "ALERT - Data at index 5162 has exceeded threshold\n",
      "ALERT - Data at index 5185 has exceeded threshold\n",
      "ALERT - Data at index 5227 has exceeded threshold\n",
      "ALERT - Data at index 5241 has exceeded threshold\n",
      "ALERT - Data at index 5254 has exceeded threshold\n",
      "ALERT - Data at index 5259 has exceeded threshold\n",
      "ALERT - Data at index 5263 has exceeded threshold\n",
      "ALERT - Data at index 5264 has exceeded threshold\n",
      "ALERT - Data at index 5267 has exceeded threshold\n",
      "ALERT - Data at index 5280 has exceeded threshold\n",
      "ALERT - Data at index 5291 has exceeded threshold\n",
      "ALERT - Data at index 5313 has exceeded threshold\n",
      "ALERT - Data at index 5325 has exceeded threshold\n",
      "ALERT - Data at index 5337 has exceeded threshold\n",
      "ALERT - Data at index 5345 has exceeded threshold\n",
      "ALERT - Data at index 5370 has exceeded threshold\n",
      "ALERT - Data at index 5388 has exceeded threshold\n",
      "ALERT - Data at index 5391 has exceeded threshold\n",
      "ALERT - Data at index 5402 has exceeded threshold\n",
      "ALERT - Data at index 5495 has exceeded threshold\n",
      "... ... This is iteration 5500 ... ...\n",
      "ALERT - Data at index 5547 has exceeded threshold\n",
      "ALERT - Data at index 5562 has exceeded threshold\n",
      "ALERT - Data at index 5571 has exceeded threshold\n",
      "ALERT - Data at index 5628 has exceeded threshold\n",
      "ALERT - Data at index 5671 has exceeded threshold\n",
      "ALERT - Data at index 5672 has exceeded threshold\n",
      "ALERT - Data at index 5687 has exceeded threshold\n",
      "ALERT - Data at index 5707 has exceeded threshold\n",
      "ALERT - Data at index 5714 has exceeded threshold\n",
      "ALERT - Data at index 5868 has exceeded threshold\n",
      "ALERT - Data at index 5909 has exceeded threshold\n",
      "ALERT - Data at index 5916 has exceeded threshold\n",
      "ALERT - Data at index 5941 has exceeded threshold\n",
      "ALERT - Data at index 5971 has exceeded threshold\n",
      "... ... This is iteration 6000 ... ...\n",
      "ALERT - Data at index 6011 has exceeded threshold\n",
      "ALERT - Data at index 6013 has exceeded threshold\n",
      "ALERT - Data at index 6038 has exceeded threshold\n",
      "ALERT - Data at index 6086 has exceeded threshold\n",
      "ALERT - Data at index 6147 has exceeded threshold\n",
      "ALERT - Data at index 6194 has exceeded threshold\n",
      "ALERT - Data at index 6199 has exceeded threshold\n",
      "ALERT - Data at index 6273 has exceeded threshold\n",
      "ALERT - Data at index 6275 has exceeded threshold\n",
      "ALERT - Data at index 6296 has exceeded threshold\n",
      "ALERT - Data at index 6317 has exceeded threshold\n",
      "ALERT - Data at index 6332 has exceeded threshold\n",
      "ALERT - Data at index 6334 has exceeded threshold\n",
      "ALERT - Data at index 6414 has exceeded threshold\n",
      "ALERT - Data at index 6486 has exceeded threshold\n",
      "... ... This is iteration 6500 ... ...\n",
      "ALERT - Data at index 6514 has exceeded threshold\n",
      "ALERT - Data at index 6533 has exceeded threshold\n",
      "ALERT - Data at index 6606 has exceeded threshold\n",
      "ALERT - Data at index 6666 has exceeded threshold\n",
      "ALERT - Data at index 6679 has exceeded threshold\n",
      "ALERT - Data at index 6697 has exceeded threshold\n",
      "ALERT - Data at index 6703 has exceeded threshold\n",
      "ALERT - Data at index 6774 has exceeded threshold\n",
      "ALERT - Data at index 6805 has exceeded threshold\n",
      "ALERT - Data at index 6817 has exceeded threshold\n",
      "ALERT - Data at index 6895 has exceeded threshold\n",
      "ALERT - Data at index 6915 has exceeded threshold\n",
      "ALERT - Data at index 6920 has exceeded threshold\n",
      "ALERT - Data at index 6928 has exceeded threshold\n",
      "ALERT - Data at index 6957 has exceeded threshold\n",
      "... ... This is iteration 7000 ... ...\n",
      "ALERT - Data at index 7031 has exceeded threshold\n",
      "ALERT - Data at index 7054 has exceeded threshold\n",
      "ALERT - Data at index 7068 has exceeded threshold\n",
      "ALERT - Data at index 7125 has exceeded threshold\n",
      "ALERT - Data at index 7143 has exceeded threshold\n",
      "ALERT - Data at index 7156 has exceeded threshold\n",
      "ALERT - Data at index 7213 has exceeded threshold\n",
      "ALERT - Data at index 7219 has exceeded threshold\n",
      "ALERT - Data at index 7228 has exceeded threshold\n",
      "ALERT - Data at index 7237 has exceeded threshold\n",
      "ALERT - Data at index 7289 has exceeded threshold\n",
      "ALERT - Data at index 7304 has exceeded threshold\n",
      "ALERT - Data at index 7307 has exceeded threshold\n",
      "ALERT - Data at index 7332 has exceeded threshold\n",
      "ALERT - Data at index 7348 has exceeded threshold\n",
      "ALERT - Data at index 7403 has exceeded threshold\n",
      "ALERT - Data at index 7413 has exceeded threshold\n",
      "ALERT - Data at index 7426 has exceeded threshold\n",
      "ALERT - Data at index 7440 has exceeded threshold\n",
      "ALERT - Data at index 7469 has exceeded threshold\n",
      "ALERT - Data at index 7495 has exceeded threshold\n",
      "ALERT - Data at index 7496 has exceeded threshold\n",
      "... ... This is iteration 7500 ... ...\n",
      "ALERT - Data at index 7552 has exceeded threshold\n",
      "ALERT - Data at index 7584 has exceeded threshold\n",
      "ALERT - Data at index 7600 has exceeded threshold\n",
      "ALERT - Data at index 7684 has exceeded threshold\n",
      "ALERT - Data at index 7690 has exceeded threshold\n",
      "ALERT - Data at index 7726 has exceeded threshold\n",
      "ALERT - Data at index 7763 has exceeded threshold\n",
      "ALERT - Data at index 7768 has exceeded threshold\n",
      "ALERT - Data at index 7788 has exceeded threshold\n",
      "ALERT - Data at index 7844 has exceeded threshold\n",
      "ALERT - Data at index 7904 has exceeded threshold\n",
      "ALERT - Data at index 7953 has exceeded threshold\n",
      "... ... This is iteration 8000 ... ...\n",
      "ALERT - Data at index 8060 has exceeded threshold\n",
      "ALERT - Data at index 8062 has exceeded threshold\n",
      "ALERT - Data at index 8072 has exceeded threshold\n",
      "ALERT - Data at index 8078 has exceeded threshold\n",
      "ALERT - Data at index 8109 has exceeded threshold\n",
      "ALERT - Data at index 8168 has exceeded threshold\n",
      "ALERT - Data at index 8250 has exceeded threshold\n",
      "ALERT - Data at index 8255 has exceeded threshold\n",
      "ALERT - Data at index 8284 has exceeded threshold\n",
      "ALERT - Data at index 8363 has exceeded threshold\n",
      "ALERT - Data at index 8377 has exceeded threshold\n",
      "... ... This is iteration 8500 ... ...\n",
      "ALERT - Data at index 8499 has exceeded threshold\n",
      "ALERT - Data at index 8552 has exceeded threshold\n",
      "ALERT - Data at index 8624 has exceeded threshold\n",
      "ALERT - Data at index 8659 has exceeded threshold\n",
      "ALERT - Data at index 8683 has exceeded threshold\n",
      "ALERT - Data at index 8689 has exceeded threshold\n",
      "ALERT - Data at index 8696 has exceeded threshold\n",
      "ALERT - Data at index 8735 has exceeded threshold\n",
      "ALERT - Data at index 8770 has exceeded threshold\n",
      "ALERT - Data at index 8787 has exceeded threshold\n",
      "ALERT - Data at index 8792 has exceeded threshold\n",
      "ALERT - Data at index 8822 has exceeded threshold\n",
      "ALERT - Data at index 8855 has exceeded threshold\n",
      "ALERT - Data at index 8893 has exceeded threshold\n",
      "ALERT - Data at index 8916 has exceeded threshold\n",
      "ALERT - Data at index 8954 has exceeded threshold\n",
      "... ... This is iteration 9000 ... ...\n",
      "ALERT - Data at index 9095 has exceeded threshold\n",
      "ALERT - Data at index 9108 has exceeded threshold\n",
      "ALERT - Data at index 9131 has exceeded threshold\n",
      "ALERT - Data at index 9180 has exceeded threshold\n",
      "ALERT - Data at index 9182 has exceeded threshold\n",
      "ALERT - Data at index 9215 has exceeded threshold\n",
      "ALERT - Data at index 9249 has exceeded threshold\n",
      "ALERT - Data at index 9261 has exceeded threshold\n",
      "ALERT - Data at index 9344 has exceeded threshold\n",
      "ALERT - Data at index 9364 has exceeded threshold\n",
      "ALERT - Data at index 9434 has exceeded threshold\n",
      "ALERT - Data at index 9453 has exceeded threshold\n",
      "ALERT - Data at index 9454 has exceeded threshold\n",
      "ALERT - Data at index 9464 has exceeded threshold\n",
      "ALERT - Data at index 9475 has exceeded threshold\n",
      "... ... This is iteration 9500 ... ...\n",
      "ALERT - Data at index 9507 has exceeded threshold\n",
      "ALERT - Data at index 9526 has exceeded threshold\n",
      "ALERT - Data at index 9559 has exceeded threshold\n",
      "ALERT - Data at index 9623 has exceeded threshold\n",
      "ALERT - Data at index 9656 has exceeded threshold\n",
      "ALERT - Data at index 9688 has exceeded threshold\n",
      "ALERT - Data at index 9695 has exceeded threshold\n",
      "ALERT - Data at index 9835 has exceeded threshold\n",
      "ALERT - Data at index 9886 has exceeded threshold\n",
      "ALERT - Data at index 9898 has exceeded threshold\n",
      "ALERT - Data at index 9915 has exceeded threshold\n",
      "ALERT - Data at index 9981 has exceeded threshold\n",
      "ALERT - Data at index 9987 has exceeded threshold\n",
      "ALERT - Data at index 9990 has exceeded threshold\n",
      "... ... This is iteration 10000 ... ...\n"
     ]
    }
   ],
   "source": [
    "import random_pursuit\n",
    "'''\n",
    "        data_x: A ndarray, a series x value.\n",
    "        data_y: A ndarray, corresponding series of y value.\n",
    "        inx_h: Integer, max index of history data.\n",
    "        l_inx: Integer, length of history data used for pursuit. Or say, the size of sliding window.\n",
    "        N: Interger, number of points in each regression.\n",
    "        inx_p: Integer, the index of the data point to predict. If set to -1, the point with index (inx_h+1) will be predicted.\n",
    "        n_pred: Interger, number of points to predict with sliding window.\n",
    "        s_size: Interger, the moving step size of sliding window.\n",
    "        percent_value: Float, max percentage for weight recaculation.\n",
    "        method: String, 'inverse' or 'softmax', how weights are calculated from losses\n",
    "'''\n",
    "\n",
    "clock_rp_extrapolation_list = list()\n",
    "\n",
    "for i in [0]:\n",
    "    print('****************************** Clock %s ******************************' % i)\n",
    "    clock_x = np.arange(clock_rp_minus_ensemble.shape[0]).reshape(-1,1) * 300  # 1 point every 5 minute\n",
    "    clock_y = clock_rp_minus_ensemble[:,i]\n",
    "    inx_h = rp_window_size - 1\n",
    "    l_inx = rp_window_size\n",
    "    N = N\n",
    "    n_pred = n_pred\n",
    "    s_size = s_size\n",
    "    method = 'inverse'\n",
    "    \n",
    "    clock_pred_results, alert_idxs = random_pursuit.random_pursuit(\n",
    "        data_x = clock_x, \n",
    "        data_y = clock_y, \n",
    "        threshold = 3 * sigmas[i],\n",
    "        inx_h = inx_h, \n",
    "        l_inx = l_inx, \n",
    "        N = N,\n",
    "        inx_p = -1, \n",
    "        n_pred = n_pred, \n",
    "        s_size = s_size, \n",
    "        percent_value = -1, \n",
    "        with_self_resid = False,\n",
    "        method = method\n",
    "    )\n",
    "    clock_rp_extrapolation_list.append(clock_pred_results)"
   ]
  },
  {
   "cell_type": "markdown",
   "metadata": {},
   "source": [
    "### 6. Performance evaluation"
   ]
  },
  {
   "cell_type": "markdown",
   "metadata": {},
   "source": [
    "Evaluate the stability and prediction accuracy"
   ]
  },
  {
   "cell_type": "code",
   "execution_count": 16,
   "metadata": {},
   "outputs": [
    {
     "name": "stdout",
     "output_type": "stream",
     "text": [
      "The clock to evaluate performance is 0\n"
     ]
    }
   ],
   "source": [
    "clock_idx = jump_clock_idx[0]\n",
    "print('The clock to evaluate performance is %s' % clock_idx)"
   ]
  },
  {
   "cell_type": "code",
   "execution_count": 17,
   "metadata": {},
   "outputs": [],
   "source": [
    "real_clock_arr = clock_rp_minus_ensemble[rp_window_size:rp_window_size+n_pred,clock_idx]"
   ]
  },
  {
   "cell_type": "code",
   "execution_count": 18,
   "metadata": {},
   "outputs": [],
   "source": [
    "clock_pred_results = clock_rp_extrapolation_list[0]\n",
    "clock_pred_arr = np.array([clock_pred_results[i] for i in range(n_pred)])"
   ]
  },
  {
   "cell_type": "code",
   "execution_count": 19,
   "metadata": {},
   "outputs": [
    {
     "name": "stdout",
     "output_type": "stream",
     "text": [
      "Number of jump points are: 4000\n",
      "For inx < 10000, there are 516 jump points\n"
     ]
    }
   ],
   "source": [
    "jump_idx = jump_idx_list[:,clock_idx] < n_pred\n",
    "print('Number of jump points are: %s' % rand_keep_size)\n",
    "print('For inx < %s, there are %s jump points' % (n_pred, np.sum(jump_idx)))"
   ]
  },
  {
   "cell_type": "code",
   "execution_count": 20,
   "metadata": {},
   "outputs": [
    {
     "data": {
      "text/plain": [
       "[<matplotlib.lines.Line2D at 0x7fb94d120c50>]"
      ]
     },
     "execution_count": 20,
     "metadata": {},
     "output_type": "execute_result"
    },
    {
     "data": {
      "image/png": "[encoded data removed]",
      "text/plain": [
       "<Figure size 432x288 with 1 Axes>"
      ]
     },
     "metadata": {
      "needs_background": "light"
     },
     "output_type": "display_data"
    }
   ],
   "source": [
    "plt.plot(real_clock_arr)"
   ]
  },
  {
   "cell_type": "code",
   "execution_count": 21,
   "metadata": {},
   "outputs": [
    {
     "data": {
      "text/plain": [
       "[<matplotlib.lines.Line2D at 0x7fb94d1046a0>]"
      ]
     },
     "execution_count": 21,
     "metadata": {},
     "output_type": "execute_result"
    },
    {
     "data": {
      "image/png": "[encoded data removed]",
      "text/plain": [
       "<Figure size 432x288 with 1 Axes>"
      ]
     },
     "metadata": {
      "needs_background": "light"
     },
     "output_type": "display_data"
    }
   ],
   "source": [
    "plt.plot(clock_pred_arr)"
   ]
  },
  {
   "cell_type": "code",
   "execution_count": 22,
   "metadata": {},
   "outputs": [
    {
     "name": "stdout",
     "output_type": "stream",
     "text": [
      "Number data alert: 322\n",
      "[5, 24, 26, 41, 46, 50, 67, 114, 134, 156, 190, 197, 224, 274, 277, 317, 328, 406, 425, 467, 482, 496, 509, 513, 541, 557, 594, 624, 658, 697, 716, 730, 743, 783, 808, 826, 831, 885, 947, 1158, 1190, 1207, 1284, 1354, 1365, 1378, 1383, 1410, 1439, 1465, 1468, 1473, 1498, 1553, 1642, 1645, 1653, 1674, 1700, 1701, 1747, 1753, 1794, 1808, 1833, 1838, 1841, 1849, 1852, 1945, 2017, 2023, 2086, 2159, 2172, 2251, 2367, 2371, 2385, 2416, 2447, 2455, 2458, 2460, 2485, 2506, 2511, 2512, 2556, 2573, 2669, 2722, 2730, 2763, 2786, 2792, 2807, 2822, 2823, 2971, 2980, 3003, 3015, 3020, 3049, 3085, 3138, 3181, 3215, 3219, 3227, 3235, 3238, 3241, 3333, 3359, 3382, 3440, 3470, 3490, 3533, 3553, 3650, 3657, 3705, 3711, 3720, 3740, 3753, 3755, 3770, 3787, 3804, 3823, 3932, 3943, 3952, 3978, 3983, 4027, 4053, 4166, 4176, 4216, 4220, 4223, 4238, 4278, 4290, 4364, 4483, 4487, 4537, 4591, 4596, 4602, 4606, 4607, 4682, 4689, 4730, 4743, 4799, 4809, 4908, 5098, 5145, 5148, 5162, 5185, 5227, 5241, 5254, 5259, 5263, 5264, 5267, 5280, 5291, 5313, 5325, 5337, 5345, 5370, 5388, 5391, 5402, 5495, 5547, 5562, 5571, 5628, 5671, 5672, 5687, 5707, 5714, 5868, 5909, 5916, 5941, 5971, 6011, 6013, 6038, 6086, 6147, 6194, 6199, 6273, 6275, 6296, 6317, 6332, 6334, 6414, 6486, 6514, 6533, 6606, 6666, 6679, 6697, 6703, 6774, 6805, 6817, 6895, 6915, 6920, 6928, 6957, 7031, 7054, 7068, 7125, 7143, 7156, 7213, 7219, 7228, 7237, 7289, 7304, 7307, 7332, 7348, 7403, 7413, 7426, 7440, 7469, 7495, 7496, 7552, 7584, 7600, 7684, 7690, 7726, 7763, 7768, 7788, 7844, 7904, 7953, 8060, 8062, 8072, 8078, 8109, 8168, 8250, 8255, 8284, 8363, 8377, 8499, 8552, 8624, 8659, 8683, 8689, 8696, 8735, 8770, 8787, 8792, 8822, 8855, 8893, 8916, 8954, 9095, 9108, 9131, 9180, 9182, 9215, 9249, 9261, 9344, 9364, 9434, 9453, 9454, 9464, 9475, 9507, 9526, 9559, 9623, 9656, 9688, 9695, 9835, 9886, 9898, 9915, 9981, 9987, 9990]\n"
     ]
    }
   ],
   "source": [
    "print(\"Number data alert: %s\" % len(alert_idxs))\n",
    "print(alert_idxs)"
   ]
  },
  {
   "cell_type": "code",
   "execution_count": 28,
   "metadata": {},
   "outputs": [],
   "source": [
    "# beyond_3_sigma = np.abs(real_clock_arr - clock_pred_arr) >= 3 * sigmas[clock_idx]\n",
    "# print(\"Number data beyond 3 sigma: %s\" % np.sum(beyond_3_sigma))\n",
    "# print(np.where(beyond_3_sigma)[0])"
   ]
  },
  {
   "cell_type": "code",
   "execution_count": 24,
   "metadata": {},
   "outputs": [
    {
     "name": "stdout",
     "output_type": "stream",
     "text": [
      "Number data has jump: 516\n",
      "[   3    5   24   26   36   37   41   46   50   67   76  114  134  156\n",
      "  190  197  224  274  277  291  301  316  317  328  375  379  406  425\n",
      "  467  474  482  496  509  513  541  557  588  594  624  635  658  682\n",
      "  697  716  730  743  783  808  826  831  885  914  947  962 1003 1045\n",
      " 1153 1158 1164 1190 1207 1222 1260 1284 1286 1304 1354 1365 1378 1383\n",
      " 1385 1410 1439 1465 1468 1473 1489 1498 1505 1507 1528 1535 1545 1549\n",
      " 1553 1581 1642 1645 1653 1674 1681 1683 1700 1701 1721 1747 1753 1756\n",
      " 1791 1794 1808 1819 1833 1838 1841 1849 1852 1945 2017 2023 2026 2047\n",
      " 2086 2096 2101 2159 2172 2200 2204 2243 2251 2260 2300 2315 2367 2371\n",
      " 2385 2416 2447 2455 2458 2460 2461 2485 2506 2511 2512 2556 2558 2573\n",
      " 2583 2658 2665 2669 2722 2730 2763 2786 2792 2807 2822 2823 2895 2971\n",
      " 2973 2980 2991 3003 3011 3015 3020 3035 3049 3085 3138 3181 3215 3219\n",
      " 3227 3235 3238 3241 3327 3333 3359 3382 3405 3437 3440 3460 3470 3490\n",
      " 3533 3553 3650 3657 3705 3711 3720 3740 3753 3755 3770 3787 3804 3823\n",
      " 3873 3899 3932 3943 3950 3952 3978 3979 3983 3985 3992 4026 4027 4028\n",
      " 4030 4053 4096 4117 4125 4145 4166 4176 4216 4220 4223 4234 4238 4278\n",
      " 4290 4325 4364 4382 4399 4423 4439 4483 4487 4504 4522 4537 4591 4596\n",
      " 4602 4606 4607 4682 4683 4689 4712 4721 4730 4735 4743 4799 4809 4853\n",
      " 4890 4908 5037 5098 5145 5148 5158 5162 5185 5227 5241 5254 5259 5263\n",
      " 5264 5267 5280 5291 5300 5313 5322 5325 5337 5345 5370 5373 5385 5388\n",
      " 5390 5391 5402 5420 5495 5525 5547 5562 5571 5572 5585 5606 5612 5617\n",
      " 5618 5628 5629 5632 5671 5672 5687 5707 5714 5821 5868 5909 5916 5941\n",
      " 5971 6011 6013 6038 6065 6086 6128 6147 6159 6172 6192 6194 6199 6202\n",
      " 6273 6275 6284 6296 6317 6322 6332 6334 6414 6427 6471 6486 6500 6514\n",
      " 6525 6533 6535 6573 6606 6624 6666 6679 6697 6703 6716 6725 6750 6774\n",
      " 6804 6805 6817 6830 6845 6865 6869 6892 6895 6913 6915 6920 6928 6929\n",
      " 6936 6957 6966 6990 7031 7054 7068 7101 7125 7142 7143 7155 7156 7164\n",
      " 7213 7219 7228 7237 7250 7266 7289 7291 7304 7307 7309 7332 7348 7403\n",
      " 7413 7426 7440 7469 7475 7495 7496 7552 7559 7580 7584 7600 7605 7616\n",
      " 7678 7684 7690 7726 7749 7750 7763 7768 7788 7825 7828 7838 7844 7904\n",
      " 7908 7953 8060 8062 8072 8078 8109 8118 8139 8168 8217 8237 8250 8255\n",
      " 8284 8331 8333 8346 8350 8363 8377 8438 8445 8499 8551 8552 8618 8624\n",
      " 8659 8683 8689 8696 8735 8770 8787 8792 8821 8822 8855 8893 8916 8930\n",
      " 8954 9047 9068 9095 9097 9108 9128 9131 9180 9182 9215 9249 9261 9284\n",
      " 9297 9299 9318 9332 9335 9344 9364 9395 9405 9422 9423 9434 9453 9454\n",
      " 9464 9475 9486 9507 9526 9542 9559 9588 9596 9601 9623 9656 9688 9695\n",
      " 9707 9725 9795 9835 9886 9898 9915 9920 9922 9981 9987 9990]\n"
     ]
    }
   ],
   "source": [
    "jump_idx_before_n_pred = jump_idx_list[(jump_idx_list[:,clock_idx] < n_pred), clock_idx]\n",
    "\n",
    "print(\"Number data has jump: %s\" % jump_idx_before_n_pred.shape[0])\n",
    "print(np.sort(jump_idx_before_n_pred))"
   ]
  },
  {
   "cell_type": "code",
   "execution_count": 25,
   "metadata": {},
   "outputs": [],
   "source": [
    "def cal_precision_recall(true_list, pred_list):\n",
    "    count = 0\n",
    "    for item in true_list:\n",
    "        if item in pred_list:\n",
    "            count += 1\n",
    "    return count / len(true_list), count / len(pred_list)"
   ]
  },
  {
   "cell_type": "code",
   "execution_count": 29,
   "metadata": {},
   "outputs": [
    {
     "name": "stdout",
     "output_type": "stream",
     "text": [
      "Precision: 0.624031007751938\n",
      "Recall: 1.0\n"
     ]
    }
   ],
   "source": [
    "precision, recall = cal_precision_recall(list(jump_idx_before_n_pred), alert_idxs)\n",
    "print(\"Precision: %s\" % precision)\n",
    "print(\"Recall: %s\" % recall)"
   ]
  }
 ],
 "metadata": {
  "kernelspec": {
   "display_name": "Python 3",
   "language": "python",
   "name": "python3"
  },
  "language_info": {
   "codemirror_mode": {
    "name": "ipython",
    "version": 3
   },
   "file_extension": ".py",
   "mimetype": "text/x-python",
   "name": "python",
   "nbconvert_exporter": "python",
   "pygments_lexer": "ipython3",
   "version": "3.6.8"
  }
 },
 "nbformat": 4,
 "nbformat_minor": 4
}
