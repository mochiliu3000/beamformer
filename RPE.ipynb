{
 "cells": [
  {
   "cell_type": "markdown",
   "metadata": {},
   "source": [
    "## 镜像钟异常数据检测 （基于Random Pursuit Extrapolation）"
   ]
  },
  {
   "cell_type": "code",
   "execution_count": 1,
   "metadata": {},
   "outputs": [],
   "source": [
    "import numpy as np\n",
    "import pandas as pd\n",
    "import allantools\n",
    "import random\n",
    "\n",
    "import matplotlib.pyplot as plt\n",
    "%matplotlib inline"
   ]
  },
  {
   "cell_type": "markdown",
   "metadata": {},
   "source": [
    "### 1. Noise Removal"
   ]
  },
  {
   "cell_type": "markdown",
   "metadata": {},
   "source": [
    "There are several ways to remove the noise: Minus Optical Frequency Atomic Clock or by filtering"
   ]
  },
  {
   "cell_type": "code",
   "execution_count": 2,
   "metadata": {},
   "outputs": [
    {
     "name": "stdout",
     "output_type": "stream",
     "text": [
      "              0             1             2             3             4\n",
      "0 -4.537900e-14 -1.173813e-13 -4.935266e-14  5.261262e-14  3.341675e-14\n",
      "1 -2.265000e-14 -1.012483e-13 -2.193466e-14  7.542133e-14  5.472819e-14\n",
      "2 -2.400067e-14 -1.073680e-13 -3.274267e-14  7.192254e-14  4.664103e-14\n",
      "3 -3.465033e-14 -1.099903e-13 -3.329933e-14  6.341656e-14  4.328410e-14\n",
      "4 -4.402800e-14 -1.180173e-13 -4.402800e-14  5.793730e-14  3.468831e-14\n",
      "---------------------------------------------------------------------------------\n",
      "              0             1             2             3             4\n",
      "0 -3.186127e-14 -1.042013e-13 -3.368007e-14  7.139593e-14  4.629043e-14\n",
      "1 -3.329154e-14 -1.050449e-13 -3.480009e-14  7.011645e-14  4.475857e-14\n",
      "2 -3.232515e-14 -1.039899e-13 -3.387485e-14  7.111891e-14  4.525628e-14\n",
      "3 -3.188633e-14 -1.039053e-13 -3.381625e-14  7.073285e-14  4.516182e-14\n",
      "4 -3.225678e-14 -1.042485e-13 -3.383386e-14  7.039006e-14  4.487599e-14\n"
     ]
    }
   ],
   "source": [
    "minus_optical_data_dir = '/opt/beamformer/GAN/data/real_after_30000.csv'\n",
    "FIR_data_dir = '/opt/beamformer/GAN/data/filtered_data.csv'\n",
    "\n",
    "df_minus_optical_data_all = pd.read_csv(minus_optical_data_dir, header = None)\n",
    "df_FIR_data = pd.read_csv(FIR_data_dir, header = None)\n",
    "\n",
    "print(df_minus_optical_data_all.head(5))\n",
    "print('---------------------------------------------------------------------------------')\n",
    "print(df_FIR_data.head(5))"
   ]
  },
  {
   "cell_type": "code",
   "execution_count": 3,
   "metadata": {},
   "outputs": [],
   "source": [
    "# NOTE: We only use 3 clocks out of 5\n",
    "df_minus_optical_data = df_minus_optical_data_all.iloc[:,1:4]"
   ]
  },
  {
   "cell_type": "code",
   "execution_count": 4,
   "metadata": {},
   "outputs": [
    {
     "name": "stdout",
     "output_type": "stream",
     "text": [
      "taus - [1.0000e+00 2.0000e+00 4.0000e+00 8.0000e+00 1.6000e+01 3.2000e+01\n",
      " 6.4000e+01 1.2800e+02 2.5600e+02 5.1200e+02 1.0240e+03 2.0480e+03\n",
      " 4.0960e+03 8.1920e+03 1.6384e+04]\n",
      "adevs - [8.62941227e-15 4.80745940e-15 2.81686893e-15 2.30855263e-15\n",
      " 1.91517625e-15 1.52644771e-15 1.14856427e-15 8.25145040e-16\n",
      " 6.40353514e-16 4.97971238e-16 4.82286071e-16 5.89988237e-16\n",
      " 1.03310482e-15 2.04180207e-15 4.11935315e-15]\n",
      "----------------------------------------\n",
      "taus - [1.0000e+00 2.0000e+00 4.0000e+00 8.0000e+00 1.6000e+01 3.2000e+01\n",
      " 6.4000e+01 1.2800e+02 2.5600e+02 5.1200e+02 1.0240e+03 2.0480e+03\n",
      " 4.0960e+03 8.1920e+03 1.6384e+04]\n",
      "adevs - [8.56004643e-15 4.65528123e-15 2.52071931e-15 1.92582714e-15\n",
      " 1.60668913e-15 1.30907023e-15 1.02082863e-15 7.13577087e-16\n",
      " 5.64153377e-16 4.02652984e-16 3.50001067e-16 3.26666782e-16\n",
      " 4.55192255e-16 8.39947833e-16 1.56480677e-15]\n",
      "----------------------------------------\n",
      "taus - [1.0000e+00 2.0000e+00 4.0000e+00 8.0000e+00 1.6000e+01 3.2000e+01\n",
      " 6.4000e+01 1.2800e+02 2.5600e+02 5.1200e+02 1.0240e+03 2.0480e+03\n",
      " 4.0960e+03 8.1920e+03 1.6384e+04]\n",
      "adevs - [8.49897939e-15 4.66472036e-15 2.51592537e-15 1.94799606e-15\n",
      " 1.62697632e-15 1.30089300e-15 1.02638795e-15 7.16053663e-16\n",
      " 5.70712743e-16 3.99286822e-16 3.62328943e-16 3.04722564e-16\n",
      " 3.43455444e-16 5.20500672e-16 6.49817674e-16]\n",
      "----------------------------------------\n"
     ]
    },
    {
     "data": {
      "image/png": "[encoded data removed]",
      "text/plain": [
       "<Figure size 432x288 with 1 Axes>"
      ]
     },
     "metadata": {
      "needs_background": "light"
     },
     "output_type": "display_data"
    }
   ],
   "source": [
    "for i in range(df_minus_optical_data.shape[1]):\n",
    "    (taus, adevs, errors, ns) = allantools.adev(data=df_minus_optical_data.iloc[:,i].to_numpy(), data_type='freq')\n",
    "    print('taus - %s' % taus)\n",
    "    print('adevs - %s' % adevs)\n",
    "    print(\"----------------------------------------\")\n",
    "    plt.plot(np.log10(taus), np.log10(adevs))\n",
    "plt.show()"
   ]
  },
  {
   "cell_type": "markdown",
   "metadata": {},
   "source": [
    "### 2. Learning weight with Inverse Variance"
   ]
  },
  {
   "cell_type": "markdown",
   "metadata": {},
   "source": [
    "Use traditional inverse variance to learn the weight for each H-maser"
   ]
  },
  {
   "cell_type": "code",
   "execution_count": 5,
   "metadata": {},
   "outputs": [],
   "source": [
    "def inverse_variance(clock_data:np.ndarray, window_size:int, start_inx:int = 0, tau_level:int = 3):\n",
    "    # clock_data: array with shape - number_records * number_clock\n",
    "    # window_size: number of records within the calculation window\n",
    "    # start_idx: start record index of the window, default is 0\n",
    "    # tau_level: using allan variance for tau = 2 ** tau_level, default is tau = 8\n",
    "    inverse_variance = list()\n",
    "\n",
    "    for k in range(clock_data.shape[1]):\n",
    "        clock = clock_data[start_inx:start_inx + window_size, k]\n",
    "        (taus, adevs, errors, ns) = allantools.adev(data=clock, data_type='freq')\n",
    "        inverse_variance.append(1.0 / (adevs[tau_level + 1] ** 2))\n",
    "\n",
    "    inverse_variance = np.array(inverse_variance) / np.sum(np.array(inverse_variance))\n",
    "    return inverse_variance"
   ]
  },
  {
   "cell_type": "code",
   "execution_count": 6,
   "metadata": {},
   "outputs": [
    {
     "name": "stdout",
     "output_type": "stream",
     "text": [
      "[0.18309078 0.42019643 0.39671279]\n"
     ]
    }
   ],
   "source": [
    "inverse_variance_start_idx = 0\n",
    "inverse_variance_window_size = int(60 / 5 * 24) # 24 hours, 1 point every 5 min\n",
    "clock_arr = df_minus_optical_data.to_numpy()\n",
    "inverse_variance_weights = inverse_variance(clock_arr, inverse_variance_window_size, inverse_variance_start_idx)\n",
    "print(inverse_variance_weights)"
   ]
  },
  {
   "cell_type": "markdown",
   "metadata": {},
   "source": [
    "### 3. Sigma calculation"
   ]
  },
  {
   "cell_type": "code",
   "execution_count": 7,
   "metadata": {},
   "outputs": [],
   "source": [
    "def cal_sigmas(clock_data:np.ndarray, window_size:int, start_inx:int = 0):\n",
    "    clocks = clock_data[start_inx:start_inx + window_size, :]\n",
    "    sigmas = np.std(clocks, axis=0)\n",
    "    return sigmas"
   ]
  },
  {
   "cell_type": "code",
   "execution_count": 8,
   "metadata": {},
   "outputs": [
    {
     "name": "stdout",
     "output_type": "stream",
     "text": [
      "[6.99350707e-15 6.61503707e-15 6.78670864e-15]\n"
     ]
    }
   ],
   "source": [
    "sigmas = cal_sigmas(clock_arr, inverse_variance_window_size, inverse_variance_start_idx)\n",
    "print(sigmas)"
   ]
  },
  {
   "cell_type": "markdown",
   "metadata": {},
   "source": [
    "### 4. Jump generation"
   ]
  },
  {
   "cell_type": "code",
   "execution_count": 9,
   "metadata": {},
   "outputs": [
    {
     "name": "stdout",
     "output_type": "stream",
     "text": [
      "**************************** SUMMARY ****************************\n",
      "Original Data Shape: (74271, 3)\n",
      "Inverse Variance Shape: (288, 3)\n",
      "Remaining Data Shape: (73983, 3)\n",
      "Random Pursuit Start Index 288 and Window Size: 288\n",
      "Random Pursuit Values to predict: 20000\n"
     ]
    }
   ],
   "source": [
    "rp_start_inx = inverse_variance_start_idx + inverse_variance_window_size\n",
    "rp_window_size = 12 * 24     # 24 hours, 1 point every 5 min\n",
    "N = 12 * 6                   # 6 hours, 1 point every 5 min\n",
    "s_size = 1\n",
    "#n_pred = clock_arr.shape[0] - (rp_start_inx + rp_window_size) - 1\n",
    "n_pred = 20000\n",
    "remaining_size = clock_arr.shape[0] - inverse_variance_window_size\n",
    "\n",
    "print('**************************** SUMMARY ****************************')\n",
    "print('Original Data Shape: %s' % str(clock_arr.shape))\n",
    "print('Inverse Variance Shape: (%s, %s)' % (inverse_variance_window_size, clock_arr.shape[1]))\n",
    "print('Remaining Data Shape: (%s, %s)' % (remaining_size, clock_arr.shape[1]))\n",
    "print('Random Pursuit Start Index %s and Window Size: %s' % (rp_start_inx, rp_window_size))\n",
    "print('Random Pursuit Values to predict: %s' % n_pred)"
   ]
  },
  {
   "cell_type": "code",
   "execution_count": 10,
   "metadata": {},
   "outputs": [],
   "source": [
    "def generate_jump(jump_lower_bound:float, jump_higher_bound:float, clock_remaining_size:int, rand_keep_size:int,\n",
    "                  sigmas:np.array, jump_clock_idx:list, if_same_idx:bool, if_same_direction:bool):\n",
    "    \"\"\"generate random jump.\n",
    "    # Arguments\n",
    "        jump_lower_bound: Float, lower bound of jump, number of sigmas.\n",
    "        jump_higher_bound: Float, upper bound of jump, number of sigmas.\n",
    "        clock_remaining_size: Integer, size of one clock.\n",
    "        rand_keep_size: Integer, size of random jumps. Should be less than clock_remaining_size.\n",
    "        sigmas: Ndarray, with shape (num_clocks, ). sigma for each clock.\n",
    "        jump_clock_idx: A list, contains the index of jump clocks.\n",
    "        if_same_idx: Boolean, if the clocks in list jump_clock_idx jumps at the same index.\n",
    "        if_same_direction: Boolean, if the clocks in list jump_clock_idx jumps in the same direction.\n",
    "\n",
    "    # Returns\n",
    "        jumps: Ndarray, with shape (clock_remaining_size, num_clocks), contains the jump value for each clock at each time point.\n",
    "        jump_idx_list:  Ndarray, with shape (rand_keep_size, 1), contains the index of jumps.\n",
    "    \"\"\"\n",
    "    \n",
    "    rand_keep_idx_list = list()\n",
    "    jump_amplifer = np.random.uniform(jump_lower_bound, jump_higher_bound, (clock_remaining_size, 1))\n",
    "    zeros = np.zeros((clock_remaining_size, sigmas.shape[0]))\n",
    "    rand_keep_idx = random.sample(range(clock_remaining_size), rand_keep_size)\n",
    "    neg_idx = random.sample(rand_keep_idx, len(rand_keep_idx) // 2)\n",
    "\n",
    "    if len(jump_clock_idx) == 1:\n",
    "        print('1 clock jumps, the index is %s' % jump_clock_idx[0])\n",
    "        zeros[rand_keep_idx,jump_clock_idx[0]] = jump_amplifer[rand_keep_idx,0] * sigmas[jump_clock_idx[0]]\n",
    "        zeros[neg_idx,i] = zeros[neg_idx,i] * (-1)\n",
    "        rand_keep_idx_list.append(rand_keep_idx)\n",
    "    elif len(jump_clock_idx) == 2:\n",
    "        if if_same_idx:\n",
    "            if if_same_direction:\n",
    "                print('2 clocks jump in same direction, the index are %s' % str(jump_clock_idx))\n",
    "                for idx in jump_clock_idx:\n",
    "                    zeros[rand_keep_idx,idx] = jump_amplifer[rand_keep_idx,0] * sigmas[idx]\n",
    "                    zeros[neg_idx,idx] = zeros[neg_idx,idx] * (-1)\n",
    "                    rand_keep_idx_list.append(rand_keep_idx)\n",
    "            else:\n",
    "                print('2 clocks jump in different direction, the index are %s' % str(jump_clock_idx))\n",
    "                switch = 1\n",
    "                for idx in jump_clock_idx:\n",
    "                    zeros[rand_keep_idx,idx] = jump_amplifer[rand_keep_idx,0] * sigmas[idx] * switch\n",
    "                    zeros[neg_idx,idx] = zeros[neg_idx,idx] * (-1) * switch\n",
    "                    rand_keep_idx_list.append(rand_keep_idx)\n",
    "                    switch *= -1\n",
    "        else:\n",
    "            raise Exception('Goes back to 1 clock jump scenenario. Exit')\n",
    "    else:\n",
    "        raise Exception('Length of jump_clock_idx should be 1 or 2. Exit')\n",
    "\n",
    "    return zeros, np.array(rand_keep_idx_list).T"
   ]
  },
  {
   "cell_type": "code",
   "execution_count": 11,
   "metadata": {},
   "outputs": [
    {
     "name": "stdout",
     "output_type": "stream",
     "text": [
      "2 clocks jump in same direction, the index are [0, 1]\n"
     ]
    }
   ],
   "source": [
    "# For 1 jump\n",
    "# jump_lower_bound = 3.0\n",
    "# jump_higher_bound = 5.0\n",
    "jump_lower_bound = 5.0\n",
    "jump_higher_bound = 10.0\n",
    "rand_keep_size = 4000\n",
    "jump_clock_idx = [0,1]\n",
    "\n",
    "# Works only when len(jump_clock_idx) == 2\n",
    "if_same_idx = True\n",
    "if_same_direction = True\n",
    "\n",
    "jumps, jump_idx_list = generate_jump(jump_lower_bound, jump_higher_bound, remaining_size-rp_start_inx, rand_keep_size, sigmas, jump_clock_idx, if_same_idx, if_same_direction)"
   ]
  },
  {
   "cell_type": "code",
   "execution_count": 12,
   "metadata": {},
   "outputs": [
    {
     "name": "stdout",
     "output_type": "stream",
     "text": [
      "Jumps Data Shape: (73695, 3)\n",
      "Jumps only exists after index: 288\n",
      "By adding Zeros, Final Jumps Data Shape: (73983, 3)\n",
      "Random Jump Index Shape: (4000, 2)\n"
     ]
    }
   ],
   "source": [
    "final_jumps = np.concatenate((np.zeros((rp_window_size, clock_arr.shape[1])), jumps), axis=0)\n",
    "\n",
    "print('Jumps Data Shape: %s' % str(jumps.shape))\n",
    "print('Jumps only exists after index: %s' % rp_start_inx)\n",
    "print('By adding Zeros, Final Jumps Data Shape: %s' % str(final_jumps.shape))\n",
    "print('Random Jump Index Shape: %s' % str(jump_idx_list.shape))\n",
    "clock_rp_arr = clock_arr[rp_start_inx:,]\n",
    "clock_rp_arr_with_jumps = clock_rp_arr + final_jumps"
   ]
  },
  {
   "cell_type": "markdown",
   "metadata": {},
   "source": [
    "### 5. Drift learning and Extrapolation with Random Pursuit"
   ]
  },
  {
   "cell_type": "markdown",
   "metadata": {},
   "source": [
    "Use random pursuit to learn the weight for each H-maser"
   ]
  },
  {
   "cell_type": "code",
   "execution_count": 13,
   "metadata": {},
   "outputs": [
    {
     "name": "stdout",
     "output_type": "stream",
     "text": [
      "After minus ensemble Data, has Shape: (73983, 3)\n"
     ]
    }
   ],
   "source": [
    "# Minus H-ensemble first\n",
    "clock_rp_ensemble = np.dot(clock_rp_arr_with_jumps, inverse_variance_weights)\n",
    "clock_rp_minus_ensemble = clock_rp_arr_with_jumps - clock_rp_ensemble.reshape(-1,1)\n",
    "print('After minus ensemble Data, has Shape: %s' % str(clock_rp_minus_ensemble.shape))"
   ]
  },
  {
   "cell_type": "code",
   "execution_count": 14,
   "metadata": {},
   "outputs": [],
   "source": [
    "#for i in range(clock_rp_minus_ensemble.shape[1]):\n",
    "    #clock_x = clock_rp_minus_ensemble[:,i]\n",
    "    #clock_y = clock_rp_minus_ensemble[rp_window_size:,i]"
   ]
  },
  {
   "cell_type": "code",
   "execution_count": 15,
   "metadata": {},
   "outputs": [],
   "source": [
    "def get_real_jumps(clock_y, rolling_window_size, rolling_step_size, threshold, rp_start_inx):\n",
    "    jumps = set()\n",
    "    num_iter = (len(clock_y) - rolling_window_size) // rolling_step_size + 1\n",
    "    \n",
    "    for i in range(0, num_iter):\n",
    "        this_iter_data = clock_y[i * rolling_step_size : i * rolling_step_size + rolling_window_size] \n",
    "        bool_jumps = np.abs(this_iter_data - np.mean(this_iter_data)) >= threshold\n",
    "        this_iter_jumps = np.array([i for i in range(i * rolling_step_size, i * rolling_step_size + rolling_window_size)])[bool_jumps]\n",
    "        # NOTE: Need to minus rp_start_inx, as we add jumps after rp_start_inx\n",
    "        jumps.update(list(this_iter_jumps - rp_start_inx))\n",
    "        \n",
    "    return sorted(list(jumps))"
   ]
  },
  {
   "cell_type": "code",
   "execution_count": 16,
   "metadata": {},
   "outputs": [
    {
     "name": "stdout",
     "output_type": "stream",
     "text": [
      "****************************** Clock 0 ******************************\n",
      "Initiate - Shuffled inx with shape: (72, 4)\n",
      "... ... This is iteration 500 ... ...\n",
      "... ... This is iteration 1000 ... ...\n",
      "... ... This is iteration 1500 ... ...\n",
      "... ... This is iteration 2000 ... ...\n",
      "... ... This is iteration 2500 ... ...\n",
      "... ... This is iteration 3000 ... ...\n",
      "... ... This is iteration 3500 ... ...\n",
      "... ... This is iteration 4000 ... ...\n",
      "... ... This is iteration 4500 ... ...\n",
      "... ... This is iteration 5000 ... ...\n",
      "... ... This is iteration 5500 ... ...\n",
      "... ... This is iteration 6000 ... ...\n",
      "... ... This is iteration 6500 ... ...\n",
      "... ... This is iteration 7000 ... ...\n",
      "... ... This is iteration 7500 ... ...\n",
      "... ... This is iteration 8000 ... ...\n",
      "... ... This is iteration 8500 ... ...\n",
      "... ... This is iteration 9000 ... ...\n",
      "... ... This is iteration 9500 ... ...\n",
      "... ... This is iteration 10000 ... ...\n",
      "... ... This is iteration 10500 ... ...\n",
      "... ... This is iteration 11000 ... ...\n",
      "... ... This is iteration 11500 ... ...\n",
      "... ... This is iteration 12000 ... ...\n",
      "... ... This is iteration 12500 ... ...\n",
      "... ... This is iteration 13000 ... ...\n",
      "... ... This is iteration 13500 ... ...\n",
      "... ... This is iteration 14000 ... ...\n",
      "... ... This is iteration 14500 ... ...\n",
      "... ... This is iteration 15000 ... ...\n",
      "... ... This is iteration 15500 ... ...\n",
      "... ... This is iteration 16000 ... ...\n",
      "... ... This is iteration 16500 ... ...\n",
      "... ... This is iteration 17000 ... ...\n",
      "... ... This is iteration 17500 ... ...\n",
      "... ... This is iteration 18000 ... ...\n",
      "... ... This is iteration 18500 ... ...\n",
      "... ... This is iteration 19000 ... ...\n",
      "... ... This is iteration 19500 ... ...\n",
      "... ... This is iteration 20000 ... ...\n"
     ]
    }
   ],
   "source": [
    "import random_pursuit\n",
    "'''\n",
    "        data_x: A ndarray, a series x value.\n",
    "        data_y: A ndarray, corresponding series of y value.\n",
    "        inx_h: Integer, max index of history data.\n",
    "        l_inx: Integer, length of history data used for pursuit. Or say, the size of sliding window.\n",
    "        N: Interger, number of points in each regression.\n",
    "        inx_p: Integer, the index of the data point to predict. If set to -1, the point with index (inx_h+1) will be predicted.\n",
    "        n_pred: Interger, number of points to predict with sliding window.\n",
    "        s_size: Interger, the moving step size of sliding window.\n",
    "        percent_value: Float, max percentage for weight recaculation.\n",
    "        method: String, 'inverse' or 'softmax', how weights are calculated from losses\n",
    "'''\n",
    "\n",
    "clock_rp_extrapolation_list = list()\n",
    "\n",
    "#for i in jump_clock_idx:\n",
    "for i in [0]:    \n",
    "    print('****************************** Clock %s ******************************' % i)\n",
    "    clock_x = np.arange(clock_rp_minus_ensemble.shape[0]).reshape(-1,1) * 300  # 1 point every 5 minute\n",
    "    clock_y = clock_rp_minus_ensemble[:,i]\n",
    "    inx_h = rp_window_size - 1\n",
    "    l_inx = rp_window_size\n",
    "    N = N\n",
    "    n_pred = n_pred\n",
    "    s_size = s_size\n",
    "    method = 'inverse'\n",
    "    threshold = 3 * sigmas[i]\n",
    "    \n",
    "    rolling_window_size = 500\n",
    "    rolling_step_size = 1\n",
    "    \n",
    "    real_jumps = get_real_jumps(clock_y, rolling_window_size, rolling_step_size, threshold, rp_start_inx)\n",
    "    \n",
    "    clock_pred_results, alert_idxs, refined_clock_y, rp_real_jumps = random_pursuit.random_pursuit(\n",
    "        data_x = clock_x, \n",
    "        data_y = clock_y, \n",
    "        threshold = threshold,\n",
    "        inx_h = inx_h, \n",
    "        l_inx = l_inx, \n",
    "        N = N,\n",
    "        inx_p = -1, \n",
    "        n_pred = n_pred, \n",
    "        s_size = s_size, \n",
    "        percent_value = -1, \n",
    "        with_self_resid = False,\n",
    "        method = method\n",
    "    )\n",
    "    clock_rp_extrapolation_list.append(clock_pred_results)"
   ]
  },
  {
   "cell_type": "code",
   "execution_count": 17,
   "metadata": {},
   "outputs": [],
   "source": [
    "from pylab import plot, show, grid, xlabel, ylabel"
   ]
  },
  {
   "cell_type": "code",
   "execution_count": 18,
   "metadata": {},
   "outputs": [
    {
     "name": "stdout",
     "output_type": "stream",
     "text": [
      "taus - [1.000e+00 2.000e+00 4.000e+00 8.000e+00 1.600e+01 3.200e+01 6.400e+01\n",
      " 1.280e+02 2.560e+02 5.120e+02 1.024e+03 2.048e+03 4.096e+03], adevs - [5.79925244e-15 4.11602376e-15 2.99438429e-15 2.36806135e-15\n",
      " 1.84550512e-15 1.36595211e-15 9.74846985e-16 7.49677874e-16\n",
      " 5.51052750e-16 4.09121521e-16 2.82138852e-16 4.14866851e-16\n",
      " 8.30196068e-16]\n"
     ]
    }
   ],
   "source": [
    "(taus_origin, adevs_origin, errors, ns) = allantools.adev(data=clock_y[:n_pred], data_type='freq')\n",
    "print('taus - %s, adevs - %s' % (taus_origin, adevs_origin))"
   ]
  },
  {
   "cell_type": "code",
   "execution_count": 19,
   "metadata": {},
   "outputs": [
    {
     "name": "stdout",
     "output_type": "stream",
     "text": [
      "taus - [1.000e+00 2.000e+00 4.000e+00 8.000e+00 1.600e+01 3.200e+01 6.400e+01\n",
      " 1.280e+02 2.560e+02 5.120e+02 1.024e+03 2.048e+03 4.096e+03], adevs - [3.63378565e-15 2.59086398e-15 1.95582220e-15 1.59257969e-15\n",
      " 1.32433413e-15 1.00816187e-15 7.82904835e-16 6.32007627e-16\n",
      " 5.06425410e-16 3.65630881e-16 2.40355324e-16 4.10821985e-16\n",
      " 7.94351553e-16]\n"
     ]
    }
   ],
   "source": [
    "(taus_refined, adevs_refined, errors, ns) = allantools.adev(data=refined_clock_y[:n_pred], data_type='freq')\n",
    "print('taus - %s, adevs - %s' % (taus_refined, adevs_refined))"
   ]
  },
  {
   "cell_type": "code",
   "execution_count": 20,
   "metadata": {},
   "outputs": [
    {
     "data": {
      "image/png": "[encoded data removed]",
      "text/plain": [
       "<Figure size 432x288 with 1 Axes>"
      ]
     },
     "metadata": {
      "needs_background": "light"
     },
     "output_type": "display_data"
    }
   ],
   "source": [
    "# https://pydatascience.org/2017/11/24/plot-multiple-lines-in-one-chart-with-different-style-python-matplotlib/\n",
    "plot(np.log10(taus_origin), np.log10(adevs_origin), 'r--', np.log10(taus_refined), np.log10(adevs_refined), 'b--')\n",
    "xlabel('taus', fontsize=16)\n",
    "ylabel('allan', fontsize=16)\n",
    "grid(True)\n",
    "show()"
   ]
  },
  {
   "cell_type": "markdown",
   "metadata": {},
   "source": [
    "### 6. Performance evaluation"
   ]
  },
  {
   "cell_type": "markdown",
   "metadata": {},
   "source": [
    "Evaluate the stability and prediction accuracy"
   ]
  },
  {
   "cell_type": "code",
   "execution_count": 21,
   "metadata": {},
   "outputs": [
    {
     "name": "stdout",
     "output_type": "stream",
     "text": [
      "The clock to evaluate performance is 0\n"
     ]
    }
   ],
   "source": [
    "clock_idx = 0\n",
    "print('The clock to evaluate performance is %s' % clock_idx)"
   ]
  },
  {
   "cell_type": "code",
   "execution_count": 22,
   "metadata": {},
   "outputs": [],
   "source": [
    "real_clock_arr = clock_rp_minus_ensemble[rp_window_size:rp_window_size+n_pred,clock_idx]"
   ]
  },
  {
   "cell_type": "code",
   "execution_count": 23,
   "metadata": {},
   "outputs": [],
   "source": [
    "clock_pred_results = clock_rp_extrapolation_list[0]\n",
    "clock_pred_arr = np.array([clock_pred_results[i] for i in range(n_pred)])"
   ]
  },
  {
   "cell_type": "code",
   "execution_count": 24,
   "metadata": {},
   "outputs": [
    {
     "name": "stdout",
     "output_type": "stream",
     "text": [
      "Number of jump points are: 4000\n",
      "For inx < 20000, there are 1107 jump points\n"
     ]
    }
   ],
   "source": [
    "jump_idx = jump_idx_list[:,0] < n_pred\n",
    "print('Number of jump points are: %s' % rand_keep_size)\n",
    "print('For inx < %s, there are %s jump points' % (n_pred, np.sum(jump_idx)))"
   ]
  },
  {
   "cell_type": "code",
   "execution_count": 25,
   "metadata": {},
   "outputs": [
    {
     "data": {
      "text/plain": [
       "[<matplotlib.lines.Line2D at 0x7f5270957c18>]"
      ]
     },
     "execution_count": 25,
     "metadata": {},
     "output_type": "execute_result"
    },
    {
     "data": {
      "image/png": "[encoded data removed]",
      "text/plain": [
       "<Figure size 432x288 with 1 Axes>"
      ]
     },
     "metadata": {
      "needs_background": "light"
     },
     "output_type": "display_data"
    }
   ],
   "source": [
    "plt.plot(real_clock_arr)"
   ]
  },
  {
   "cell_type": "code",
   "execution_count": 26,
   "metadata": {},
   "outputs": [
    {
     "data": {
      "text/plain": [
       "[<matplotlib.lines.Line2D at 0x7f5270579c50>]"
      ]
     },
     "execution_count": 26,
     "metadata": {},
     "output_type": "execute_result"
    },
    {
     "data": {
      "image/png": "[encoded data removed]",
      "text/plain": [
       "<Figure size 432x288 with 1 Axes>"
      ]
     },
     "metadata": {
      "needs_background": "light"
     },
     "output_type": "display_data"
    }
   ],
   "source": [
    "plt.plot(clock_pred_arr)"
   ]
  },
  {
   "cell_type": "code",
   "execution_count": 27,
   "metadata": {},
   "outputs": [],
   "source": [
    "np.savetxt('txt-图7-1添加了跳变的第一台氢钟和其镜像原子钟的频率曲线.txt', real_clock_arr, delimiter=',')"
   ]
  },
  {
   "cell_type": "code",
   "execution_count": 28,
   "metadata": {},
   "outputs": [],
   "source": [
    "np.savetxt('txt-图7-2添加了跳变的第一台氢钟和其镜像原子钟的频率曲线.txt', clock_pred_arr, delimiter=',')"
   ]
  },
  {
   "cell_type": "code",
   "execution_count": 29,
   "metadata": {},
   "outputs": [
    {
     "name": "stdout",
     "output_type": "stream",
     "text": [
      "Number data alert: 656\n"
     ]
    }
   ],
   "source": [
    "print(\"Number data alert: %s\" % len(alert_idxs))"
   ]
  },
  {
   "cell_type": "code",
   "execution_count": 30,
   "metadata": {},
   "outputs": [],
   "source": [
    "# beyond_3_sigma = np.abs(real_clock_arr - clock_pred_arr) >= 3 * sigmas[clock_idx]\n",
    "# print(\"Number data beyond 3 sigma: %s\" % np.sum(beyond_3_sigma))\n",
    "# print(np.where(beyond_3_sigma)[0])"
   ]
  },
  {
   "cell_type": "code",
   "execution_count": 31,
   "metadata": {},
   "outputs": [
    {
     "name": "stdout",
     "output_type": "stream",
     "text": [
      "Number data has jump: 1107\n",
      "[    5    20    21 ... 19975 19988 19993]\n"
     ]
    }
   ],
   "source": [
    "jump_idx_before_n_pred = jump_idx_list[(jump_idx_list[:,0] < n_pred), 0]\n",
    "\n",
    "print(\"Number data has jump: %s\" % jump_idx_before_n_pred.shape[0])\n",
    "print(np.sort(jump_idx_before_n_pred))"
   ]
  },
  {
   "cell_type": "code",
   "execution_count": 32,
   "metadata": {},
   "outputs": [],
   "source": [
    "def cal_precision_recall(true_list, pred_list):\n",
    "    count = 0\n",
    "    for item in true_list:\n",
    "        if item in pred_list:\n",
    "            count += 1\n",
    "    return count / len(true_list), count / len(pred_list)"
   ]
  },
  {
   "cell_type": "code",
   "execution_count": 33,
   "metadata": {},
   "outputs": [
    {
     "name": "stdout",
     "output_type": "stream",
     "text": [
      "Number Jumps Added: 1107\n",
      "Number Jumps Predicted: 656\n",
      "Precision: 0.5925925925925926\n",
      "Recall: 1.0\n"
     ]
    }
   ],
   "source": [
    "precision, recall = cal_precision_recall(list(jump_idx_before_n_pred), alert_idxs)\n",
    "print(\"Number Jumps Added: %s\" % len(list(jump_idx_before_n_pred)))\n",
    "print(\"Number Jumps Predicted: %s\" % len(alert_idxs))\n",
    "print(\"Precision: %s\" % precision)\n",
    "print(\"Recall: %s\" % recall)"
   ]
  },
  {
   "cell_type": "code",
   "execution_count": 34,
   "metadata": {},
   "outputs": [],
   "source": [
    "real_jumps_20000 = list()\n",
    "for i in real_jumps:\n",
    "    if i <= 20000:\n",
    "        real_jumps_20000.append(i)"
   ]
  },
  {
   "cell_type": "code",
   "execution_count": 35,
   "metadata": {},
   "outputs": [
    {
     "name": "stdout",
     "output_type": "stream",
     "text": [
      "Number Real Jumps: 684\n",
      "Precision: 0.8903508771929824\n",
      "Recall: 0.9283536585365854\n"
     ]
    }
   ],
   "source": [
    "precision, recall = cal_precision_recall(real_jumps_20000, alert_idxs)\n",
    "print(\"Number Real Jumps: %s\" % len(real_jumps_20000))\n",
    "print(\"Precision: %s\" % precision)\n",
    "print(\"Recall: %s\" % recall)"
   ]
  },
  {
   "cell_type": "code",
   "execution_count": 36,
   "metadata": {},
   "outputs": [],
   "source": [
    "rp_real_jumps_20000 = list()\n",
    "for i in rp_real_jumps:\n",
    "    # NOTE: Need to minus rp_start_inx, as we add jumps after rp_start_inx\n",
    "    if i - rp_start_inx <= 20000:\n",
    "        rp_real_jumps_20000.append(i - rp_start_inx)"
   ]
  },
  {
   "cell_type": "code",
   "execution_count": 37,
   "metadata": {},
   "outputs": [
    {
     "name": "stdout",
     "output_type": "stream",
     "text": [
      "Number RP Real Jumps: 687\n",
      "Precision: 0.8908296943231441\n",
      "Recall: 0.9329268292682927\n"
     ]
    }
   ],
   "source": [
    "precision, recall = cal_precision_recall(rp_real_jumps_20000, alert_idxs)\n",
    "print(\"Number RP Real Jumps: %s\" % len(rp_real_jumps_20000))\n",
    "print(\"Precision: %s\" % precision)\n",
    "print(\"Recall: %s\" % recall)"
   ]
  }
 ],
 "metadata": {
  "kernelspec": {
   "display_name": "Python 3",
   "language": "python",
   "name": "python3"
  },
  "language_info": {
   "codemirror_mode": {
    "name": "ipython",
    "version": 3
   },
   "file_extension": ".py",
   "mimetype": "text/x-python",
   "name": "python",
   "nbconvert_exporter": "python",
   "pygments_lexer": "ipython3",
   "version": "3.6.8"
  }
 },
 "nbformat": 4,
 "nbformat_minor": 4
}
