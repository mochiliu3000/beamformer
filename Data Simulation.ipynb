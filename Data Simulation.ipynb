{
 "cells": [
  {
   "cell_type": "markdown",
   "metadata": {},
   "source": [
    "##### 1. 基础仿真数据的生成"
   ]
  },
  {
   "cell_type": "markdown",
   "metadata": {},
   "source": [
    "$ y(t)=[a + \\epsilon{_1} * GN{_1}(\\mu_1,\\sigma_1)] + [b + \\epsilon{_2} * GN{_2}(\\mu_2,\\sigma_2)] * t $"
   ]
  },
  {
   "cell_type": "markdown",
   "metadata": {},
   "source": [
    "$ GN_{1} $ 代表钟在频率a上的噪声，$ GN_{2} $ 代表钟在频率漂移b上的噪声"
   ]
  },
  {
   "cell_type": "markdown",
   "metadata": {},
   "source": [
    "$ a = μ_1 = μ_2 = 0, b = 10^{-15}, σ_1 = 2 × 10^{-30}, σ_2 = 10^{-34}, t = 1, 2, 3... $"
   ]
  },
  {
   "cell_type": "code",
   "execution_count": 29,
   "metadata": {},
   "outputs": [],
   "source": [
    "a = 0\n",
    "b = 10 ** (-15)\n",
    "epsilon_1 = 1.0\n",
    "epsilon_2 = 0.1\n",
    "mu_1 = 0\n",
    "mu_2 = 0\n",
    "sigma_1 = 2 * 10 ** (-30)\n",
    "sigma_2 = 10 ** (-34)\n",
    "\n",
    "t = range(1,11) # 1,2,3...100\n",
    "clock_size = 5"
   ]
  },
  {
   "cell_type": "code",
   "execution_count": 30,
   "metadata": {},
   "outputs": [],
   "source": [
    "import math\n",
    "import numpy as np\n",
    "frequency = a + epsilon_1 * np.random.normal(loc=mu_1, scale=math.sqrt(sigma_1), size=(len(t), clock_size))\n",
    "frequency_drift = b + epsilon_2 * np.random.normal(loc=mu_2, scale=math.sqrt(sigma_2), size=(len(t), clock_size))"
   ]
  },
  {
   "cell_type": "code",
   "execution_count": 45,
   "metadata": {},
   "outputs": [],
   "source": [
    "y_t = frequency + np.array(t).reshape((-1,1)) * frequency_drift"
   ]
  },
  {
   "cell_type": "code",
   "execution_count": 46,
   "metadata": {},
   "outputs": [
    {
     "name": "stdout",
     "output_type": "stream",
     "text": [
      "[[-2.89868480e-16 -8.82441404e-16 -1.40135019e-15  2.08068446e-15\n",
      "   1.24836858e-15]\n",
      " [ 3.54134823e-15  2.34713149e-15  1.17413326e-15  3.58976444e-15\n",
      "   3.86055656e-15]\n",
      " [ 1.28991673e-15  3.63646708e-15  2.59326591e-15  3.55235827e-15\n",
      "   2.81002022e-15]\n",
      " [ 3.37513373e-15  5.14746322e-15  4.53823583e-15  2.69306712e-15\n",
      "   3.06460913e-15]\n",
      " [ 5.18286706e-15  4.22976668e-15  5.45079283e-15  7.71359010e-15\n",
      "   3.49415445e-15]\n",
      " [ 6.26494717e-15  7.25283688e-15  5.03070340e-15  6.23966626e-15\n",
      "   5.86238097e-15]\n",
      " [ 7.89567368e-15  9.64675402e-15  4.45590605e-15  7.51555286e-15\n",
      "   9.01345963e-15]\n",
      " [ 7.69186352e-15  7.79926589e-15  8.24478922e-15  1.03379088e-14\n",
      "   7.36258289e-15]\n",
      " [ 7.36155675e-15  1.06945702e-14  9.44849305e-15  9.69720631e-15\n",
      "   1.05941454e-14]\n",
      " [ 1.09129089e-14  1.30181736e-14  6.92299131e-15  8.67962506e-15\n",
      "   1.04093761e-14]]\n"
     ]
    }
   ],
   "source": [
    "print(y_t)"
   ]
  },
  {
   "cell_type": "markdown",
   "metadata": {},
   "source": [
    "##### 2. 添加相关性扰动"
   ]
  },
  {
   "cell_type": "markdown",
   "metadata": {},
   "source": [
    "$ y_{i}(t) = y_{i}(t) + \\beta GN_{s}, -1 < \\beta < 1 $"
   ]
  },
  {
   "cell_type": "markdown",
   "metadata": {},
   "source": [
    "$ GN_{s} $ 代表环境产生的噪声。β表示相关性的大小，用它来控制钟之间的相关性"
   ]
  },
  {
   "cell_type": "code",
   "execution_count": 53,
   "metadata": {},
   "outputs": [
    {
     "name": "stdout",
     "output_type": "stream",
     "text": [
      "[ 0.0108171   0.24288759  0.54105853  0.53576243 -0.30057881]\n",
      "[[-6.39191450e-16]\n",
      " [ 6.11263501e-16]\n",
      " [-8.97056706e-16]\n",
      " [ 3.56133752e-16]\n",
      " [ 5.58774513e-16]\n",
      " [ 4.66244207e-16]\n",
      " [ 6.25164114e-16]\n",
      " [-1.48449635e-15]\n",
      " [-4.30629167e-17]\n",
      " [-4.58123895e-17]]\n"
     ]
    }
   ],
   "source": [
    "mu_s = 0\n",
    "sigma_s = 10 ** (-30)\n",
    "beta = np.random.uniform(-1.0, 1.0, clock_size)\n",
    "noice_global = np.random.normal(loc=mu_s, scale=math.sqrt(sigma_s), size=(len(t), 1))\n",
    "print(beta)\n",
    "print(noice_global)"
   ]
  },
  {
   "cell_type": "code",
   "execution_count": 55,
   "metadata": {},
   "outputs": [
    {
     "name": "stdout",
     "output_type": "stream",
     "text": [
      "[[-2.96782678e-16 -1.03769308e-15 -1.74719017e-15  1.73822970e-15\n",
      "   1.44049598e-15]\n",
      " [ 3.54796032e-15  2.49559981e-15  1.50486259e-15  3.91725646e-15\n",
      "   3.67682370e-15]\n",
      " [ 1.28021318e-15  3.41858313e-15  2.10790573e-15  3.07174899e-15\n",
      "   3.07965645e-15]\n",
      " [ 3.37898606e-15  5.23396369e-15  4.73092503e-15  2.88387020e-15\n",
      "   2.95756287e-15]\n",
      " [ 5.18891138e-15  4.36548608e-15  5.75312255e-15  8.01296049e-15\n",
      "   3.32619867e-15]\n",
      " [ 6.26999058e-15  7.36608181e-15  5.28296880e-15  6.48946239e-15\n",
      "   5.72223784e-15]\n",
      " [ 7.90243614e-15  9.79859863e-15  4.79415642e-15  7.85049230e-15\n",
      "   8.82554855e-15]\n",
      " [ 7.67580558e-15  7.43870014e-15  7.44158981e-15  9.54257141e-15\n",
      "   7.80879104e-15]\n",
      " [ 7.36109093e-15  1.06841107e-14  9.42519349e-15  9.67413481e-15\n",
      "   1.06070892e-14]\n",
      " [ 1.09124134e-14  1.30070463e-14  6.89820413e-15  8.65508050e-15\n",
      "   1.04231463e-14]]\n"
     ]
    }
   ],
   "source": [
    "y_t = y_t + noice_global * beta\n",
    "print(y_t)"
   ]
  }
 ],
 "metadata": {
  "kernelspec": {
   "display_name": "Python 3",
   "language": "python",
   "name": "python3"
  },
  "language_info": {
   "codemirror_mode": {
    "name": "ipython",
    "version": 3
   },
   "file_extension": ".py",
   "mimetype": "text/x-python",
   "name": "python",
   "nbconvert_exporter": "python",
   "pygments_lexer": "ipython3",
   "version": "3.6.8"
  }
 },
 "nbformat": 4,
 "nbformat_minor": 4
}
