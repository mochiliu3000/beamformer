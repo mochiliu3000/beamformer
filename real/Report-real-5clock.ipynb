{
 "cells": [
  {
   "cell_type": "markdown",
   "metadata": {},
   "source": [
    "# Generate Report Results"
   ]
  },
  {
   "cell_type": "markdown",
   "metadata": {},
   "source": [
    "### 1. 读取3组5台模拟钟组数据，分别为无相关，有3个（135）相关，全相关"
   ]
  },
  {
   "cell_type": "code",
   "execution_count": 1,
   "metadata": {},
   "outputs": [
    {
     "name": "stdout",
     "output_type": "stream",
     "text": [
      "        ClockID=1404850|Channel=03  ClockID=1404849|Channel=04  \\\n",
      "0                     1.433212e+07                1.432687e+07   \n",
      "1                     1.433212e+07                1.432687e+07   \n",
      "2                     1.433212e+07                1.432687e+07   \n",
      "3                     1.433212e+07                1.432687e+07   \n",
      "4                     1.433212e+07                1.432687e+07   \n",
      "5                     1.433212e+07                1.432687e+07   \n",
      "6                     1.433212e+07                1.432687e+07   \n",
      "7                     1.433212e+07                1.432687e+07   \n",
      "8                     1.433212e+07                1.432687e+07   \n",
      "9                     1.433212e+07                1.432687e+07   \n",
      "10                    1.433212e+07                1.432687e+07   \n",
      "11                    1.433212e+07                1.432687e+07   \n",
      "12                    1.433212e+07                1.432687e+07   \n",
      "13                    1.433212e+07                1.432687e+07   \n",
      "14                    1.433212e+07                1.432687e+07   \n",
      "15                    1.433212e+07                1.432687e+07   \n",
      "16                    1.433212e+07                1.432687e+07   \n",
      "17                    1.433212e+07                1.432687e+07   \n",
      "18                    1.433212e+07                1.432687e+07   \n",
      "19                    1.433212e+07                1.432687e+07   \n",
      "20                    1.433212e+07                1.432687e+07   \n",
      "21                    1.433212e+07                1.432687e+07   \n",
      "22                    1.433212e+07                1.432687e+07   \n",
      "23                    1.433212e+07                1.432687e+07   \n",
      "24                    1.433212e+07                1.432687e+07   \n",
      "25                    1.433212e+07                1.432687e+07   \n",
      "26                    1.433212e+07                1.432687e+07   \n",
      "27                    1.433212e+07                1.432687e+07   \n",
      "28                    1.433212e+07                1.432687e+07   \n",
      "29                    1.433212e+07                1.432687e+07   \n",
      "...                            ...                         ...   \n",
      "104242               -5.079752e+02               -1.369672e+03   \n",
      "104243               -5.079860e+02               -1.369710e+03   \n",
      "104244               -5.080012e+02               -1.369750e+03   \n",
      "104245               -5.080178e+02               -1.369792e+03   \n",
      "104246               -5.080284e+02               -1.369828e+03   \n",
      "104247               -5.080420e+02               -1.369868e+03   \n",
      "104248               -5.080572e+02               -1.369908e+03   \n",
      "104249               -5.080694e+02               -1.369945e+03   \n",
      "104250               -5.080846e+02               -1.369985e+03   \n",
      "104251               -5.080982e+02               -1.370023e+03   \n",
      "104252               -5.081104e+02               -1.370059e+03   \n",
      "104253               -5.081280e+02               -1.370101e+03   \n",
      "104254               -5.081394e+02               -1.370138e+03   \n",
      "104255               -5.081522e+02               -1.370177e+03   \n",
      "104256               -5.081688e+02               -1.370218e+03   \n",
      "104257               -5.081796e+02               -1.370256e+03   \n",
      "104258               -5.081944e+02               -1.370296e+03   \n",
      "104259               -5.082098e+02               -1.370338e+03   \n",
      "104260               -5.082218e+02               -1.370375e+03   \n",
      "104261               -5.082388e+02               -1.370417e+03   \n",
      "104262               -5.082484e+02               -1.370452e+03   \n",
      "104263               -5.082636e+02               -1.370493e+03   \n",
      "104264               -5.082778e+02               -1.370533e+03   \n",
      "104265               -5.082902e+02               -1.370572e+03   \n",
      "104266               -5.083042e+02               -1.370611e+03   \n",
      "104267               -5.083200e+02               -1.370655e+03   \n",
      "104268               -5.083324e+02               -1.370695e+03   \n",
      "104269               -5.083490e+02               -1.370738e+03   \n",
      "104270               -5.083594e+02               -1.370776e+03   \n",
      "104271               -5.083744e+02               -1.370815e+03   \n",
      "\n",
      "        ClockID=1404856|Channel=05  ClockID=1404857|Channel=06  \\\n",
      "0                     1.411772e+07               -9.914654e+08   \n",
      "1                     1.411772e+07               -9.914654e+08   \n",
      "2                     1.411772e+07               -9.914654e+08   \n",
      "3                     1.411772e+07               -9.914654e+08   \n",
      "4                     1.411772e+07               -9.914654e+08   \n",
      "5                     1.411772e+07               -9.914654e+08   \n",
      "6                     1.411772e+07               -9.914654e+08   \n",
      "7                     1.411772e+07               -9.914654e+08   \n",
      "8                     1.411772e+07               -9.914654e+08   \n",
      "9                     1.411772e+07               -9.914654e+08   \n",
      "10                    1.411772e+07               -9.914654e+08   \n",
      "11                    1.411772e+07               -9.914654e+08   \n",
      "12                    1.411772e+07               -9.914654e+08   \n",
      "13                    1.411772e+07               -9.914654e+08   \n",
      "14                    1.411772e+07               -9.914654e+08   \n",
      "15                    1.411772e+07               -9.914654e+08   \n",
      "16                    1.411772e+07               -9.914654e+08   \n",
      "17                    1.411772e+07               -9.914654e+08   \n",
      "18                    1.411772e+07               -9.914654e+08   \n",
      "19                    1.411772e+07               -9.914654e+08   \n",
      "20                    1.411772e+07               -9.914654e+08   \n",
      "21                    1.411772e+07               -9.914654e+08   \n",
      "22                    1.411772e+07               -9.914654e+08   \n",
      "23                    1.411772e+07               -9.914654e+08   \n",
      "24                    1.411772e+07               -9.914654e+08   \n",
      "25                    1.411772e+07               -9.914654e+08   \n",
      "26                    1.411772e+07               -9.914654e+08   \n",
      "27                    1.411772e+07               -9.914654e+08   \n",
      "28                    1.411772e+07               -9.914654e+08   \n",
      "29                    1.411772e+07               -9.914654e+08   \n",
      "...                            ...                         ...   \n",
      "104242               -5.137056e+02                7.479442e+02   \n",
      "104243               -5.137158e+02                7.479692e+02   \n",
      "104244               -5.137290e+02                7.479920e+02   \n",
      "104245               -5.137436e+02                7.480122e+02   \n",
      "104246               -5.137514e+02                7.480384e+02   \n",
      "104247               -5.137648e+02                7.480596e+02   \n",
      "104248               -5.137774e+02                7.480822e+02   \n",
      "104249               -5.137886e+02                7.481056e+02   \n",
      "104250               -5.138030e+02                7.481258e+02   \n",
      "104251               -5.138160e+02                7.481480e+02   \n",
      "104252               -5.138266e+02                7.481712e+02   \n",
      "104253               -5.138440e+02                7.481902e+02   \n",
      "104254               -5.138546e+02                7.482136e+02   \n",
      "104255               -5.138664e+02                7.482354e+02   \n",
      "104256               -5.138826e+02                7.482538e+02   \n",
      "104257               -5.138930e+02                7.482780e+02   \n",
      "104258               -5.139078e+02                7.482990e+02   \n",
      "104259               -5.139224e+02                7.483180e+02   \n",
      "104260               -5.139342e+02                7.483414e+02   \n",
      "104261               -5.139500e+02                7.483592e+02   \n",
      "104262               -5.139584e+02                7.483842e+02   \n",
      "104263               -5.139716e+02                7.484060e+02   \n",
      "104264               -5.139852e+02                7.484268e+02   \n",
      "104265               -5.139972e+02                7.484500e+02   \n",
      "104266               -5.140110e+02                7.484714e+02   \n",
      "104267               -5.140278e+02                7.484902e+02   \n",
      "104268               -5.140398e+02                7.485122e+02   \n",
      "104269               -5.140562e+02                7.485306e+02   \n",
      "104270               -5.140680e+02                7.485544e+02   \n",
      "104271               -5.140822e+02                7.485764e+02   \n",
      "\n",
      "        ClockID=1404870|Channel=20  \n",
      "0                    -6.872478e+10  \n",
      "1                    -6.872478e+10  \n",
      "2                    -6.872478e+10  \n",
      "3                    -6.872478e+10  \n",
      "4                    -6.872478e+10  \n",
      "5                    -6.872478e+10  \n",
      "6                    -6.872478e+10  \n",
      "7                    -6.872478e+10  \n",
      "8                    -6.872478e+10  \n",
      "9                    -6.872478e+10  \n",
      "10                   -6.872478e+10  \n",
      "11                   -6.872478e+10  \n",
      "12                   -6.872478e+10  \n",
      "13                   -6.872478e+10  \n",
      "14                   -6.872478e+10  \n",
      "15                   -6.872478e+10  \n",
      "16                   -6.872478e+10  \n",
      "17                   -6.872478e+10  \n",
      "18                   -6.872478e+10  \n",
      "19                   -6.872478e+10  \n",
      "20                   -6.872478e+10  \n",
      "21                   -6.872478e+10  \n",
      "22                   -6.872478e+10  \n",
      "23                   -6.872478e+10  \n",
      "24                   -6.872478e+10  \n",
      "25                   -6.872478e+10  \n",
      "26                   -6.872478e+10  \n",
      "27                   -6.872478e+10  \n",
      "28                   -6.872478e+10  \n",
      "29                   -6.872478e+10  \n",
      "...                            ...  \n",
      "104242               -1.854717e+04  \n",
      "104243               -1.854715e+04  \n",
      "104244               -1.854714e+04  \n",
      "104245               -1.854713e+04  \n",
      "104246               -1.854711e+04  \n",
      "104247               -1.854710e+04  \n",
      "104248               -1.854708e+04  \n",
      "104249               -1.854707e+04  \n",
      "104250               -1.854706e+04  \n",
      "104251               -1.854704e+04  \n",
      "104252               -1.854703e+04  \n",
      "104253               -1.854702e+04  \n",
      "104254               -1.854700e+04  \n",
      "104255               -1.854699e+04  \n",
      "104256               -1.854698e+04  \n",
      "104257               -1.854696e+04  \n",
      "104258               -1.854695e+04  \n",
      "104259               -1.854694e+04  \n",
      "104260               -1.854692e+04  \n",
      "104261               -1.854691e+04  \n",
      "104262               -1.854689e+04  \n",
      "104263               -1.854688e+04  \n",
      "104264               -1.854687e+04  \n",
      "104265               -1.854685e+04  \n",
      "104266               -1.854684e+04  \n",
      "104267               -1.854683e+04  \n",
      "104268               -1.854681e+04  \n",
      "104269               -1.854680e+04  \n",
      "104270               -1.854679e+04  \n",
      "104271               -1.854678e+04  \n",
      "\n",
      "[104272 rows x 5 columns]\n",
      "(104272, 5)\n",
      "----------------------------------------\n"
     ]
    }
   ],
   "source": [
    "# 1. Read data with 0 covariance and 5 covariance\n",
    "import numpy as np\n",
    "import pandas as pd\n",
    "\n",
    "real_5clock_csv = \"5台钟数据.csv\"\n",
    "real_5clock_df = pd.read_csv(real_5clock_csv)\n",
    "\n",
    "print(real_5clock_df)\n",
    "print(real_5clock_df.shape)\n",
    "print(\"----------------------------------------\")"
   ]
  },
  {
   "cell_type": "code",
   "execution_count": 2,
   "metadata": {},
   "outputs": [],
   "source": [
    "data_df = real_5clock_df.iloc[:69767,]"
   ]
  },
  {
   "cell_type": "code",
   "execution_count": 3,
   "metadata": {},
   "outputs": [
    {
     "name": "stdout",
     "output_type": "stream",
     "text": [
      "(5, 13210)\n",
      "[-0.0109004  -0.0107776  -0.011461   ... -0.01621991 -0.00978112\n",
      " -0.01166016]\n",
      "----------------------------------------\n"
     ]
    }
   ],
   "source": [
    "row_scaling_type = \"diff\"   # \"diff\", \"first\"\n",
    "row_select = \"btw_69770_82982\" # \"before_69770\", \"btw_69770_82982\", \"after_82982\"\n",
    "\n",
    "if row_scaling_type == \"diff\":\n",
    "    if row_select == \"before_69770\":\n",
    "        data_df = real_5clock_df.iloc[:69767,]\n",
    "    elif row_select == \"btw_69770_82982\":\n",
    "        data_df = real_5clock_df.iloc[69768:82979,]\n",
    "    elif row_select == \"after_82982\":\n",
    "        data_df = real_5clock_df.iloc[82980:,]       \n",
    "    real_5clock_data = data_df.diff(axis=0, periods=1).iloc[1:,:].transpose().values\n",
    "elif row_scaling_type == \"first\":\n",
    "    if row_select == \"before_69770\":\n",
    "        data_df = real_5clock_df.iloc[:69767,]\n",
    "    elif row_select == \"btw_69770_82982\":\n",
    "        data_df = real_5clock_df.iloc[69768:82979,]\n",
    "    elif row_select == \"after_82982\":\n",
    "        data_df = real_5clock_df.iloc[82980:,]\n",
    "    real_5clock_data = (data_df - data_df.iloc[0,:]).iloc[1:,:].transpose().values\n",
    "else:\n",
    "    if row_select == \"before_69770\":\n",
    "        data_df = real_5clock_df.iloc[:69767,]\n",
    "    elif row_select == \"btw_69770_82982\":\n",
    "        data_df = real_5clock_df.iloc[69768:82979,]\n",
    "    elif row_select == \"after_82982\":\n",
    "        data_df = real_5clock_df.iloc[82980:,]\n",
    "    real_5clock_data = data_df.transpose().values\n",
    "\n",
    "print(real_5clock_data.shape)\n",
    "print(real_5clock_data[0,])\n",
    "print(\"----------------------------------------\")"
   ]
  },
  {
   "cell_type": "code",
   "execution_count": 4,
   "metadata": {},
   "outputs": [],
   "source": [
    "# # Handle error data\n",
    "# real_5clock_data[:,63658] = (real_5clock_data[:,63659] + real_5clock_data[:,63657]) / 2\n",
    "# print(real_5clock_data[:,63658])\n",
    "\n",
    "# real_5clock_data[:,27721] = (real_5clock_data[:,27722] + real_5clock_data[:,27720]) / 2\n",
    "# print(real_5clock_data[:,27721])\n",
    "\n",
    "# real_5clock_data[:,27723] = (real_5clock_data[:,27724] + real_5clock_data[:,27722]) / 2\n",
    "# print(real_5clock_data[:,27723])\n",
    "\n",
    "# real_5clock_data[:,52127] = (real_5clock_data[:,52128] + real_5clock_data[:,52126]) / 2\n",
    "# print(real_5clock_data[:,52127])\n",
    "\n",
    "# real_5clock_data[:,28547] = (real_5clock_data[:,28550] + real_5clock_data[:,28546]) / 2\n",
    "# print(real_5clock_data[:,28547])\n",
    "\n",
    "# real_5clock_data[:,28548] = (real_5clock_data[:,28550] + real_5clock_data[:,28547]) / 2\n",
    "# print(real_5clock_data[:,28548])\n",
    "\n",
    "# real_5clock_data[:,28549] = (real_5clock_data[:,28550] + real_5clock_data[:,28548]) / 2\n",
    "# print(real_5clock_data[:,28548])"
   ]
  },
  {
   "cell_type": "code",
   "execution_count": 5,
   "metadata": {},
   "outputs": [
    {
     "name": "stdout",
     "output_type": "stream",
     "text": [
      "[-3.63346660e-14 -3.59253330e-14 -3.82033337e-14 ... -5.40663797e-14\n",
      " -3.26037407e-14 -3.88671957e-14]\n",
      "----------------------------------------\n"
     ]
    }
   ],
   "source": [
    "row_interval = 5 * 60 * 10**9  # 5 min = (5 * 60 * 10**9) ns\n",
    "real_5clock_data = real_5clock_data / row_interval\n",
    "print(real_5clock_data[0,])\n",
    "print(\"----------------------------------------\")"
   ]
  },
  {
   "cell_type": "code",
   "execution_count": 6,
   "metadata": {},
   "outputs": [
    {
     "name": "stdout",
     "output_type": "stream",
     "text": [
      "-2.159923333332851e-14\n",
      "6943\n",
      "-9.553134433341862e-14\n",
      "6943\n",
      "-6.998578666639332e-15\n",
      "9659\n",
      "1.0313342033337373e-13\n",
      "9659\n",
      "2.0500024166665298e-13\n",
      "6818\n"
     ]
    }
   ],
   "source": [
    "for i in range(real_5clock_data.shape[0]):\n",
    "    minx = max(real_5clock_data[i,])\n",
    "    print(minx)\n",
    "    print(list(real_5clock_data[i,]).index(minx))"
   ]
  },
  {
   "cell_type": "markdown",
   "metadata": {},
   "source": [
    "### 2. 绘制allan方差曲线"
   ]
  },
  {
   "cell_type": "code",
   "execution_count": 7,
   "metadata": {},
   "outputs": [
    {
     "name": "stdout",
     "output_type": "stream",
     "text": [
      "Requirement already satisfied: allantools in /usr/local/lib64/python3.6/site-packages (2019.9)\n",
      "Requirement already satisfied: scipy in /usr/local/lib64/python3.6/site-packages (from allantools) (1.2.0)\n",
      "Requirement already satisfied: numpy in /usr/local/lib64/python3.6/site-packages (from allantools) (1.16.4)\n",
      "\u001b[33mWARNING: You are using pip version 19.1.1, however version 21.0.1 is available.\n",
      "You should consider upgrading via the 'pip install --upgrade pip' command.\u001b[0m\n"
     ]
    }
   ],
   "source": [
    "# https://allantools.readthedocs.io/en/latest/functions.html\n",
    "!pip install allantools\n",
    "import allantools"
   ]
  },
  {
   "cell_type": "code",
   "execution_count": 8,
   "metadata": {},
   "outputs": [
    {
     "name": "stdout",
     "output_type": "stream",
     "text": [
      "taus - [1.000e+00 2.000e+00 4.000e+00 8.000e+00 1.600e+01 3.200e+01 6.400e+01\n",
      " 1.280e+02 2.560e+02 5.120e+02 1.024e+03 2.048e+03 4.096e+03]\n",
      "adevs - [7.81066098e-15 4.13438732e-15 1.96240797e-15 1.03574354e-15\n",
      " 4.60253836e-16 2.46061372e-16 1.55288309e-16 1.37172647e-16\n",
      " 1.60186436e-16 2.06000066e-16 2.74080421e-16 3.05752568e-16\n",
      " 5.79347418e-16]\n",
      "----------------------------------------\n",
      "taus - [1.000e+00 2.000e+00 4.000e+00 8.000e+00 1.600e+01 3.200e+01 6.400e+01\n",
      " 1.280e+02 2.560e+02 5.120e+02 1.024e+03 2.048e+03 4.096e+03]\n",
      "adevs - [8.21886276e-15 4.66682988e-15 2.91020868e-15 2.37620693e-15\n",
      " 1.92798901e-15 1.54475362e-15 1.07952910e-15 7.46876586e-16\n",
      " 5.00793959e-16 5.89949754e-16 4.92255511e-16 5.97648664e-16\n",
      " 1.11035478e-15]\n",
      "----------------------------------------\n",
      "taus - [1.000e+00 2.000e+00 4.000e+00 8.000e+00 1.600e+01 3.200e+01 6.400e+01\n",
      " 1.280e+02 2.560e+02 5.120e+02 1.024e+03 2.048e+03 4.096e+03]\n",
      "adevs - [8.10364548e-15 4.47274412e-15 2.58443024e-15 1.96116027e-15\n",
      " 1.55470341e-15 1.29387063e-15 9.21443233e-16 7.88581795e-16\n",
      " 5.60918675e-16 4.93049356e-16 3.57913981e-16 2.28838547e-16\n",
      " 3.83349781e-16]\n",
      "----------------------------------------\n",
      "taus - [1.000e+00 2.000e+00 4.000e+00 8.000e+00 1.600e+01 3.200e+01 6.400e+01\n",
      " 1.280e+02 2.560e+02 5.120e+02 1.024e+03 2.048e+03 4.096e+03]\n",
      "adevs - [8.09063999e-15 4.52472553e-15 2.63650809e-15 2.01624914e-15\n",
      " 1.61340977e-15 1.26272236e-15 8.92510834e-16 6.77045287e-16\n",
      " 5.05285605e-16 4.68832125e-16 3.80371299e-16 1.14592256e-16\n",
      " 4.00894539e-17]\n",
      "----------------------------------------\n",
      "taus - [1.000e+00 2.000e+00 4.000e+00 8.000e+00 1.600e+01 3.200e+01 6.400e+01\n",
      " 1.280e+02 2.560e+02 5.120e+02 1.024e+03 2.048e+03 4.096e+03]\n",
      "adevs - [1.17779085e-14 6.65481151e-15 3.35530708e-15 2.31165304e-15\n",
      " 1.74558076e-15 1.38100836e-15 1.06790328e-15 8.37560985e-16\n",
      " 5.62472278e-16 5.68916219e-16 4.06942209e-16 3.42510150e-16\n",
      " 2.76761332e-16]\n",
      "----------------------------------------\n"
     ]
    },
    {
     "data": {
      "image/png": "[encoded data removed]",
      "text/plain": [
       "<Figure size 432x288 with 1 Axes>"
      ]
     },
     "metadata": {
      "needs_background": "light"
     },
     "output_type": "display_data"
    }
   ],
   "source": [
    "# calculate allan variance for original data\n",
    "import matplotlib.pyplot as plt\n",
    "%matplotlib inline\n",
    "\n",
    "for i in range(real_5clock_data.shape[0]):\n",
    "    (taus, adevs, errors, ns) = allantools.adev(data=real_5clock_data[i,:], data_type='freq')\n",
    "    print('taus - %s' % taus)\n",
    "    print('adevs - %s' % adevs)\n",
    "    print(\"----------------------------------------\")\n",
    "    plt.plot(np.log10(taus * 5 * 60), np.log10(adevs))"
   ]
  },
  {
   "cell_type": "markdown",
   "metadata": {},
   "source": [
    "### 3. 计算Gamma"
   ]
  },
  {
   "cell_type": "markdown",
   "metadata": {},
   "source": [
    "#### (1) For each 2 clocks calculate (OPTION)"
   ]
  },
  {
   "cell_type": "markdown",
   "metadata": {},
   "source": [
    "$ 1/M * \\sum_{i=0}^{M}[\\Delta y_{A}^{i}(\\tau)\\Delta y_{B}^{i}(\\tau)] $"
   ]
  },
  {
   "cell_type": "code",
   "execution_count": 9,
   "metadata": {},
   "outputs": [],
   "source": [
    "# def rolling_diff(arr, tau = 1):\n",
    "#     # tau should be the power of 2\n",
    "#     # arr is a one-dimension array\n",
    "#     if tau >= len(arr):\n",
    "#         raise Exception('tau %s is bigger or equal than length of array %s ' % (tau, len(arr)))\n",
    "#     else:\n",
    "#         result = list()\n",
    "#         for i in range(len(arr)):\n",
    "#             if i + tau >= len(arr):\n",
    "#                 break\n",
    "#             else:\n",
    "#                 result.append(arr[i + tau] - arr[i])\n",
    "#         return np.array(result)"
   ]
  },
  {
   "cell_type": "code",
   "execution_count": 10,
   "metadata": {},
   "outputs": [],
   "source": [
    "# def cal_cij_and_plot(cov_data, taus):\n",
    "#     C_ij_all = list()\n",
    "#     for tau in taus:\n",
    "#         delta_clocks = np.apply_along_axis(func1d = rolling_diff, axis = 1, arr = cov_data, tau = tau)\n",
    "#         print('tau is %s and delta_clocks has shape %s' % (tau, str(delta_clocks.shape)))\n",
    "#         result = list()\n",
    "#         for i in range(delta_clocks.shape[0]):\n",
    "#             for j in range(delta_clocks.shape[0]):\n",
    "#                 if i < j:\n",
    "#                     C_ij = np.mean(np.multiply(delta_clocks[i,], delta_clocks[j,]))\n",
    "#                     result.append(C_ij)\n",
    "#         C_ij_all.append(result)\n",
    "    \n",
    "#     C_ij_all = np.array(C_ij_all)\n",
    "#     print(C_ij_all)\n",
    "#     print(C_ij_all.shape)\n",
    "    \n",
    "#     for i in range(cov_data.shape[0]):\n",
    "#         for j in range(cov_data.shape[0]):\n",
    "#             if i < j:\n",
    "#                 print(\"row1: %s, row2: %s\" % (i, j))\n",
    "#                 (taus_i, adevs_i, errors_i, ns_i) = allantools.adev(data=cov_data[i,:], data_type='freq')\n",
    "#                 (taus_j, adevs_j, errors_j, ns_j) = allantools.adev(data=cov_data[j,:], data_type='freq')\n",
    "#                 C_ij = C_ij_all[:,i+j-1]\n",
    "#                 multiply_adev_ij = 2 * adevs_i * adevs_j\n",
    "#                 Gamma_ij = C_ij / multiply_adev_ij\n",
    "#                 print('Gamma_ij - %s' % Gamma_ij)\n",
    "#                 print(\"----------------------------------------\")\n",
    "#                 plt.plot(np.log10(taus), Gamma_ij)\n",
    "#             else:\n",
    "#                 continue"
   ]
  },
  {
   "cell_type": "code",
   "execution_count": 11,
   "metadata": {},
   "outputs": [],
   "source": [
    "# taus = 2 ** np.arange(0,20)"
   ]
  },
  {
   "cell_type": "code",
   "execution_count": 12,
   "metadata": {},
   "outputs": [],
   "source": [
    "#cal_cij_and_plot(cov_0_data, taus)"
   ]
  },
  {
   "cell_type": "code",
   "execution_count": 13,
   "metadata": {},
   "outputs": [],
   "source": [
    "#cal_cij_and_plot(cov_5_data, taus)"
   ]
  },
  {
   "cell_type": "markdown",
   "metadata": {},
   "source": [
    "#### (2) For each 2 clocks calculate"
   ]
  },
  {
   "cell_type": "markdown",
   "metadata": {},
   "source": [
    "C(i,j) = Var(i) + Var(j) - Var(i-j), Gamma(i,j) = C(i,j) / (2 * Std(i) * Std(j))"
   ]
  },
  {
   "cell_type": "code",
   "execution_count": 14,
   "metadata": {},
   "outputs": [],
   "source": [
    "# def cal_cij_and_plot2(cov_data):\n",
    "#     for i in range(cov_data.shape[0]):\n",
    "#         for j in range(cov_data.shape[0]):\n",
    "#             if i < j:\n",
    "#                 print(\"row1: %s, row2: %s\" % (i, j))\n",
    "#                 (taus_i, adevs_i, errors_i, ns_i) = allantools.adev(data=cov_data[i,:], data_type='freq')\n",
    "#                 (taus_j, adevs_j, errors_j, ns_j) = allantools.adev(data=cov_data[j,:], data_type='freq')\n",
    "#                 (taus_ij, adevs_ij, errors_ij, ns_ij) = allantools.adev(data=cov_data[i,:] - cov_data[j,:], data_type='freq')\n",
    "#                 assert taus_i.shape == taus_j.shape == taus_ij.shape\n",
    "            \n",
    "#                 C_ij = adevs_i ** 2 + adevs_j ** 2 - adevs_ij ** 2\n",
    "#                 multiply_adev_ij = 2 * adevs_i * adevs_j\n",
    "#                 Gamma_ij = C_ij / multiply_adev_ij\n",
    "            \n",
    "#                 print('tau - %s' % taus_ij)\n",
    "#                 print('C_ij - %s' % C_ij)\n",
    "#                 print('multiply_adev_ij - %s' % multiply_adev_ij)\n",
    "#                 print('Gamma_ij - %s' % Gamma_ij)\n",
    "#                 print(\"----------------------------------------\")\n",
    "#                 plt.plot(np.log10(taus_ij), Gamma_ij)\n",
    "#             else:\n",
    "#                 continue"
   ]
  },
  {
   "cell_type": "code",
   "execution_count": 15,
   "metadata": {},
   "outputs": [],
   "source": [
    "# cal_cij_and_plot2(cov_data_1)"
   ]
  },
  {
   "cell_type": "code",
   "execution_count": 16,
   "metadata": {},
   "outputs": [],
   "source": [
    "# cal_cij_and_plot2(cov_data_2)"
   ]
  },
  {
   "cell_type": "markdown",
   "metadata": {},
   "source": [
    "#### (3) For each group, calculate harmonic mean"
   ]
  },
  {
   "cell_type": "code",
   "execution_count": 17,
   "metadata": {},
   "outputs": [],
   "source": [
    "# def cal_var_harmonic_mean(cov_group, cov_ref = None):\n",
    "#     var_list = list()\n",
    "#     cov_data = cov_group\n",
    "#     if cov_ref is not None:\n",
    "#         cov_data = cov_group - cov_ref\n",
    "#     for i in range(cov_data.shape[0]):\n",
    "#         (taus_i, adevs_i, errors_i, ns_i) = allantools.adev(data=cov_data[i,:], data_type='freq')\n",
    "#         var_list.append(1.0 / adevs_i ** 2)\n",
    "#     return taus_i, (cov_data.shape[0] / np.sum(var_list, axis=0))"
   ]
  },
  {
   "cell_type": "code",
   "execution_count": 18,
   "metadata": {},
   "outputs": [],
   "source": [
    "# taus, cov_data_1_harmonic = cal_var_harmonic_mean(cov_data_1)\n",
    "# print(np.sqrt(cov_data_1_harmonic))\n",
    "# plt.plot(np.log10(taus), np.sqrt(cov_data_1_harmonic))"
   ]
  },
  {
   "cell_type": "code",
   "execution_count": 19,
   "metadata": {},
   "outputs": [],
   "source": [
    "# taus, cov_data_2_harmonic = cal_var_harmonic_mean(cov_data_2)\n",
    "# print(np.sqrt(cov_data_2_harmonic))\n",
    "# plt.plot(np.log10(taus), np.sqrt(cov_data_2_harmonic))"
   ]
  },
  {
   "cell_type": "markdown",
   "metadata": {},
   "source": [
    "### 4. 带入模型进行测试"
   ]
  },
  {
   "cell_type": "code",
   "execution_count": 20,
   "metadata": {},
   "outputs": [],
   "source": [
    "cov_data = real_5clock_data\n",
    "y_t = cov_data.T\n",
    "clock_size = y_t.shape[1]"
   ]
  },
  {
   "cell_type": "code",
   "execution_count": 21,
   "metadata": {},
   "outputs": [],
   "source": [
    "regularization = True\n",
    "subset_size_list = [3]\n",
    "window_step_list = [60*12, 60*6, 60*2, 60]\n",
    "amplify = [5, 5, 10, 10]\n",
    "\n",
    "window_size_list = [x*y for (x,y) in zip(window_step_list, amplify)]"
   ]
  },
  {
   "cell_type": "code",
   "execution_count": 22,
   "metadata": {},
   "outputs": [
    {
     "name": "stdout",
     "output_type": "stream",
     "text": [
      "------------------Overall------------------\n",
      "*** Inverse variance weighted clock's Allan deviation ***\n",
      "taus - [1. 2. 4.], adevs - [6.55716968e-15 4.59415597e-15 1.69094329e-15]\n",
      "*** Weighted clock's Allan deviation ***\n",
      "taus - [1. 2. 4.], adevs - [7.98177893e-15 3.46150447e-15 1.90875337e-15]\n",
      "^^^ AVG performance improvement - cov_data_1 - subset_size=3 ^^^\n",
      "*** Each clock's Allan deviation ***\n",
      "taus - [1. 2. 4.], adevs - [9.83027793e-15 5.03234422e-15 2.07026441e-15]\n",
      "taus - [1. 2. 4.], adevs - [1.05717373e-14 5.93017933e-15 1.35043771e-15]\n",
      "taus - [1. 2. 4.], adevs - [1.03777112e-14 5.96281956e-15 1.50022609e-15]\n",
      "taus - [1. 2. 4.], adevs - [9.89694614e-15 5.82203004e-15 2.48092625e-15]\n",
      "taus - [1. 2. 4.], adevs - [9.60849971e-15 6.00394434e-15 1.82992113e-15]\n"
     ]
    },
    {
     "data": {
      "image/png": "[encoded data removed]",
      "text/plain": [
       "<Figure size 432x288 with 1 Axes>"
      ]
     },
     "metadata": {},
     "output_type": "display_data"
    },
    {
     "name": "stdout",
     "output_type": "stream",
     "text": [
      "3600 720\n",
      "------------------Overall------------------\n",
      "*** Inverse variance weighted clock's Allan deviation ***\n",
      "taus - [1. 2. 4. 8.], adevs - [6.69370431e-15 4.24241344e-15 4.40824614e-15 2.65565346e-15]\n",
      "*** Weighted clock's Allan deviation ***\n",
      "taus - [1. 2. 4. 8.], adevs - [7.46266181e-15 3.86518760e-15 2.66740992e-15 6.76964509e-16]\n",
      "^^^ AVG performance improvement - cov_data_1 - subset_size=3 ^^^\n",
      "*** Each clock's Allan deviation ***\n",
      "taus - [1. 2. 4. 8.], adevs - [9.41868221e-15 4.72414049e-15 2.20491429e-15 1.00706086e-15]\n",
      "taus - [1. 2. 4. 8.], adevs - [9.64375774e-15 5.10799237e-15 2.70335032e-15 2.70987831e-15]\n",
      "taus - [1. 2. 4. 8.], adevs - [9.54423133e-15 5.22748521e-15 3.31013572e-15 3.12523184e-15]\n",
      "taus - [1. 2. 4. 8.], adevs - [9.07803571e-15 5.25172309e-15 2.69145261e-15 1.20609127e-15]\n",
      "taus - [1. 2. 4. 8.], adevs - [1.02605712e-14 5.53887996e-15 3.06343789e-15 2.45159241e-15]\n"
     ]
    },
    {
     "data": {
      "image/png": "[encoded data removed]",
      "text/plain": [
       "<Figure size 432x288 with 1 Axes>"
      ]
     },
     "metadata": {},
     "output_type": "display_data"
    },
    {
     "name": "stdout",
     "output_type": "stream",
     "text": [
      "1800 360\n",
      "------------------Overall------------------\n",
      "*** Inverse variance weighted clock's Allan deviation ***\n",
      "taus - [ 1.  2.  4.  8. 16. 32.], adevs - [7.15055214e-15 4.40327950e-15 3.51380152e-15 4.74076784e-15\n",
      " 5.26011007e-15 1.95945000e-15]\n",
      "*** Weighted clock's Allan deviation ***\n",
      "taus - [ 1.  2.  4.  8. 16. 32.], adevs - [7.95955072e-15 5.21050596e-15 2.52989215e-15 1.79004558e-15\n",
      " 1.45533118e-15 7.16826852e-16]\n",
      "^^^ AVG performance improvement - cov_data_1 - subset_size=3 ^^^\n",
      "*** Each clock's Allan deviation ***\n",
      "taus - [ 1.  2.  4.  8. 16. 32.], adevs - [8.44637087e-15 4.39019453e-15 2.37551255e-15 8.61122072e-16\n",
      " 7.40428880e-16 5.35150403e-17]\n",
      "taus - [ 1.  2.  4.  8. 16. 32.], adevs - [8.67913659e-15 4.87150626e-15 2.68658750e-15 2.97140252e-15\n",
      " 3.08719223e-15 2.36041747e-15]\n",
      "taus - [ 1.  2.  4.  8. 16. 32.], adevs - [8.71757013e-15 4.75784877e-15 3.19096327e-15 2.20061452e-15\n",
      " 2.94848262e-15 1.30125052e-15]\n",
      "taus - [ 1.  2.  4.  8. 16. 32.], adevs - [8.61429307e-15 4.27284749e-15 2.67966656e-15 2.32787070e-15\n",
      " 2.64681791e-15 1.99530963e-15]\n",
      "taus - [ 1.  2.  4.  8. 16. 32.], adevs - [9.18212519e-15 4.61818913e-15 2.77934633e-15 2.06205500e-15\n",
      " 2.28921185e-15 7.60682515e-16]\n"
     ]
    },
    {
     "data": {
      "image/png": "[encoded data removed]",
      "text/plain": [
       "<Figure size 432x288 with 1 Axes>"
      ]
     },
     "metadata": {},
     "output_type": "display_data"
    },
    {
     "name": "stdout",
     "output_type": "stream",
     "text": [
      "1200 120\n",
      "------------------Overall------------------\n",
      "*** Inverse variance weighted clock's Allan deviation ***\n",
      "taus - [ 1.  2.  4.  8. 16. 32. 64.], adevs - [1.62100980e-14 9.56714238e-15 7.82724958e-15 5.44435813e-15\n",
      " 4.98842381e-15 9.97079039e-16 6.77476244e-16]\n",
      "*** Weighted clock's Allan deviation ***\n",
      "taus - [ 1.  2.  4.  8. 16. 32. 64.], adevs - [7.84555038e-15 4.42295640e-15 2.15475688e-15 1.65515501e-15\n",
      " 8.75886354e-16 7.00420588e-16 1.04299111e-15]\n",
      "^^^ AVG performance improvement - cov_data_1 - subset_size=3 ^^^\n",
      "*** Each clock's Allan deviation ***\n",
      "taus - [ 1.  2.  4.  8. 16. 32. 64.], adevs - [8.14521506e-15 4.24847729e-15 2.36628624e-15 1.12115847e-15\n",
      " 5.35878012e-16 2.21054363e-16 1.91978634e-16]\n",
      "taus - [ 1.  2.  4.  8. 16. 32. 64.], adevs - [8.41607905e-15 4.92438469e-15 3.62738565e-15 2.65186250e-15\n",
      " 1.45512862e-15 5.54767020e-16 4.50390960e-16]\n",
      "taus - [ 1.  2.  4.  8. 16. 32. 64.], adevs - [8.63522991e-15 4.82775532e-15 2.91660668e-15 1.74624771e-15\n",
      " 1.85618496e-15 1.25225386e-15 3.36306621e-16]\n",
      "taus - [ 1.  2.  4.  8. 16. 32. 64.], adevs - [8.40573276e-15 4.38520123e-15 3.09560976e-15 1.76923425e-15\n",
      " 1.58605735e-15 9.07588249e-16 4.38207431e-16]\n",
      "taus - [ 1.  2.  4.  8. 16. 32. 64.], adevs - [8.51622375e-15 4.64077482e-15 2.98688593e-15 1.44909179e-15\n",
      " 1.17835480e-15 6.08683957e-16 8.12609271e-16]\n"
     ]
    },
    {
     "data": {
      "image/png": "[encoded data removed]",
      "text/plain": [
       "<Figure size 432x288 with 1 Axes>"
      ]
     },
     "metadata": {},
     "output_type": "display_data"
    },
    {
     "name": "stdout",
     "output_type": "stream",
     "text": [
      "600 60\n",
      "Done\n"
     ]
    }
   ],
   "source": [
    "import sys\n",
    "\n",
    "# 0. For each (window_size, window_step) combination\n",
    "for window_size, window_step in zip(window_size_list, window_step_list):\n",
    "    \n",
    "    if window_size > y_t.shape[0]:\n",
    "        raise Exception('The window size should not be greater than the number of time points')\n",
    "\n",
    "    all_weighted_clock_estimation = list()\n",
    "        \n",
    "    # 1. For each subset_size\n",
    "    for subset_size in subset_size_list:\n",
    "        if subset_size > clock_size:\n",
    "            raise Exception('The subset size should not be greater than the number of clocks')\n",
    "        A = np.ones((subset_size, 1))\n",
    "            \n",
    "        weighted_inverse_variance_estimation = list()\n",
    "        weighted_clock_estimation = list()\n",
    "#         print(\"------------------Subset size %s------------------\" % subset_size)\n",
    "        \n",
    "        # 2. For each rolling window\n",
    "        for i in range(int((y_t.shape[0] - window_size) / window_step) + 1):\n",
    "            subset_cov_list = list()\n",
    "            subset_raw_list = list()\n",
    "#             print(\"------------------Step %s------------------\" % i)\n",
    "                \n",
    "            # 3. For each subset\n",
    "            for j in range(clock_size - subset_size + 1):\n",
    "                \n",
    "                # 4. Get raw subset\n",
    "                subset_raw = y_t[i:i+window_size, j:j+subset_size]\n",
    "        \n",
    "                # 5. Calculate covariance within the subset\n",
    "                subset_cov = np.cov(subset_raw, rowvar=False)\n",
    "                subset_cov_list.append(subset_cov)\n",
    "#                 print(\"*** Subset Cov ***\")\n",
    "#                 print(subset_cov)\n",
    "                \n",
    "                # 6. Calculate summation for corresponding clocks in different subsets \n",
    "                subset_raw_list.append(subset_raw)\n",
    "\n",
    "            # 7. Calculate covariance matrix mean (Element-wise)\n",
    "            allset_cov_mean = np.sum(np.asarray(subset_cov_list), axis=0) / (clock_size - subset_size + 1)\n",
    "#             print(\"*** Cov mean ***\")\n",
    "#             print(allset_cov_mean)\n",
    "    \n",
    "            # 8. Add regularization term\n",
    "            if regularization:\n",
    "                sigma = np.max(allset_cov_mean) / (clock_size * 10.0)\n",
    "                allset_cov_mean += sigma * np.eye(subset_size)\n",
    "#                 print(\"*** Regularization term ***\")\n",
    "#                 print(sigma * np.eye(subset_size))\n",
    "    \n",
    "            # 9. Calculate the inverse of covariance matrix mean\n",
    "            allset_cov_mean_inverse = np.linalg.inv(allset_cov_mean)\n",
    "#             print(\"*** Inverse Cov mean ***\")\n",
    "#             print(allset_cov_mean_inverse)\n",
    "    \n",
    "            # 10. Calculate weight\n",
    "            weight = np.dot(allset_cov_mean_inverse, A) / np.dot(np.dot(A.T, allset_cov_mean_inverse), A)\n",
    "#             print(\"*** Weight ***\")\n",
    "#             print(weight)\n",
    "\n",
    "            # 11. Calculate beamformer weighted clock\n",
    "            subset_corresponding_sum = np.sum(subset_raw_list, axis=0).T\n",
    "            Z = (np.dot(weight.T, subset_corresponding_sum) / (clock_size - subset_size + 1))[0]\n",
    "#             print(\"*** Weighted output ***\")\n",
    "#             print(Z)\n",
    "    \n",
    "            # 12. Select the last element in Z as the estimation of weighted clock\n",
    "            weighted_clock_estimation.append(Z[-1])\n",
    "    \n",
    "            # 13. Calculate allan variance for each clock\n",
    "            inverse_variance = list()\n",
    "            clock_last_row = list()\n",
    "            for k in range(clock_size):\n",
    "                clock = y_t[window_step * i:window_step * i + window_size + 1, k]\n",
    "                (taus, adevs, errors, ns) = allantools.adev(data=clock, data_type='freq')\n",
    "                inverse_variance.append(1.0 / (adevs[7] ** 2)) # using allan variance for tau = 2^8\n",
    "                clock_last_row.append(clock[-1])\n",
    "            inverse_variance = np.array(inverse_variance) / np.sum(np.array(inverse_variance))\n",
    "#            print(\"*** Inverse variance weight ***\")\n",
    "#            print(inverse_variance)\n",
    "    \n",
    "            # 14. Calculate the inverse variance weighted clock\n",
    "            weighted_inverse_variance_clock = np.dot(inverse_variance, np.array(clock_last_row))\n",
    "            weighted_inverse_variance_estimation.append(weighted_inverse_variance_clock)\n",
    "#            print(\"*** Inverse variance weighted clock ***\")\n",
    "#            print(weighted_inverse_variance_clock)\n",
    "                \n",
    "        all_weighted_clock_estimation.append(weighted_clock_estimation)\n",
    "\n",
    "    # 15. Visualize weighted clock estimation and each clock\n",
    "    print(\"------------------Overall------------------\")\n",
    "    '''\n",
    "    print(\"*** Weighted clock estimation ***\")\n",
    "    for subset_size, weighted_clock_estimation in zip(subset_size_list, all_weighted_clock_estimation):\n",
    "        print(\"+++ Subset size = %s +++\" % subset_size)\n",
    "        print(weighted_clock_estimation)\n",
    "\n",
    "    print(\"*** Inverse variance weighted clock estimation ***\")\n",
    "    print(weighted_inverse_variance_estimation)\n",
    "    '''\n",
    "    # 16. Calculate Allan deviation\n",
    "    fig = plt.figure(facecolor='white')\n",
    "        \n",
    "    print(\"*** Inverse variance weighted clock's Allan deviation ***\")\n",
    "    (taus0, adevs0, errors0, ns0) = allantools.adev(data=weighted_inverse_variance_estimation, data_type='freq')\n",
    "    print('taus - %s, adevs - %s' % (taus0, adevs0))\n",
    "    plt.plot(np.log10(taus0 * 5 * 60), np.log10(adevs0), color='blue')\n",
    "    \n",
    "    print(\"*** Weighted clock's Allan deviation ***\")\n",
    "    for subset_size, weighted_clock_estimation in zip(subset_size_list, all_weighted_clock_estimation):\n",
    "        (taus, adevs, errors, ns) = allantools.adev(data=weighted_clock_estimation, data_type='freq')\n",
    "        print('taus - %s, adevs - %s' % (taus, adevs))\n",
    "        color = 'C%s' % subset_size\n",
    "        plt.plot(np.log10(taus * 5 * 60), np.log10(adevs), color=color)\n",
    "        print(\"^^^ AVG performance improvement - cov_data_1 - subset_size=%s ^^^\" % subset_size )\n",
    "        avg_imp = np.sum((adevs - adevs0) / adevs0) / len(taus)\n",
    "        import logging\n",
    "        logging.basicConfig(filename=\"6clock.log\")\n",
    "        logging.critical(\"cov_data_1: window_size=%s, window_step=%s, subset_size=%s, avg_imp=%s\" % (window_size, window_step, subset_size, avg_imp))\n",
    "        \n",
    "    \n",
    "\n",
    "    print(\"*** Each clock's Allan deviation ***\")\n",
    "    real_clock = y_t[-(int((y_t.shape[0] - window_size) / window_step) + 1):,]\n",
    "    for i in range(real_clock.shape[1]):\n",
    "        (taus, adevs, errors, ns) = allantools.adev(data=real_clock[:,i], data_type='freq')\n",
    "        print('taus - %s, adevs - %s' % (taus, adevs))\n",
    "            \n",
    "    plt.show()\n",
    "    print(window_size, window_step)\n",
    "\n",
    "print('Done')"
   ]
  }
 ],
 "metadata": {
  "kernelspec": {
   "display_name": "Python 3",
   "language": "python",
   "name": "python3"
  },
  "language_info": {
   "codemirror_mode": {
    "name": "ipython",
    "version": 3
   },
   "file_extension": ".py",
   "mimetype": "text/x-python",
   "name": "python",
   "nbconvert_exporter": "python",
   "pygments_lexer": "ipython3",
   "version": "3.6.8"
  }
 },
 "nbformat": 4,
 "nbformat_minor": 4
}
