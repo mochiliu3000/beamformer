{
 "cells": [
  {
   "cell_type": "markdown",
   "metadata": {},
   "source": [
    "# Generate Report Results"
   ]
  },
  {
   "cell_type": "markdown",
   "metadata": {},
   "source": [
    "### 1. 读取3组5台模拟钟组数据，分别为无相关，有3个（135）相关，全相关"
   ]
  },
  {
   "cell_type": "code",
   "execution_count": 20,
   "metadata": {},
   "outputs": [
    {
     "name": "stdout",
     "output_type": "stream",
     "text": [
      "[[-7.45264096e-14  6.92921407e-14  5.75335554e-14 ...  2.01092351e-14\n",
      "   2.36194597e-14 -8.38431775e-15]\n",
      " [ 1.36947343e-14 -4.09681576e-14  5.36832118e-14 ...  1.56012905e-14\n",
      "  -1.34993118e-13 -4.84806770e-15]\n",
      " [ 3.37326932e-14 -1.08973254e-15 -2.87413333e-14 ... -5.45730278e-15\n",
      "   1.18754804e-13  5.03894506e-14]\n",
      " [ 6.08968914e-14  5.74268368e-14 -2.31710283e-14 ... -2.84925176e-13\n",
      "  -1.37184415e-13 -2.24295503e-13]\n",
      " [ 9.11290304e-15  4.21096512e-14 -2.96167899e-14 ... -9.76053278e-14\n",
      "   3.58316385e-14  3.70323843e-14]]\n",
      "(5, 2591999)\n",
      "----------------------------------------\n",
      "[[-7.52055820e-14  6.82411419e-14  5.61391454e-14 ...  2.10127244e-14\n",
      "   2.41325684e-14 -8.27168791e-15]\n",
      " [ 1.30155620e-14 -4.20191564e-14  5.22888018e-14 ...  1.65047799e-14\n",
      "  -1.34480010e-13 -4.73543786e-15]\n",
      " [ 3.30535209e-14 -2.14073134e-15 -3.01357434e-14 ... -4.55381341e-15\n",
      "   1.19267913e-13  5.05020805e-14]\n",
      " [ 6.02177190e-14  5.63758380e-14 -2.45654383e-14 ... -2.84021687e-13\n",
      "  -1.36671306e-13 -2.24182873e-13]\n",
      " [ 8.43373071e-15  4.10586524e-14 -3.10111999e-14 ... -9.67018384e-14\n",
      "   3.63447472e-14  3.71450141e-14]]\n",
      "(5, 2591999)\n"
     ]
    }
   ],
   "source": [
    "# 1. Read data with 0 covariance and 5 covariance\n",
    "import numpy as np\n",
    "cov_0_dir = \"0-cov.csv\"\n",
    "cov_5_dir = \"5-cov.csv\"\n",
    "cov_0_data = np.loadtxt(cov_0_dir, delimiter=',')\n",
    "cov_5_data = np.loadtxt(cov_5_dir, delimiter=',')\n",
    "print(cov_0_data)\n",
    "print(cov_0_data.shape)\n",
    "print(\"----------------------------------------\")\n",
    "print(cov_5_data)\n",
    "print(cov_5_data.shape)"
   ]
  },
  {
   "cell_type": "code",
   "execution_count": 21,
   "metadata": {},
   "outputs": [],
   "source": [
    "cov_0_data = cov_0_data[:,5000:]\n",
    "cov_5_data = cov_5_data[:,5000:]"
   ]
  },
  {
   "cell_type": "code",
   "execution_count": 2,
   "metadata": {},
   "outputs": [
    {
     "name": "stdout",
     "output_type": "stream",
     "text": [
      "[[-1.55082843e-13 -1.69021929e-13 -2.30520325e-13 ... -8.27776917e-15\n",
      "  -4.83548659e-14 -1.22145298e-14]\n",
      " [ 6.13762956e-15  6.01459643e-15 -1.95866172e-14 ... -1.02809824e-13\n",
      "   1.73452490e-13  1.29458766e-14]\n",
      " [-6.92254875e-14 -1.68951482e-13 -3.11235264e-13 ... -8.63282053e-14\n",
      "   1.69018497e-13  1.83063268e-13]\n",
      " [ 2.65145895e-14 -7.66015921e-14 -1.89024207e-14 ... -2.49409575e-14\n",
      "  -4.55369628e-14 -3.13593920e-14]\n",
      " [-9.80429152e-14 -5.91518544e-15 -8.48057726e-14 ...  1.72253461e-13\n",
      "   8.52629176e-14 -1.04392051e-14]]\n",
      "(5, 2591999)\n"
     ]
    }
   ],
   "source": [
    "# 2. Modify to get data with 3 clock covariance (1,3,5)\n",
    "cov_3_data = np.stack((cov_5_data[0,:], cov_0_data[1,:], cov_5_data[2,:], cov_0_data[3,:], cov_5_data[4,:]), axis=0)\n",
    "# np.savetxt(\"3-cov.csv\", cov_3_data, delimiter=\",\")\n",
    "print(cov_3_data)\n",
    "print(cov_3_data.shape)"
   ]
  },
  {
   "cell_type": "markdown",
   "metadata": {},
   "source": [
    "### 2. 绘制allan方差曲线"
   ]
  },
  {
   "cell_type": "code",
   "execution_count": 22,
   "metadata": {},
   "outputs": [
    {
     "name": "stdout",
     "output_type": "stream",
     "text": [
      "Requirement already satisfied: allantools in /usr/local/lib64/python3.6/site-packages (2019.9)\n",
      "Requirement already satisfied: numpy in /usr/local/lib64/python3.6/site-packages (from allantools) (1.16.4)\n",
      "Requirement already satisfied: scipy in /usr/local/lib64/python3.6/site-packages (from allantools) (1.2.0)\n",
      "\u001b[33mWARNING: You are using pip version 19.1.1, however version 20.2.2 is available.\n",
      "You should consider upgrading via the 'pip install --upgrade pip' command.\u001b[0m\n"
     ]
    }
   ],
   "source": [
    "# https://allantools.readthedocs.io/en/latest/functions.html\n",
    "!pip install allantools\n",
    "import allantools"
   ]
  },
  {
   "cell_type": "code",
   "execution_count": 23,
   "metadata": {},
   "outputs": [
    {
     "name": "stdout",
     "output_type": "stream",
     "text": [
      "taus - [1.00000e+00 2.00000e+00 4.00000e+00 8.00000e+00 1.60000e+01 3.20000e+01\n",
      " 6.40000e+01 1.28000e+02 2.56000e+02 5.12000e+02 1.02400e+03 2.04800e+03\n",
      " 4.09600e+03 8.19200e+03 1.63840e+04 3.27680e+04 6.55360e+04 1.31072e+05\n",
      " 2.62144e+05 5.24288e+05]\n",
      "adevs - [8.80543284e-14 6.22375047e-14 4.39858998e-14 3.11253655e-14\n",
      " 2.19384665e-14 1.56103435e-14 1.10405162e-14 7.85368185e-15\n",
      " 5.53134538e-15 3.95410516e-15 2.80177045e-15 2.05674657e-15\n",
      " 1.51714713e-15 1.24190231e-15 1.42007593e-15 1.90615106e-15\n",
      " 2.67323942e-15 3.19923174e-15 4.11393904e-15 4.83468842e-15]\n",
      "----------------------------------------\n",
      "taus - [1.00000e+00 2.00000e+00 4.00000e+00 8.00000e+00 1.60000e+01 3.20000e+01\n",
      " 6.40000e+01 1.28000e+02 2.56000e+02 5.12000e+02 1.02400e+03 2.04800e+03\n",
      " 4.09600e+03 8.19200e+03 1.63840e+04 3.27680e+04 6.55360e+04 1.31072e+05\n",
      " 2.62144e+05 5.24288e+05]\n",
      "adevs - [8.80500497e-14 6.22579523e-14 4.39882500e-14 3.10557025e-14\n",
      " 2.19553423e-14 1.55694373e-14 1.09663230e-14 7.72223003e-15\n",
      " 5.56406367e-15 3.90563336e-15 2.80722019e-15 1.99122095e-15\n",
      " 1.52700517e-15 1.38271674e-15 1.51415441e-15 2.14232236e-15\n",
      " 2.82674778e-15 3.42017577e-15 5.60305782e-15 6.22471109e-15]\n",
      "----------------------------------------\n",
      "taus - [1.00000e+00 2.00000e+00 4.00000e+00 8.00000e+00 1.60000e+01 3.20000e+01\n",
      " 6.40000e+01 1.28000e+02 2.56000e+02 5.12000e+02 1.02400e+03 2.04800e+03\n",
      " 4.09600e+03 8.19200e+03 1.63840e+04 3.27680e+04 6.55360e+04 1.31072e+05\n",
      " 2.62144e+05 5.24288e+05]\n",
      "adevs - [8.79619703e-14 6.22264993e-14 4.40088704e-14 3.10691882e-14\n",
      " 2.19362820e-14 1.55035802e-14 1.09516504e-14 7.80062484e-15\n",
      " 5.48114628e-15 3.88579630e-15 2.79983431e-15 2.00532125e-15\n",
      " 1.44819855e-15 1.29453088e-15 1.48496058e-15 1.84751960e-15\n",
      " 2.27448406e-15 2.38902630e-15 3.40359589e-15 5.74980337e-15]\n",
      "----------------------------------------\n",
      "taus - [1.00000e+00 2.00000e+00 4.00000e+00 8.00000e+00 1.60000e+01 3.20000e+01\n",
      " 6.40000e+01 1.28000e+02 2.56000e+02 5.12000e+02 1.02400e+03 2.04800e+03\n",
      " 4.09600e+03 8.19200e+03 1.63840e+04 3.27680e+04 6.55360e+04 1.31072e+05\n",
      " 2.62144e+05 5.24288e+05]\n",
      "adevs - [8.79912087e-14 6.22340062e-14 4.39583852e-14 3.11533687e-14\n",
      " 2.19611438e-14 1.55624481e-14 1.09987042e-14 7.76632825e-15\n",
      " 5.47050530e-15 3.88842720e-15 2.77991262e-15 1.97599283e-15\n",
      " 1.48043366e-15 1.26571333e-15 1.31720783e-15 1.73088713e-15\n",
      " 2.22587821e-15 3.01225735e-15 4.73591286e-15 4.40148207e-15]\n",
      "----------------------------------------\n",
      "taus - [1.00000e+00 2.00000e+00 4.00000e+00 8.00000e+00 1.60000e+01 3.20000e+01\n",
      " 6.40000e+01 1.28000e+02 2.56000e+02 5.12000e+02 1.02400e+03 2.04800e+03\n",
      " 4.09600e+03 8.19200e+03 1.63840e+04 3.27680e+04 6.55360e+04 1.31072e+05\n",
      " 2.62144e+05 5.24288e+05]\n",
      "adevs - [8.79125045e-14 6.21724114e-14 4.39423119e-14 3.11301132e-14\n",
      " 2.20277738e-14 1.55177765e-14 1.09732850e-14 7.77113144e-15\n",
      " 5.52191653e-15 3.87600586e-15 2.79977449e-15 1.97126154e-15\n",
      " 1.51962609e-15 1.31911636e-15 1.44472769e-15 1.98099103e-15\n",
      " 2.63229673e-15 3.85376417e-15 5.38719203e-15 9.00437076e-15]\n",
      "----------------------------------------\n"
     ]
    },
    {
     "data": {
      "image/png": "[encoded data removed]",
      "text/plain": [
       "<Figure size 432x288 with 1 Axes>"
      ]
     },
     "metadata": {
      "needs_background": "light"
     },
     "output_type": "display_data"
    }
   ],
   "source": [
    "# calculate allan variance for 0 covariance\n",
    "import matplotlib.pyplot as plt\n",
    "%matplotlib inline\n",
    "\n",
    "for i in range(cov_0_data.shape[0]):\n",
    "    (taus, adevs, errors, ns) = allantools.adev(data=cov_0_data[i,:], data_type='freq')\n",
    "    print('taus - %s' % taus)\n",
    "    print('adevs - %s' % adevs)\n",
    "    print(\"----------------------------------------\")\n",
    "    plt.plot(np.log10(taus), np.log10(adevs))"
   ]
  },
  {
   "cell_type": "markdown",
   "metadata": {},
   "source": [
    "### 3. 计算Gamma"
   ]
  },
  {
   "cell_type": "markdown",
   "metadata": {},
   "source": [
    "#### (1) For each 2 clocks calculate "
   ]
  },
  {
   "cell_type": "markdown",
   "metadata": {},
   "source": [
    "$ 1/M * \\sum_{i=0}^{M}[\\Delta y_{A}^{i}(\\tau)\\Delta y_{B}^{i}(\\tau)] $"
   ]
  },
  {
   "cell_type": "code",
   "execution_count": 5,
   "metadata": {},
   "outputs": [],
   "source": [
    "def rolling_diff(arr, tau = 1):\n",
    "    # tau should be the power of 2\n",
    "    # arr is a one-dimension array\n",
    "    if tau >= len(arr):\n",
    "        raise Exception('tau %s is bigger or equal than length of array %s ' % (tau, len(arr)))\n",
    "    else:\n",
    "        result = list()\n",
    "        for i in range(len(arr)):\n",
    "            if i + tau >= len(arr):\n",
    "                break\n",
    "            else:\n",
    "                result.append(arr[i + tau] - arr[i])\n",
    "        return np.array(result)"
   ]
  },
  {
   "cell_type": "code",
   "execution_count": 6,
   "metadata": {},
   "outputs": [],
   "source": [
    "def cal_cij_and_plot(cov_data, taus):\n",
    "    C_ij_all = list()\n",
    "    for tau in taus:\n",
    "        delta_clocks = np.apply_along_axis(func1d = rolling_diff, axis = 1, arr = cov_data, tau = tau)\n",
    "        print('tau is %s and delta_clocks has shape %s' % (tau, str(delta_clocks.shape)))\n",
    "        result = list()\n",
    "        for i in range(delta_clocks.shape[0]):\n",
    "            for j in range(delta_clocks.shape[0]):\n",
    "                if i < j:\n",
    "                    C_ij = np.mean(np.multiply(delta_clocks[i,], delta_clocks[j,]))\n",
    "                    result.append(C_ij)\n",
    "        C_ij_all.append(result)\n",
    "    \n",
    "    C_ij_all = np.array(C_ij_all)\n",
    "    print(C_ij_all)\n",
    "    print(C_ij_all.shape)\n",
    "    \n",
    "    for i in range(cov_data.shape[0]):\n",
    "        for j in range(cov_data.shape[0]):\n",
    "            if i < j:\n",
    "                print(\"row1: %s, row2: %s\" % (i, j))\n",
    "                (taus_i, adevs_i, errors_i, ns_i) = allantools.adev(data=cov_data[i,:], data_type='freq')\n",
    "                (taus_j, adevs_j, errors_j, ns_j) = allantools.adev(data=cov_data[j,:], data_type='freq')\n",
    "                C_ij = C_ij_all[:,i+j-1]\n",
    "                multiply_adev_ij = 2 * adevs_i * adevs_j\n",
    "                Gamma_ij = C_ij / multiply_adev_ij\n",
    "                print('Gamma_ij - %s' % Gamma_ij)\n",
    "                print(\"----------------------------------------\")\n",
    "                plt.plot(np.log10(taus), Gamma_ij)\n",
    "            else:\n",
    "                continue"
   ]
  },
  {
   "cell_type": "code",
   "execution_count": 7,
   "metadata": {},
   "outputs": [],
   "source": [
    "taus = 2 ** np.arange(0,20)"
   ]
  },
  {
   "cell_type": "code",
   "execution_count": 8,
   "metadata": {},
   "outputs": [],
   "source": [
    "#cal_cij_and_plot(cov_0_data, taus)"
   ]
  },
  {
   "cell_type": "code",
   "execution_count": 9,
   "metadata": {},
   "outputs": [],
   "source": [
    "#cal_cij_and_plot(cov_5_data, taus)"
   ]
  },
  {
   "cell_type": "markdown",
   "metadata": {},
   "source": [
    "#### (2) For each 2 clocks calculate"
   ]
  },
  {
   "cell_type": "markdown",
   "metadata": {},
   "source": [
    "C(i,j) = Var(i) + Var(j) - Var(i-j), Gamma(i,j) = C(i,j) / (2 * Std(i) * Std(j))"
   ]
  },
  {
   "cell_type": "code",
   "execution_count": 10,
   "metadata": {},
   "outputs": [],
   "source": [
    "def cal_cij_and_plot2(cov_data):\n",
    "    for i in range(cov_data.shape[0]):\n",
    "        for j in range(cov_data.shape[0]):\n",
    "            if i < j:\n",
    "                print(\"row1: %s, row2: %s\" % (i, j))\n",
    "                (taus_i, adevs_i, errors_i, ns_i) = allantools.adev(data=cov_data[i,:], data_type='freq')\n",
    "                (taus_j, adevs_j, errors_j, ns_j) = allantools.adev(data=cov_data[j,:], data_type='freq')\n",
    "                (taus_ij, adevs_ij, errors_ij, ns_ij) = allantools.adev(data=cov_data[i,:] - cov_data[j,:], data_type='freq')\n",
    "                assert taus_i.shape == taus_j.shape == taus_ij.shape\n",
    "            \n",
    "                C_ij = adevs_i ** 2 + adevs_j ** 2 - adevs_ij ** 2\n",
    "                multiply_adev_ij = 2 * adevs_i * adevs_j\n",
    "                Gamma_ij = C_ij / multiply_adev_ij\n",
    "            \n",
    "                print('tau - %s' % taus_ij)\n",
    "                print('C_ij - %s' % C_ij)\n",
    "                print('multiply_adev_ij - %s' % multiply_adev_ij)\n",
    "                print('Gamma_ij - %s' % Gamma_ij)\n",
    "                print(\"----------------------------------------\")\n",
    "                plt.plot(np.log10(taus_ij), Gamma_ij)\n",
    "            else:\n",
    "                continue"
   ]
  },
  {
   "cell_type": "code",
   "execution_count": 11,
   "metadata": {},
   "outputs": [],
   "source": [
    "#cal_cij_and_plot2(cov_0_data)"
   ]
  },
  {
   "cell_type": "code",
   "execution_count": 12,
   "metadata": {},
   "outputs": [],
   "source": [
    "#cal_cij_and_plot2(cov_5_data)"
   ]
  },
  {
   "cell_type": "markdown",
   "metadata": {},
   "source": [
    "#### (3) For each 2 clocks calculate"
   ]
  },
  {
   "cell_type": "code",
   "execution_count": 13,
   "metadata": {},
   "outputs": [],
   "source": [
    "# TODO"
   ]
  },
  {
   "cell_type": "markdown",
   "metadata": {},
   "source": [
    "### 4. 带入模型进行测试"
   ]
  },
  {
   "cell_type": "code",
   "execution_count": 31,
   "metadata": {},
   "outputs": [],
   "source": [
    "y_t = cov_0_data.T\n",
    "clock_size = y_t.shape[1]"
   ]
  },
  {
   "cell_type": "code",
   "execution_count": 33,
   "metadata": {},
   "outputs": [],
   "source": [
    "regularization = False\n",
    "subset_size_list = [3, 5]\n",
    "window_step_list = [60*60*12, 60*60*6, 60*60, 60*30, 60*10, 60*5]\n",
    "amplify = [2, 2, 5, 5, 10, 10]\n",
    "\n",
    "window_size_list = [x*y for (x,y) in zip(window_step_list, amplify)]"
   ]
  },
  {
   "cell_type": "code",
   "execution_count": 34,
   "metadata": {},
   "outputs": [
    {
     "name": "stdout",
     "output_type": "stream",
     "text": [
      "------------------Overall------------------\n",
      "*** Weighted clock's Allan deviation ***\n",
      "taus - [1.000e+00 2.000e+00 4.000e+00 8.000e+00 1.600e+01 3.200e+01 6.400e+01\n",
      " 1.280e+02 2.560e+02 5.120e+02 1.024e+03], adevs - [4.17263302e-14 3.04952271e-14 2.12284952e-14 1.59050976e-14\n",
      " 1.10175369e-14 7.28269180e-15 4.94322741e-15 3.31954743e-15\n",
      " 2.84863772e-15 2.16134769e-15 2.33467227e-15]\n",
      "taus - [1.000e+00 2.000e+00 4.000e+00 8.000e+00 1.600e+01 3.200e+01 6.400e+01\n",
      " 1.280e+02 2.560e+02 5.120e+02 1.024e+03], adevs - [3.85416301e-14 2.84199365e-14 1.93061654e-14 1.46822363e-14\n",
      " 9.77277073e-15 7.03743348e-15 5.03844723e-15 3.44413763e-15\n",
      " 2.50775151e-15 2.13736887e-15 2.57556212e-15]\n",
      "*** Inverse variance weighted clock's Allan deviation ***\n",
      "taus - [1.000e+00 2.000e+00 4.000e+00 8.000e+00 1.600e+01 3.200e+01 6.400e+01\n",
      " 1.280e+02 2.560e+02 5.120e+02 1.024e+03], adevs - [4.09068381e-14 2.88109216e-14 2.11921152e-14 1.45380608e-14\n",
      " 1.10414270e-14 7.64586390e-15 5.02433949e-15 3.14783680e-15\n",
      " 2.37947353e-15 2.10850495e-15 3.61766395e-15]\n",
      "*** Each clock's Allan deviation ***\n",
      "taus - [1.000e+00 2.000e+00 4.000e+00 8.000e+00 1.600e+01 3.200e+01 6.400e+01\n",
      " 1.280e+02 2.560e+02 5.120e+02 1.024e+03], adevs - [8.76352893e-14 6.44183888e-14 4.45845785e-14 3.00721517e-14\n",
      " 2.04941964e-14 1.44515831e-14 1.17414989e-14 6.34439239e-15\n",
      " 5.64439262e-15 3.31250301e-15 1.95860655e-15]\n",
      "taus - [1.000e+00 2.000e+00 4.000e+00 8.000e+00 1.600e+01 3.200e+01 6.400e+01\n",
      " 1.280e+02 2.560e+02 5.120e+02 1.024e+03], adevs - [9.01370817e-14 6.41498783e-14 4.39269884e-14 3.15314891e-14\n",
      " 2.33922146e-14 1.74675448e-14 1.03387124e-14 8.35875300e-15\n",
      " 5.63688442e-15 2.67231258e-15 2.91442047e-15]\n",
      "taus - [1.000e+00 2.000e+00 4.000e+00 8.000e+00 1.600e+01 3.200e+01 6.400e+01\n",
      " 1.280e+02 2.560e+02 5.120e+02 1.024e+03], adevs - [8.81284581e-14 6.13779620e-14 4.63935474e-14 3.05027583e-14\n",
      " 2.26484810e-14 1.49288417e-14 1.23507786e-14 8.17116293e-15\n",
      " 6.16021350e-15 4.60652741e-15 1.81126904e-15]\n",
      "taus - [1.000e+00 2.000e+00 4.000e+00 8.000e+00 1.600e+01 3.200e+01 6.400e+01\n",
      " 1.280e+02 2.560e+02 5.120e+02 1.024e+03], adevs - [8.89999261e-14 6.14303941e-14 4.43186240e-14 3.17082282e-14\n",
      " 2.31479963e-14 1.54094003e-14 1.17706749e-14 9.86816842e-15\n",
      " 5.23157485e-15 4.26027530e-15 3.79475023e-15]\n",
      "taus - [1.000e+00 2.000e+00 4.000e+00 8.000e+00 1.600e+01 3.200e+01 6.400e+01\n",
      " 1.280e+02 2.560e+02 5.120e+02 1.024e+03], adevs - [8.73647331e-14 6.06600098e-14 4.35516240e-14 3.00545045e-14\n",
      " 2.17559176e-14 1.39893342e-14 1.09355919e-14 8.46672580e-15\n",
      " 6.21326326e-15 1.49165663e-15 1.43445859e-15]\n"
     ]
    },
    {
     "data": {
      "image/png": "[encoded data removed]",
      "text/plain": [
       "<Figure size 432x288 with 1 Axes>"
      ]
     },
     "metadata": {},
     "output_type": "display_data"
    },
    {
     "name": "stdout",
     "output_type": "stream",
     "text": [
      "6000 600\n",
      "------------------Overall------------------\n",
      "*** Weighted clock's Allan deviation ***\n",
      "taus - [1.000e+00 2.000e+00 4.000e+00 8.000e+00 1.600e+01 3.200e+01 6.400e+01\n",
      " 1.280e+02 2.560e+02 5.120e+02 1.024e+03 2.048e+03], adevs - [4.21862510e-14 2.99149610e-14 2.13685542e-14 1.50893078e-14\n",
      " 1.00993351e-14 6.24398522e-15 5.24895678e-15 3.66231512e-15\n",
      " 2.19480547e-15 1.76359847e-15 1.33972498e-15 1.03755932e-15]\n",
      "taus - [1.000e+00 2.000e+00 4.000e+00 8.000e+00 1.600e+01 3.200e+01 6.400e+01\n",
      " 1.280e+02 2.560e+02 5.120e+02 1.024e+03 2.048e+03], adevs - [3.88913677e-14 2.78810621e-14 1.97468445e-14 1.38567837e-14\n",
      " 9.32135193e-15 6.22482860e-15 5.23108599e-15 3.57250898e-15\n",
      " 2.00762483e-15 1.62450923e-15 1.49949063e-15 7.41247991e-16]\n",
      "*** Inverse variance weighted clock's Allan deviation ***\n",
      "taus - [1.000e+00 2.000e+00 4.000e+00 8.000e+00 1.600e+01 3.200e+01 6.400e+01\n",
      " 1.280e+02 2.560e+02 5.120e+02 1.024e+03 2.048e+03], adevs - [4.18179520e-14 2.91021016e-14 2.07165853e-14 1.49837213e-14\n",
      " 1.09381149e-14 7.73199745e-15 5.33811091e-15 4.21766808e-15\n",
      " 2.31660468e-15 2.12366924e-15 2.87378598e-15 3.59588146e-15]\n",
      "*** Each clock's Allan deviation ***\n",
      "taus - [1.000e+00 2.000e+00 4.000e+00 8.000e+00 1.600e+01 3.200e+01 6.400e+01\n",
      " 1.280e+02 2.560e+02 5.120e+02 1.024e+03 2.048e+03], adevs - [8.74350147e-14 6.34165708e-14 4.43991317e-14 3.09016560e-14\n",
      " 2.14332022e-14 1.60509881e-14 9.66536624e-15 7.02766078e-15\n",
      " 6.06874860e-15 4.20938849e-15 2.70672649e-15 1.32847973e-15]\n",
      "taus - [1.000e+00 2.000e+00 4.000e+00 8.000e+00 1.600e+01 3.200e+01 6.400e+01\n",
      " 1.280e+02 2.560e+02 5.120e+02 1.024e+03 2.048e+03], adevs - [8.86104505e-14 6.22065909e-14 4.36596719e-14 3.14217773e-14\n",
      " 2.18211491e-14 1.42580331e-14 9.15742307e-15 5.88773833e-15\n",
      " 4.49430893e-15 2.21920433e-15 1.05450932e-15 1.04656919e-15]\n",
      "taus - [1.000e+00 2.000e+00 4.000e+00 8.000e+00 1.600e+01 3.200e+01 6.400e+01\n",
      " 1.280e+02 2.560e+02 5.120e+02 1.024e+03 2.048e+03], adevs - [8.85525476e-14 6.24148506e-14 4.61117830e-14 3.11003042e-14\n",
      " 2.20860666e-14 1.58354656e-14 1.00532245e-14 7.29445313e-15\n",
      " 4.83665550e-15 4.29930531e-15 1.72224568e-15 1.12044561e-15]\n",
      "taus - [1.000e+00 2.000e+00 4.000e+00 8.000e+00 1.600e+01 3.200e+01 6.400e+01\n",
      " 1.280e+02 2.560e+02 5.120e+02 1.024e+03 2.048e+03], adevs - [8.79980098e-14 6.08016639e-14 4.38655062e-14 3.20134949e-14\n",
      " 2.19194324e-14 1.53180574e-14 1.12090473e-14 7.47401062e-15\n",
      " 6.21108569e-15 4.94828103e-15 3.58336026e-15 1.19859861e-15]\n",
      "taus - [1.000e+00 2.000e+00 4.000e+00 8.000e+00 1.600e+01 3.200e+01 6.400e+01\n",
      " 1.280e+02 2.560e+02 5.120e+02 1.024e+03 2.048e+03], adevs - [8.76444931e-14 6.12653591e-14 4.43352279e-14 3.21556964e-14\n",
      " 2.29532728e-14 1.42547647e-14 1.09031602e-14 8.61247664e-15\n",
      " 7.42684693e-15 4.47370668e-15 1.89008933e-15 1.99503426e-15]\n"
     ]
    },
    {
     "data": {
      "image/png": "[encoded data removed]",
      "text/plain": [
       "<Figure size 432x288 with 1 Axes>"
      ]
     },
     "metadata": {},
     "output_type": "display_data"
    },
    {
     "name": "stdout",
     "output_type": "stream",
     "text": [
      "3000 300\n",
      "Done\n"
     ]
    }
   ],
   "source": [
    "import sys\n",
    "\n",
    "# 0. For each (window_size, window_step) combination\n",
    "for window_size, window_step in zip(window_size_list, window_step_list):\n",
    "    \n",
    "    if window_size > y_t.shape[0]:\n",
    "        raise Exception('The window size should not be greater than the number of time points')\n",
    "\n",
    "    all_weighted_clock_estimation = list()\n",
    "        \n",
    "    # 1. For each subset_size\n",
    "    for subset_size in subset_size_list:\n",
    "        if subset_size > clock_size:\n",
    "            raise Exception('The subset size should not be greater than the number of clocks')\n",
    "        A = np.ones((subset_size, 1))\n",
    "            \n",
    "        weighted_inverse_variance_estimation = list()\n",
    "        weighted_clock_estimation = list()\n",
    "#         print(\"------------------Subset size %s------------------\" % subset_size)\n",
    "        \n",
    "        # 2. For each rolling window\n",
    "        for i in range(int((y_t.shape[0] - window_size) / window_step) + 1):\n",
    "            subset_cov_list = list()\n",
    "            subset_raw_list = list()\n",
    "#             print(\"------------------Step %s------------------\" % i)\n",
    "                \n",
    "            # 3. For each subset\n",
    "            for j in range(clock_size - subset_size + 1):\n",
    "                \n",
    "                # 4. Get raw subset\n",
    "                subset_raw = y_t[i:i+window_size, j:j+subset_size]\n",
    "        \n",
    "                # 5. Calculate covariance within the subset\n",
    "                subset_cov = np.cov(subset_raw, rowvar=False)\n",
    "                subset_cov_list.append(subset_cov)\n",
    "#                 print(\"*** Subset Cov ***\")\n",
    "#                 print(subset_cov)\n",
    "                \n",
    "                # 6. Calculate summation for corresponding clocks in different subsets \n",
    "                subset_raw_list.append(subset_raw)\n",
    "\n",
    "            # 7. Calculate covariance matrix mean (Element-wise)\n",
    "            allset_cov_mean = np.sum(np.asarray(subset_cov_list), axis=0) / (clock_size - subset_size + 1)\n",
    "#             print(\"*** Cov mean ***\")\n",
    "#             print(allset_cov_mean)\n",
    "    \n",
    "            # 8. Add regularization term\n",
    "            if regularization:\n",
    "                sigma = np.max(allset_cov_mean) / (clock_size * 10.0)\n",
    "                allset_cov_mean += sigma * np.eye(subset_size)\n",
    "#                 print(\"*** Regularization term ***\")\n",
    "#                 print(sigma * np.eye(subset_size))\n",
    "    \n",
    "            # 9. Calculate the inverse of covariance matrix mean\n",
    "            allset_cov_mean_inverse = np.linalg.inv(allset_cov_mean)\n",
    "#             print(\"*** Inverse Cov mean ***\")\n",
    "#             print(allset_cov_mean_inverse)\n",
    "    \n",
    "            # 10. Calculate weight\n",
    "            weight = np.dot(allset_cov_mean_inverse, A) / np.dot(np.dot(A.T, allset_cov_mean_inverse), A)\n",
    "#             print(\"*** Weight ***\")\n",
    "#             print(weight)\n",
    "\n",
    "            # 11. Calculate beamformer weighted clock\n",
    "            subset_corresponding_sum = np.sum(subset_raw_list, axis=0).T\n",
    "            Z = (np.dot(weight.T, subset_corresponding_sum) / (clock_size - subset_size + 1))[0]\n",
    "#             print(\"*** Weighted output ***\")\n",
    "#             print(Z)\n",
    "    \n",
    "            # 12. Select the last element in Z as the estimation of weighted clock\n",
    "            weighted_clock_estimation.append(Z[-1])\n",
    "    \n",
    "            # 13. Calculate allan variance for each clock\n",
    "            inverse_variance = list()\n",
    "            clock_last_row = list()\n",
    "            for k in range(clock_size):\n",
    "                clock = y_t[window_step * i:window_step * i + window_size + 1, k]\n",
    "                (taus, adevs, errors, ns) = allantools.adev(data=clock, data_type='freq')\n",
    "                inverse_variance.append(1.0 / (adevs[7] ** 2)) # using allan variance for tau = 2^8\n",
    "                clock_last_row.append(clock[-1])\n",
    "            inverse_variance = np.array(inverse_variance) / np.sum(np.array(inverse_variance))\n",
    "#            print(\"*** Inverse variance weight ***\")\n",
    "#            print(inverse_variance)\n",
    "    \n",
    "            # 14. Calculate the inverse variance weighted clock\n",
    "            weighted_inverse_variance_clock = np.dot(inverse_variance, np.array(clock_last_row))\n",
    "            weighted_inverse_variance_estimation.append(weighted_inverse_variance_clock)\n",
    "#            print(\"*** Inverse variance weighted clock ***\")\n",
    "#            print(weighted_inverse_variance_clock)\n",
    "                \n",
    "        all_weighted_clock_estimation.append(weighted_clock_estimation)\n",
    "\n",
    "    # 15. Visualize weighted clock estimation and each clock\n",
    "    print(\"------------------Overall------------------\")\n",
    "    '''\n",
    "    print(\"*** Weighted clock estimation ***\")\n",
    "    for subset_size, weighted_clock_estimation in zip(subset_size_list, all_weighted_clock_estimation):\n",
    "        print(\"+++ Subset size = %s +++\" % subset_size)\n",
    "        print(weighted_clock_estimation)\n",
    "\n",
    "    print(\"*** Inverse variance weighted clock estimation ***\")\n",
    "    print(weighted_inverse_variance_estimation)\n",
    "    '''\n",
    "    # 16. Calculate Allan deviation\n",
    "    fig = plt.figure(facecolor='white')\n",
    "        \n",
    "    print(\"*** Weighted clock's Allan deviation ***\")\n",
    "    for subset_size, weighted_clock_estimation in zip(subset_size_list, all_weighted_clock_estimation):\n",
    "        (taus, adevs, errors, ns) = allantools.adev(data=weighted_clock_estimation, data_type='freq')\n",
    "        print('taus - %s, adevs - %s' % (taus, adevs))\n",
    "        color = 'C%s' % subset_size\n",
    "        plt.plot(taus, adevs, color=color)\n",
    "\n",
    "    print(\"*** Inverse variance weighted clock's Allan deviation ***\")\n",
    "    (taus, adevs, errors, ns) = allantools.adev(data=weighted_inverse_variance_estimation, data_type='freq')\n",
    "    print('taus - %s, adevs - %s' % (taus, adevs))\n",
    "    plt.plot(taus, adevs, color='blue')\n",
    "\n",
    "    print(\"*** Each clock's Allan deviation ***\")\n",
    "    real_clock = y_t[-(int((y_t.shape[0] - window_size) / window_step) + 1):,]\n",
    "    for i in range(real_clock.shape[1]):\n",
    "        (taus, adevs, errors, ns) = allantools.adev(data=real_clock[:,i], data_type='freq')\n",
    "        print('taus - %s, adevs - %s' % (taus, adevs))\n",
    "            \n",
    "    plt.show()\n",
    "    print(window_size, window_step)\n",
    "\n",
    "print('Done')"
   ]
  }
 ],
 "metadata": {
  "kernelspec": {
   "display_name": "Python 3",
   "language": "python",
   "name": "python3"
  },
  "language_info": {
   "codemirror_mode": {
    "name": "ipython",
    "version": 3
   },
   "file_extension": ".py",
   "mimetype": "text/x-python",
   "name": "python",
   "nbconvert_exporter": "python",
   "pygments_lexer": "ipython3",
   "version": "3.6.8"
  }
 },
 "nbformat": 4,
 "nbformat_minor": 4
}
