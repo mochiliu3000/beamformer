{
 "cells": [
  {
   "cell_type": "markdown",
   "metadata": {},
   "source": [
    "# Minimum Variance Beamformer"
   ]
  },
  {
   "cell_type": "markdown",
   "metadata": {},
   "source": [
    "参考论文：https://www.researchgate.net/publication/6135459_Adaptive_Beamforming_Applied_to_Medical_Ultrasound_Imaging"
   ]
  },
  {
   "cell_type": "markdown",
   "metadata": {},
   "source": [
    "### 1. 生成钟组随机数据"
   ]
  },
  {
   "cell_type": "markdown",
   "metadata": {},
   "source": [
    "##### (1) 基础仿真数据的生成"
   ]
  },
  {
   "cell_type": "markdown",
   "metadata": {},
   "source": [
    "$ y(t)=[a + \\epsilon{_1} * GN{_1}(\\mu_1,\\sigma_1)] + [b + \\epsilon{_2} * GN{_2}(\\mu_2,\\sigma_2)] * t $"
   ]
  },
  {
   "cell_type": "markdown",
   "metadata": {},
   "source": [
    "$ GN_{1} $ 代表钟在频率a上的噪声，$ GN_{2} $ 代表钟在频率漂移b上的噪声"
   ]
  },
  {
   "cell_type": "markdown",
   "metadata": {},
   "source": [
    "$ a = μ_1 = μ_2 = 0, b = 10^{-15}, σ_1 = 2 × 10^{-30}, σ_2 = 10^{-34}, t = 1, 2, 3... $"
   ]
  },
  {
   "cell_type": "code",
   "execution_count": 1,
   "metadata": {},
   "outputs": [],
   "source": [
    "a = 0\n",
    "b = 10 ** (-15)\n",
    "epsilon_1 = 1.0\n",
    "epsilon_2 = 0.1\n",
    "mu_1 = 0\n",
    "mu_2 = 0\n",
    "sigma_1 = 2 * 10 ** (-30)\n",
    "sigma_2 = 10 ** (-34)\n",
    "\n",
    "t = range(1,11) # 1,2,3...10\n",
    "clock_size = 5"
   ]
  },
  {
   "cell_type": "code",
   "execution_count": 2,
   "metadata": {},
   "outputs": [],
   "source": [
    "import math\n",
    "import numpy as np\n",
    "frequency = a + epsilon_1 * np.random.normal(loc=mu_1, scale=math.sqrt(sigma_1), size=(len(t), clock_size))\n",
    "frequency_drift = b + epsilon_2 * np.random.normal(loc=mu_2, scale=math.sqrt(sigma_2), size=(len(t), clock_size))"
   ]
  },
  {
   "cell_type": "code",
   "execution_count": 3,
   "metadata": {},
   "outputs": [
    {
     "name": "stdout",
     "output_type": "stream",
     "text": [
      "[[ 1.27502855e-15 -1.57073789e-17 -6.61784370e-16 -1.10697953e-15\n",
      "   6.87851724e-16]\n",
      " [ 2.77013984e-15  3.57885521e-15  1.48668519e-15  3.78822443e-15\n",
      "   1.08170775e-15]\n",
      " [ 2.57126587e-15  4.36428714e-15  4.01554447e-15  3.42511647e-15\n",
      "   4.52332308e-15]\n",
      " [ 4.11707069e-15  3.30391251e-15  2.62391223e-15  3.11648799e-15\n",
      "   4.75322823e-15]\n",
      " [ 3.29415334e-15  2.05533488e-15  4.46280413e-15  4.28143835e-15\n",
      "   4.04548623e-15]\n",
      " [ 4.37586826e-15  4.79130080e-15  5.51049268e-15  7.44585157e-15\n",
      "   7.90352511e-15]\n",
      " [ 7.37751968e-15  8.72373846e-15  7.41317626e-15  7.08338369e-15\n",
      "   7.99932670e-15]\n",
      " [ 7.64605070e-15  7.34084548e-15  6.61172200e-15  8.72062950e-15\n",
      "   8.27639782e-15]\n",
      " [ 1.07785545e-14  9.79975367e-15  8.45512932e-15  7.92014807e-15\n",
      "   9.75872546e-15]\n",
      " [ 9.86258011e-15  8.42306782e-15  9.16324573e-15  7.61482826e-15\n",
      "   1.23089399e-14]]\n"
     ]
    }
   ],
   "source": [
    "y_t = frequency + np.array(t).reshape((-1,1)) * frequency_drift\n",
    "print(y_t)"
   ]
  },
  {
   "cell_type": "markdown",
   "metadata": {},
   "source": [
    "##### (2) 添加相关性扰动"
   ]
  },
  {
   "cell_type": "markdown",
   "metadata": {},
   "source": [
    "$ y_{i}(t) = y_{i}(t) + \\beta GN_{s}, -1 < \\beta < 1 $"
   ]
  },
  {
   "cell_type": "markdown",
   "metadata": {},
   "source": [
    "$ GN_{s} $ 代表环境产生的噪声。β表示相关性的大小，用它来控制钟之间的相关性"
   ]
  },
  {
   "cell_type": "code",
   "execution_count": 4,
   "metadata": {},
   "outputs": [
    {
     "name": "stdout",
     "output_type": "stream",
     "text": [
      "[0.02932499 0.07993378 0.1482538  0.97527107 0.27706066]\n",
      "[[ 5.98298539e-16]\n",
      " [ 1.21134037e-15]\n",
      " [-5.72753709e-17]\n",
      " [-6.96383913e-16]\n",
      " [-4.68209691e-16]\n",
      " [-1.31883185e-15]\n",
      " [ 2.61580803e-17]\n",
      " [ 4.57489824e-16]\n",
      " [ 2.45125898e-16]\n",
      " [ 5.74013790e-16]]\n"
     ]
    }
   ],
   "source": [
    "mu_s = 0\n",
    "sigma_s = 10 ** (-30)\n",
    "beta = np.random.uniform(-1.0, 1.0, clock_size)\n",
    "noice_global = np.random.normal(loc=mu_s, scale=math.sqrt(sigma_s), size=(len(t), 1))\n",
    "\n",
    "print(beta)\n",
    "print(noice_global)"
   ]
  },
  {
   "cell_type": "code",
   "execution_count": 5,
   "metadata": {},
   "outputs": [
    {
     "name": "stdout",
     "output_type": "stream",
     "text": [
      "[[ 1.29257364e-15  3.21168824e-17 -5.73084336e-16 -5.23476275e-16\n",
      "   8.53616712e-16]\n",
      " [ 2.80566238e-15  3.67568222e-15  1.66627101e-15  4.96960965e-15\n",
      "   1.41732251e-15]\n",
      " [ 2.56958627e-15  4.35970890e-15  4.00705318e-15  3.36925746e-15\n",
      "   4.50745433e-15]\n",
      " [ 4.09664924e-15  3.24824792e-15  2.52067067e-15  2.43732490e-15\n",
      "   4.56028764e-15]\n",
      " [ 3.28042310e-15  2.01790911e-15  4.39339027e-15  3.82480698e-15\n",
      "   3.91576374e-15]\n",
      " [ 4.33719353e-15  4.68588159e-15  5.31497084e-15  6.15963302e-15\n",
      "   7.53812868e-15]\n",
      " [ 7.37828676e-15  8.72582937e-15  7.41705430e-15  7.10889491e-15\n",
      "   8.00657407e-15]\n",
      " [ 7.65946659e-15  7.37741437e-15  6.67954661e-15  9.16680609e-15\n",
      "   8.40315025e-15]\n",
      " [ 1.07857428e-14  9.81934751e-15  8.49147017e-15  8.15921226e-15\n",
      "   9.82664020e-15]\n",
      " [ 9.87941306e-15  8.46895091e-15  9.24834546e-15  8.17464730e-15\n",
      "   1.24679765e-14]]\n"
     ]
    }
   ],
   "source": [
    "y_t = y_t + noice_global * beta\n",
    "print(y_t)"
   ]
  },
  {
   "cell_type": "markdown",
   "metadata": {},
   "source": [
    "##### (3) 可视化各台钟的数据"
   ]
  },
  {
   "cell_type": "code",
   "execution_count": 6,
   "metadata": {},
   "outputs": [
    {
     "data": {
      "image/png": "[encoded data removed]",
      "text/plain": [
       "<Figure size 432x288 with 1 Axes>"
      ]
     },
     "metadata": {},
     "output_type": "display_data"
    }
   ],
   "source": [
    "import numpy as np\n",
    "import matplotlib.pyplot as plt\n",
    "%matplotlib inline\n",
    "\n",
    "fig = plt.figure(facecolor='white')\n",
    "plt.plot(y_t)\n",
    "plt.show()"
   ]
  },
  {
   "cell_type": "markdown",
   "metadata": {},
   "source": [
    "### 2. 安装Allan Variance组件包"
   ]
  },
  {
   "cell_type": "code",
   "execution_count": 7,
   "metadata": {},
   "outputs": [
    {
     "name": "stdout",
     "output_type": "stream",
     "text": [
      "Requirement already satisfied: allantools in /usr/local/lib64/python3.6/site-packages (2019.9)\n",
      "Requirement already satisfied: numpy in /usr/local/lib64/python3.6/site-packages (from allantools) (1.16.4)\n",
      "Requirement already satisfied: scipy in /usr/local/lib64/python3.6/site-packages (from allantools) (1.2.0)\n",
      "\u001b[33mWARNING: You are using pip version 19.1.1, however version 20.1.1 is available.\n",
      "You should consider upgrading via the 'pip install --upgrade pip' command.\u001b[0m\n"
     ]
    }
   ],
   "source": [
    "# https://allantools.readthedocs.io/en/latest/functions.html\n",
    "!pip install allantools\n",
    "import allantools"
   ]
  },
  {
   "cell_type": "markdown",
   "metadata": {},
   "source": [
    "### 3. 生成子钟组"
   ]
  },
  {
   "cell_type": "code",
   "execution_count": 8,
   "metadata": {},
   "outputs": [
    {
     "name": "stdout",
     "output_type": "stream",
     "text": [
      "[array([[ 1.29257364e-15,  3.21168824e-17, -5.73084336e-16],\n",
      "       [ 2.80566238e-15,  3.67568222e-15,  1.66627101e-15],\n",
      "       [ 2.56958627e-15,  4.35970890e-15,  4.00705318e-15],\n",
      "       [ 4.09664924e-15,  3.24824792e-15,  2.52067067e-15],\n",
      "       [ 3.28042310e-15,  2.01790911e-15,  4.39339027e-15],\n",
      "       [ 4.33719353e-15,  4.68588159e-15,  5.31497084e-15],\n",
      "       [ 7.37828676e-15,  8.72582937e-15,  7.41705430e-15],\n",
      "       [ 7.65946659e-15,  7.37741437e-15,  6.67954661e-15],\n",
      "       [ 1.07857428e-14,  9.81934751e-15,  8.49147017e-15],\n",
      "       [ 9.87941306e-15,  8.46895091e-15,  9.24834546e-15]]), array([[ 3.21168824e-17, -5.73084336e-16, -5.23476275e-16],\n",
      "       [ 3.67568222e-15,  1.66627101e-15,  4.96960965e-15],\n",
      "       [ 4.35970890e-15,  4.00705318e-15,  3.36925746e-15],\n",
      "       [ 3.24824792e-15,  2.52067067e-15,  2.43732490e-15],\n",
      "       [ 2.01790911e-15,  4.39339027e-15,  3.82480698e-15],\n",
      "       [ 4.68588159e-15,  5.31497084e-15,  6.15963302e-15],\n",
      "       [ 8.72582937e-15,  7.41705430e-15,  7.10889491e-15],\n",
      "       [ 7.37741437e-15,  6.67954661e-15,  9.16680609e-15],\n",
      "       [ 9.81934751e-15,  8.49147017e-15,  8.15921226e-15],\n",
      "       [ 8.46895091e-15,  9.24834546e-15,  8.17464730e-15]]), array([[-5.73084336e-16, -5.23476275e-16,  8.53616712e-16],\n",
      "       [ 1.66627101e-15,  4.96960965e-15,  1.41732251e-15],\n",
      "       [ 4.00705318e-15,  3.36925746e-15,  4.50745433e-15],\n",
      "       [ 2.52067067e-15,  2.43732490e-15,  4.56028764e-15],\n",
      "       [ 4.39339027e-15,  3.82480698e-15,  3.91576374e-15],\n",
      "       [ 5.31497084e-15,  6.15963302e-15,  7.53812868e-15],\n",
      "       [ 7.41705430e-15,  7.10889491e-15,  8.00657407e-15],\n",
      "       [ 6.67954661e-15,  9.16680609e-15,  8.40315025e-15],\n",
      "       [ 8.49147017e-15,  8.15921226e-15,  9.82664020e-15],\n",
      "       [ 9.24834546e-15,  8.17464730e-15,  1.24679765e-14]])]\n"
     ]
    }
   ],
   "source": [
    "subset_size = 3\n",
    "subsets = list()\n",
    "if subset_size > y_t.shape[1]:\n",
    "    raise Exception('The subset size should not be greater than the number of clocks')\n",
    "for i in range(y_t.shape[1] - subset_size + 1):\n",
    "    subset = y_t[:,i:i+subset_size]\n",
    "    subsets.append(subset)\n",
    "print(subsets)"
   ]
  },
  {
   "cell_type": "markdown",
   "metadata": {},
   "source": [
    "### 4. 在滑动窗口内计算协方差矩阵，并计算各子钟组权重"
   ]
  },
  {
   "cell_type": "code",
   "execution_count": 19,
   "metadata": {},
   "outputs": [
    {
     "name": "stdout",
     "output_type": "stream",
     "text": [
      "------------------Step 0------------------\n",
      "*** Raw sum ***\n",
      "[7.51606190e-16 8.14761561e-15 1.09363484e-14 9.86556782e-15\n",
      " 9.69172247e-15]\n",
      "*** Raw sum ***\n",
      "[-1.06444373e-15  1.03115629e-14  1.17360195e-14  8.20624349e-15\n",
      "  1.02361064e-14]\n",
      "*** Raw sum ***\n",
      "[-2.42943899e-16  8.05320317e-15  1.18837650e-14  9.51828321e-15\n",
      "  1.21339610e-14]\n",
      "*** Cov mean ***\n",
      "[[5.62097411e-30 6.75933385e-30 6.76245780e-30]\n",
      " [6.75933385e-30 8.87016669e-30 8.25519227e-30]\n",
      " [6.76245780e-30 8.25519227e-30 8.50540955e-30]]\n",
      "*** Inverse Cov mean ***\n",
      "[[ 5.01007088e+30 -1.14365545e+30 -2.87338277e+30]\n",
      " [-1.14365545e+30  1.42679495e+30 -4.75526184e+29]\n",
      " [-2.87338277e+30 -4.75526184e+29  2.86367043e+30]]\n",
      "*** Weight ***\n",
      "[[ 3.14841218]\n",
      " [-0.60996238]\n",
      " [-1.5384498 ]]\n",
      "*** Weighted output ***\n",
      "[1.12979790e-15 2.32431266e-15 2.99700870e-15 3.80399106e-15\n",
      " 1.86746914e-15]\n",
      "------------------Step 1------------------\n",
      "*** Raw sum ***\n",
      "[8.14761561e-15 1.09363484e-14 9.86556782e-15 9.69172247e-15\n",
      " 1.43380460e-14]\n",
      "*** Raw sum ***\n",
      "[1.03115629e-14 1.17360195e-14 8.20624349e-15 1.02361064e-14\n",
      " 1.61604854e-14]\n",
      "*** Raw sum ***\n",
      "[8.05320317e-15 1.18837650e-14 9.51828321e-15 1.21339610e-14\n",
      " 1.90127325e-14]\n",
      "*** Cov mean ***\n",
      "[[1.78871500e-30 1.99820733e-30 3.12977958e-30]\n",
      " [1.99820733e-30 2.95750947e-30 3.78774690e-30]\n",
      " [3.12977958e-30 3.78774690e-30 5.90612748e-30]]\n",
      "*** Inverse Cov mean ***\n",
      "[[ 7.69073645e+30  1.30986193e+29 -4.15948564e+30]\n",
      " [ 1.30986193e+29  1.89497699e+30 -1.28470832e+30]\n",
      " [-4.15948564e+30 -1.28470832e+30  3.19742898e+30]]\n",
      "*** Weight ***\n",
      "[[ 1.69805321]\n",
      " [ 0.34369436]\n",
      " [-1.04174756]]\n",
      "*** Weighted output ***\n",
      "[2.99656867e-15 3.40807396e-15 3.21901677e-15 2.44487604e-15\n",
      " 3.36485492e-15]\n",
      "------------------Step 2------------------\n",
      "*** Raw sum ***\n",
      "[1.09363484e-14 9.86556782e-15 9.69172247e-15 1.43380460e-14\n",
      " 2.35211704e-14]\n",
      "*** Raw sum ***\n",
      "[1.17360195e-14 8.20624349e-15 1.02361064e-14 1.61604854e-14\n",
      " 2.32517786e-14]\n",
      "*** Raw sum ***\n",
      "[1.18837650e-14 9.51828321e-15 1.21339610e-14 1.90127325e-14\n",
      " 2.25325233e-14]\n",
      "*** Cov mean ***\n",
      "[[1.12720909e-29 1.13157572e-29 9.80501944e-30]\n",
      " [1.13157572e-29 1.19241421e-29 1.06639696e-29]\n",
      " [9.80501944e-30 1.06639696e-29 1.00678273e-29]]\n",
      "*** Inverse Cov mean ***\n",
      "[[ 2.88245237e+30 -4.26435556e+30  1.70964954e+30]\n",
      " [-4.26435556e+30  7.89927460e+30 -4.21397124e+30]\n",
      " [ 1.70964954e+30 -4.21397124e+30  2.89779643e+30]]\n",
      "*** Weight ***\n",
      "[[ 2.30533108]\n",
      " [-4.07298819]\n",
      " [ 2.76765711]]\n",
      "*** Weighted output ***\n",
      "[3.43380713e-15 5.22093717e-15 4.74457739e-15 6.61773367e-15\n",
      " 7.29405465e-15]\n",
      "------------------Step 3------------------\n",
      "*** Raw sum ***\n",
      "[9.86556782e-15 9.69172247e-15 1.43380460e-14 2.35211704e-14\n",
      " 2.17164276e-14]\n",
      "*** Raw sum ***\n",
      "[8.20624349e-15 1.02361064e-14 1.61604854e-14 2.32517786e-14\n",
      " 2.32237671e-14]\n",
      "*** Raw sum ***\n",
      "[9.51828321e-15 1.21339610e-14 1.90127325e-14 2.25325233e-14\n",
      " 2.42495029e-14]\n",
      "*** Cov mean ***\n",
      "[[1.41069086e-29 1.49939001e-29 1.30603326e-29]\n",
      " [1.49939001e-29 1.65441157e-29 1.48868849e-29]\n",
      " [1.30603326e-29 1.48868849e-29 1.38060047e-29]]\n",
      "*** Inverse Cov mean ***\n",
      "[[ 1.56340900e+31 -2.89666217e+31  1.64447538e+31]\n",
      " [-2.89666217e+31  5.57025941e+31 -3.26614688e+31]\n",
      " [ 1.64447538e+31 -3.26614688e+31  1.97344256e+31]]\n",
      "*** Weight ***\n",
      "[[ 4.41803277]\n",
      " [-8.41168693]\n",
      " [ 4.99365416]]\n",
      "*** Weighted output ***\n",
      "[7.36302180e-15 5.76941008e-15 7.45067455e-15 6.95008280e-15\n",
      " 7.22882067e-15]\n",
      "------------------Step 4------------------\n",
      "*** Raw sum ***\n",
      "[9.69172247e-15 1.43380460e-14 2.35211704e-14 2.17164276e-14\n",
      " 2.90965605e-14]\n",
      "*** Raw sum ***\n",
      "[1.02361064e-14 1.61604854e-14 2.32517786e-14 2.32237671e-14\n",
      " 2.64700299e-14]\n",
      "*** Raw sum ***\n",
      "[1.21339610e-14 1.90127325e-14 2.25325233e-14 2.42495029e-14\n",
      " 2.64773226e-14]\n",
      "*** Cov mean ***\n",
      "[[1.96562617e-29 1.65009397e-29 1.36041387e-29]\n",
      " [1.65009397e-29 1.44014140e-29 1.20847140e-29]\n",
      " [1.36041387e-29 1.20847140e-29 1.04495236e-29]]\n",
      "*** Inverse Cov mean ***\n",
      "[[ 1.78724135e+30 -3.22472854e+30  1.40255608e+30]\n",
      " [-3.22472854e+30  8.16786704e+30 -5.24776868e+30]\n",
      " [ 1.40255608e+30 -5.24776868e+30  4.33868738e+30]]\n",
      "*** Weight ***\n",
      "[[-0.22695292]\n",
      " [-1.97922997]\n",
      " [ 3.20618289]]\n",
      "*** Weighted output ***\n",
      "[5.48150831e-15 8.57297308e-15 6.96152509e-15 8.95151966e-15\n",
      " 8.63243762e-15]\n",
      "------------------Step 5------------------\n",
      "*** Raw sum ***\n",
      "[1.43380460e-14 2.35211704e-14 2.17164276e-14 2.90965605e-14\n",
      " 2.75967094e-14]\n",
      "*** Raw sum ***\n",
      "[1.61604854e-14 2.32517786e-14 2.32237671e-14 2.64700299e-14\n",
      " 2.58919437e-14]\n",
      "*** Raw sum ***\n",
      "[1.90127325e-14 2.25325233e-14 2.42495029e-14 2.64773226e-14\n",
      " 2.98909693e-14]\n",
      "*** Cov mean ***\n",
      "[[1.12436987e-29 7.79472814e-30 6.97897478e-30]\n",
      " [7.79472814e-30 5.60807239e-30 4.95253650e-30]\n",
      " [6.97897478e-30 4.95253650e-30 5.58278876e-30]]\n",
      "*** Inverse Cov mean ***\n",
      "[[ 2.48640719e+30 -3.28267590e+30 -1.96138686e+29]\n",
      " [-3.28267590e+30  5.15723940e+30 -4.71395954e+29]\n",
      " [-1.96138686e+29 -4.71395954e+29  8.42491595e+29]]\n",
      "*** Weight ***\n",
      "[[-1.69434595]\n",
      " [ 2.39564039]\n",
      " [ 0.29870556]]\n",
      "*** Weighted output ***\n",
      "[6.70010349e-15 7.52683001e-15 8.69470488e-15 7.34065229e-15\n",
      " 8.06600397e-15]\n",
      "------------------Overall------------------\n",
      "*** Weighted clock estimation ***\n",
      "[1.867469143537562e-15, 3.3648549192263177e-15, 7.294054647008657e-15, 7.228820669378597e-15, 8.63243762260896e-15, 8.066003968529573e-15]\n",
      "*** Mean clock estimation ***\n",
      "[3.48645864e-15 5.60716153e-15 7.72732788e-15 7.85727678e-15\n",
      " 9.41648260e-15 9.64786665e-15]\n",
      "*** Clock covariance matrix ***\n",
      "[[8.76720494e-30 8.13944348e-30 5.26985127e-30 4.63165622e-30\n",
      "  7.19903905e-30]\n",
      " [8.13944348e-30 8.65348714e-30 4.98471776e-30 4.77056205e-30\n",
      "  6.72378941e-30]\n",
      " [5.26985127e-30 4.98471776e-30 3.43107298e-30 2.69171943e-30\n",
      "  4.84630152e-30]\n",
      " [4.63165622e-30 4.77056205e-30 2.69171943e-30 3.63194747e-30\n",
      "  4.27654782e-30]\n",
      " [7.19903905e-30 6.72378941e-30 4.84630152e-30 4.27654782e-30\n",
      "  7.91599683e-30]]\n"
     ]
    },
    {
     "data": {
      "image/png": "[encoded data removed]",
      "text/plain": [
       "<Figure size 432x288 with 1 Axes>"
      ]
     },
     "metadata": {},
     "output_type": "display_data"
    },
    {
     "data": {
      "image/png": "[encoded data removed]",
      "text/plain": [
       "<Figure size 432x288 with 1 Axes>"
      ]
     },
     "metadata": {},
     "output_type": "display_data"
    },
    {
     "name": "stdout",
     "output_type": "stream",
     "text": [
      "*** Weighted clock's Allan Variance ***\n",
      "taus - [1.], adevs - [1.86774738e-15]\n",
      "*** Mean clock's Allan Variance ***\n",
      "taus - [1.], adevs - [9.85320491e-16]\n",
      "*** Each clock's Allan Variance ***\n",
      "taus - [1.], adevs - [2.11870078e-15]\n",
      "taus - [1.], adevs - [2.73096306e-15]\n",
      "taus - [1.], adevs - [1.46071863e-15]\n",
      "taus - [1.], adevs - [1.30349531e-15]\n",
      "taus - [1.], adevs - [1.24950367e-15]\n"
     ]
    }
   ],
   "source": [
    "window_size = 5\n",
    "window_step = 1\n",
    "A = np.ones((clock_size - subset_size + 1, 1))\n",
    "\n",
    "if window_size > y_t.shape[0]:\n",
    "    raise Exception('The window size should not be greater than the number of time points')\n",
    "\n",
    "    \n",
    "weighted_clock_estimation = []\n",
    "for i in range(int((y_t.shape[0] - window_size) / window_step) + 1):\n",
    "    subset_raw_sum_list = list()\n",
    "    print(\"------------------Step %s------------------\" % i)\n",
    "    for j in range(len(subsets)):\n",
    "        # 1. Get raw subset\n",
    "        subset_raw = subsets[j][i:i+window_size,]\n",
    "        \n",
    "        # 2. Calculate summation within a subset \n",
    "        subset_raw_sum = np.sum(subset_raw, axis=1)\n",
    "        subset_raw_sum_list.append(subset_raw_sum)\n",
    "        print(\"*** Raw sum ***\")\n",
    "        print(subset_raw_sum)\n",
    "   \n",
    "    # 3. Calculate covariance matrix mean (Element-wise)\n",
    "    print(\"*** Cov mean ***\")\n",
    "    allset_cov_mean = np.cov(np.asarray(subset_raw_sum_list)) / (clock_size - subset_size + 1)\n",
    "    print(allset_cov_mean)\n",
    "    \n",
    "    # 4. Calculate the inverse of covariance matrix mean\n",
    "    print(\"*** Inverse Cov mean ***\")\n",
    "    allset_cov_mean_inverse = np.linalg.inv(allset_cov_mean)\n",
    "    print(allset_cov_mean_inverse)\n",
    "    \n",
    "    # 5. Calculate weight\n",
    "    print(\"*** Weight ***\")\n",
    "    weight = np.dot(allset_cov_mean_inverse, A) / np.dot(np.dot(A.T, allset_cov_mean_inverse), A)\n",
    "    print(weight)\n",
    "\n",
    "    # 6. Calculate weighted clock\n",
    "    print(\"*** Weighted output ***\")\n",
    "    Z = (np.dot(weight.T, np.asarray(subset_raw_sum_list)) / (clock_size - subset_size + 1))[0]\n",
    "    print(Z)\n",
    "    \n",
    "    # 7. Select the last element in Z as the estimation of weighted clock\n",
    "    weighted_clock_estimation.append(Z[-1])\n",
    "    \n",
    "# 8. Visualize weighted clock estimation and each clock\n",
    "print(\"------------------Overall------------------\")\n",
    "print(\"*** Weighted clock estimation ***\")\n",
    "print(weighted_clock_estimation)\n",
    "\n",
    "real_clock = y_t[-(int((y_t.shape[0] - window_size) / window_step) + 1):,]\n",
    "real_clock_mean = np.mean(real_clock, axis=1)\n",
    "print(\"*** Mean clock estimation ***\")\n",
    "print(real_clock_mean)\n",
    "\n",
    "print(\"*** Clock covariance matrix ***\")\n",
    "print(np.cov(real_clock.T))\n",
    "\n",
    "fig = plt.figure(facecolor='white')\n",
    "plt.plot(weighted_clock_estimation)\n",
    "plt.plot(real_clock_mean)\n",
    "plt.show()\n",
    "\n",
    "fig = plt.figure(facecolor='white')\n",
    "plt.plot(real_clock)\n",
    "plt.show()\n",
    "\n",
    "# 9. Calculate Allan variance\n",
    "print(\"*** Weighted clock's Allan Variance ***\")\n",
    "(taus, adevs, errors, ns) = allantools.adev(weighted_clock_estimation)\n",
    "print('taus - %s, adevs - %s' % (taus, adevs))\n",
    "\n",
    "print(\"*** Mean clock's Allan Variance ***\")\n",
    "(taus, adevs, errors, ns) = allantools.adev(real_clock_mean)\n",
    "print('taus - %s, adevs - %s' % (taus, adevs))\n",
    "\n",
    "print(\"*** Each clock's Allan Variance ***\")\n",
    "for i in range(real_clock.shape[1]):\n",
    "    (taus, adevs, errors, ns) = allantools.adev(real_clock[:,i])\n",
    "    print('taus - %s, adevs - %s' % (taus, adevs))"
   ]
  },
  {
   "cell_type": "markdown",
   "metadata": {},
   "source": [
    "### 计算R(n)的估计\n",
    "$ \\hat{R}(n)=\\frac{1}{(2K+1)(M-L+1)}\\sum_{k=-K}^K\\sum_{l=0}^{M-L}\\bar{X_l}(n-k)\\bar{X_l}(n-k)^{H} $"
   ]
  }
 ],
 "metadata": {
  "kernelspec": {
   "display_name": "Python 3",
   "language": "python",
   "name": "python3"
  },
  "language_info": {
   "codemirror_mode": {
    "name": "ipython",
    "version": 3
   },
   "file_extension": ".py",
   "mimetype": "text/x-python",
   "name": "python",
   "nbconvert_exporter": "python",
   "pygments_lexer": "ipython3",
   "version": "3.6.8"
  }
 },
 "nbformat": 4,
 "nbformat_minor": 4
}
